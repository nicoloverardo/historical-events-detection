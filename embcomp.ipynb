{
 "cells": [
  {
   "cell_type": "code",
   "execution_count": 1,
   "metadata": {
    "execution": {
     "iopub.execute_input": "2020-10-11T11:12:05.914846Z",
     "iopub.status.busy": "2020-10-11T11:12:05.913601Z",
     "iopub.status.idle": "2020-10-11T11:12:06.837189Z",
     "shell.execute_reply": "2020-10-11T11:12:06.836656Z",
     "shell.execute_reply.started": "2020-10-11T11:12:05.914539Z"
    }
   },
   "outputs": [],
   "source": [
    "import pandas as pd\n",
    "\n",
    "from embhand import EmbeddingsHandler"
   ]
  },
  {
   "cell_type": "code",
   "execution_count": 2,
   "metadata": {
    "execution": {
     "iopub.execute_input": "2020-10-11T11:12:06.838040Z",
     "iopub.status.busy": "2020-10-11T11:12:06.837909Z",
     "iopub.status.idle": "2020-10-11T11:12:07.010824Z",
     "shell.execute_reply": "2020-10-11T11:12:07.010307Z",
     "shell.execute_reply.started": "2020-10-11T11:12:06.838024Z"
    }
   },
   "outputs": [],
   "source": [
    "glove = EmbeddingsHandler.load_glove(\"wordemb/glove.840B.300d.txt\", 5000)"
   ]
  },
  {
   "cell_type": "code",
   "execution_count": 3,
   "metadata": {
    "execution": {
     "iopub.execute_input": "2020-10-11T11:12:07.011843Z",
     "iopub.status.busy": "2020-10-11T11:12:07.011714Z",
     "iopub.status.idle": "2020-10-11T11:12:07.174547Z",
     "shell.execute_reply": "2020-10-11T11:12:07.174000Z",
     "shell.execute_reply.started": "2020-10-11T11:12:07.011827Z"
    }
   },
   "outputs": [],
   "source": [
    "histo_glove = EmbeddingsHandler.load_glove(\"wordemb/HistoGlove.txt\", 5000)"
   ]
  },
  {
   "cell_type": "code",
   "execution_count": 4,
   "metadata": {
    "execution": {
     "iopub.execute_input": "2020-10-11T11:12:07.175479Z",
     "iopub.status.busy": "2020-10-11T11:12:07.175350Z",
     "iopub.status.idle": "2020-10-11T11:12:07.193810Z",
     "shell.execute_reply": "2020-10-11T11:12:07.193275Z",
     "shell.execute_reply.started": "2020-10-11T11:12:07.175463Z"
    }
   },
   "outputs": [],
   "source": [
    "glove.sort_index(inplace=True)\n",
    "histo_glove.sort_index(inplace=True)"
   ]
  },
  {
   "cell_type": "code",
   "execution_count": 5,
   "metadata": {
    "execution": {
     "iopub.execute_input": "2020-10-11T11:12:07.194700Z",
     "iopub.status.busy": "2020-10-11T11:12:07.194540Z",
     "iopub.status.idle": "2020-10-11T11:12:08.656072Z",
     "shell.execute_reply": "2020-10-11T11:12:08.655588Z",
     "shell.execute_reply.started": "2020-10-11T11:12:07.194680Z"
    }
   },
   "outputs": [],
   "source": [
    "glove = EmbeddingsHandler.filter_indices(glove)\n",
    "histo_glove = EmbeddingsHandler.filter_indices(histo_glove)"
   ]
  },
  {
   "cell_type": "code",
   "execution_count": 6,
   "metadata": {
    "execution": {
     "iopub.execute_input": "2020-10-11T11:12:08.656762Z",
     "iopub.status.busy": "2020-10-11T11:12:08.656627Z",
     "iopub.status.idle": "2020-10-11T11:12:08.659958Z",
     "shell.execute_reply": "2020-10-11T11:12:08.659466Z",
     "shell.execute_reply.started": "2020-10-11T11:12:08.656747Z"
    }
   },
   "outputs": [],
   "source": [
    "glove.sort_index(inplace=True)\n",
    "histo_glove.sort_index(inplace=True)"
   ]
  },
  {
   "cell_type": "code",
   "execution_count": 7,
   "metadata": {
    "execution": {
     "iopub.execute_input": "2020-10-11T11:12:08.660754Z",
     "iopub.status.busy": "2020-10-11T11:12:08.660601Z",
     "iopub.status.idle": "2020-10-11T11:12:08.688503Z",
     "shell.execute_reply": "2020-10-11T11:12:08.687896Z",
     "shell.execute_reply.started": "2020-10-11T11:12:08.660735Z"
    }
   },
   "outputs": [],
   "source": [
    "inters = glove.index.intersection(histo_glove.index)\n",
    "\n",
    "glove = glove[glove.index.isin(inters)]\n",
    "histo_glove = histo_glove[histo_glove.index.isin(inters)]"
   ]
  },
  {
   "cell_type": "code",
   "execution_count": 8,
   "metadata": {
    "execution": {
     "iopub.execute_input": "2020-10-11T11:12:08.689337Z",
     "iopub.status.busy": "2020-10-11T11:12:08.689189Z",
     "iopub.status.idle": "2020-10-11T11:12:08.695265Z",
     "shell.execute_reply": "2020-10-11T11:12:08.694766Z",
     "shell.execute_reply.started": "2020-10-11T11:12:08.689318Z"
    }
   },
   "outputs": [],
   "source": [
    "glove.sort_index(inplace=True)\n",
    "histo_glove.sort_index(inplace=True)"
   ]
  },
  {
   "cell_type": "code",
   "execution_count": 9,
   "metadata": {
    "execution": {
     "iopub.execute_input": "2020-10-11T11:12:08.696969Z",
     "iopub.status.busy": "2020-10-11T11:12:08.696804Z",
     "iopub.status.idle": "2020-10-11T11:12:08.718897Z",
     "shell.execute_reply": "2020-10-11T11:12:08.718478Z",
     "shell.execute_reply.started": "2020-10-11T11:12:08.696949Z"
    }
   },
   "outputs": [
    {
     "data": {
      "text/html": [
       "<div>\n",
       "<style scoped>\n",
       "    .dataframe tbody tr th:only-of-type {\n",
       "        vertical-align: middle;\n",
       "    }\n",
       "\n",
       "    .dataframe tbody tr th {\n",
       "        vertical-align: top;\n",
       "    }\n",
       "\n",
       "    .dataframe thead th {\n",
       "        text-align: right;\n",
       "    }\n",
       "</style>\n",
       "<table border=\"1\" class=\"dataframe\">\n",
       "  <thead>\n",
       "    <tr style=\"text-align: right;\">\n",
       "      <th></th>\n",
       "      <th>1</th>\n",
       "      <th>2</th>\n",
       "      <th>3</th>\n",
       "      <th>4</th>\n",
       "      <th>5</th>\n",
       "      <th>6</th>\n",
       "      <th>7</th>\n",
       "      <th>8</th>\n",
       "      <th>9</th>\n",
       "      <th>10</th>\n",
       "      <th>...</th>\n",
       "      <th>291</th>\n",
       "      <th>292</th>\n",
       "      <th>293</th>\n",
       "      <th>294</th>\n",
       "      <th>295</th>\n",
       "      <th>296</th>\n",
       "      <th>297</th>\n",
       "      <th>298</th>\n",
       "      <th>299</th>\n",
       "      <th>300</th>\n",
       "    </tr>\n",
       "    <tr>\n",
       "      <th>0</th>\n",
       "      <th></th>\n",
       "      <th></th>\n",
       "      <th></th>\n",
       "      <th></th>\n",
       "      <th></th>\n",
       "      <th></th>\n",
       "      <th></th>\n",
       "      <th></th>\n",
       "      <th></th>\n",
       "      <th></th>\n",
       "      <th></th>\n",
       "      <th></th>\n",
       "      <th></th>\n",
       "      <th></th>\n",
       "      <th></th>\n",
       "      <th></th>\n",
       "      <th></th>\n",
       "      <th></th>\n",
       "      <th></th>\n",
       "      <th></th>\n",
       "      <th></th>\n",
       "    </tr>\n",
       "  </thead>\n",
       "  <tbody>\n",
       "    <tr>\n",
       "      <th>ability</th>\n",
       "      <td>-0.393260</td>\n",
       "      <td>0.39245</td>\n",
       "      <td>-0.239470</td>\n",
       "      <td>0.14063</td>\n",
       "      <td>-0.558840</td>\n",
       "      <td>0.046301</td>\n",
       "      <td>-0.34033</td>\n",
       "      <td>0.393660</td>\n",
       "      <td>-0.314860</td>\n",
       "      <td>2.3024</td>\n",
       "      <td>...</td>\n",
       "      <td>-0.50527</td>\n",
       "      <td>0.29723</td>\n",
       "      <td>-0.37871</td>\n",
       "      <td>0.261870</td>\n",
       "      <td>-0.046033</td>\n",
       "      <td>0.035266</td>\n",
       "      <td>-0.215670</td>\n",
       "      <td>-0.097472</td>\n",
       "      <td>0.344270</td>\n",
       "      <td>-0.21476</td>\n",
       "    </tr>\n",
       "    <tr>\n",
       "      <th>able</th>\n",
       "      <td>-0.024725</td>\n",
       "      <td>0.13229</td>\n",
       "      <td>-0.336350</td>\n",
       "      <td>0.25579</td>\n",
       "      <td>-0.019812</td>\n",
       "      <td>-0.088370</td>\n",
       "      <td>-0.23868</td>\n",
       "      <td>0.080368</td>\n",
       "      <td>0.101440</td>\n",
       "      <td>2.7514</td>\n",
       "      <td>...</td>\n",
       "      <td>-0.43014</td>\n",
       "      <td>0.38153</td>\n",
       "      <td>-0.28382</td>\n",
       "      <td>0.108320</td>\n",
       "      <td>0.259360</td>\n",
       "      <td>-0.245450</td>\n",
       "      <td>0.032101</td>\n",
       "      <td>-0.159560</td>\n",
       "      <td>0.353500</td>\n",
       "      <td>-0.07547</td>\n",
       "    </tr>\n",
       "    <tr>\n",
       "      <th>absolute</th>\n",
       "      <td>-0.144590</td>\n",
       "      <td>0.22050</td>\n",
       "      <td>0.086909</td>\n",
       "      <td>0.33820</td>\n",
       "      <td>0.227890</td>\n",
       "      <td>-0.245810</td>\n",
       "      <td>0.13967</td>\n",
       "      <td>0.267030</td>\n",
       "      <td>0.092204</td>\n",
       "      <td>1.6055</td>\n",
       "      <td>...</td>\n",
       "      <td>0.56089</td>\n",
       "      <td>0.10089</td>\n",
       "      <td>0.17158</td>\n",
       "      <td>-0.077150</td>\n",
       "      <td>0.122550</td>\n",
       "      <td>0.231600</td>\n",
       "      <td>0.085743</td>\n",
       "      <td>-0.349950</td>\n",
       "      <td>0.054713</td>\n",
       "      <td>-0.29884</td>\n",
       "    </tr>\n",
       "    <tr>\n",
       "      <th>absolutely</th>\n",
       "      <td>-0.135610</td>\n",
       "      <td>0.50011</td>\n",
       "      <td>-0.404670</td>\n",
       "      <td>0.19862</td>\n",
       "      <td>-0.129490</td>\n",
       "      <td>0.037039</td>\n",
       "      <td>-0.01934</td>\n",
       "      <td>-0.352330</td>\n",
       "      <td>-0.136370</td>\n",
       "      <td>2.3351</td>\n",
       "      <td>...</td>\n",
       "      <td>0.07478</td>\n",
       "      <td>0.30573</td>\n",
       "      <td>-0.13266</td>\n",
       "      <td>0.032253</td>\n",
       "      <td>0.301600</td>\n",
       "      <td>0.284520</td>\n",
       "      <td>0.008647</td>\n",
       "      <td>-0.314380</td>\n",
       "      <td>0.244990</td>\n",
       "      <td>-0.16272</td>\n",
       "    </tr>\n",
       "    <tr>\n",
       "      <th>accept</th>\n",
       "      <td>-0.070007</td>\n",
       "      <td>0.15351</td>\n",
       "      <td>-0.340300</td>\n",
       "      <td>0.25065</td>\n",
       "      <td>0.060614</td>\n",
       "      <td>-0.166570</td>\n",
       "      <td>-0.35126</td>\n",
       "      <td>0.128660</td>\n",
       "      <td>0.100550</td>\n",
       "      <td>2.4681</td>\n",
       "      <td>...</td>\n",
       "      <td>-0.17929</td>\n",
       "      <td>0.45416</td>\n",
       "      <td>-0.37821</td>\n",
       "      <td>-0.146130</td>\n",
       "      <td>0.411630</td>\n",
       "      <td>-0.135970</td>\n",
       "      <td>-0.192650</td>\n",
       "      <td>-0.105480</td>\n",
       "      <td>0.268020</td>\n",
       "      <td>0.14208</td>\n",
       "    </tr>\n",
       "  </tbody>\n",
       "</table>\n",
       "<p>5 rows × 300 columns</p>\n",
       "</div>"
      ],
      "text/plain": [
       "                 1        2         3        4         5         6        7    \\\n",
       "0                                                                               \n",
       "ability    -0.393260  0.39245 -0.239470  0.14063 -0.558840  0.046301 -0.34033   \n",
       "able       -0.024725  0.13229 -0.336350  0.25579 -0.019812 -0.088370 -0.23868   \n",
       "absolute   -0.144590  0.22050  0.086909  0.33820  0.227890 -0.245810  0.13967   \n",
       "absolutely -0.135610  0.50011 -0.404670  0.19862 -0.129490  0.037039 -0.01934   \n",
       "accept     -0.070007  0.15351 -0.340300  0.25065  0.060614 -0.166570 -0.35126   \n",
       "\n",
       "                 8         9       10   ...      291      292      293  \\\n",
       "0                                       ...                              \n",
       "ability     0.393660 -0.314860  2.3024  ... -0.50527  0.29723 -0.37871   \n",
       "able        0.080368  0.101440  2.7514  ... -0.43014  0.38153 -0.28382   \n",
       "absolute    0.267030  0.092204  1.6055  ...  0.56089  0.10089  0.17158   \n",
       "absolutely -0.352330 -0.136370  2.3351  ...  0.07478  0.30573 -0.13266   \n",
       "accept      0.128660  0.100550  2.4681  ... -0.17929  0.45416 -0.37821   \n",
       "\n",
       "                 294       295       296       297       298       299  \\\n",
       "0                                                                        \n",
       "ability     0.261870 -0.046033  0.035266 -0.215670 -0.097472  0.344270   \n",
       "able        0.108320  0.259360 -0.245450  0.032101 -0.159560  0.353500   \n",
       "absolute   -0.077150  0.122550  0.231600  0.085743 -0.349950  0.054713   \n",
       "absolutely  0.032253  0.301600  0.284520  0.008647 -0.314380  0.244990   \n",
       "accept     -0.146130  0.411630 -0.135970 -0.192650 -0.105480  0.268020   \n",
       "\n",
       "                300  \n",
       "0                    \n",
       "ability    -0.21476  \n",
       "able       -0.07547  \n",
       "absolute   -0.29884  \n",
       "absolutely -0.16272  \n",
       "accept      0.14208  \n",
       "\n",
       "[5 rows x 300 columns]"
      ]
     },
     "execution_count": 9,
     "metadata": {},
     "output_type": "execute_result"
    }
   ],
   "source": [
    "glove.head()"
   ]
  },
  {
   "cell_type": "code",
   "execution_count": 10,
   "metadata": {
    "execution": {
     "iopub.execute_input": "2020-10-11T11:12:08.720036Z",
     "iopub.status.busy": "2020-10-11T11:12:08.719893Z",
     "iopub.status.idle": "2020-10-11T11:12:08.738511Z",
     "shell.execute_reply": "2020-10-11T11:12:08.737961Z",
     "shell.execute_reply.started": "2020-10-11T11:12:08.720018Z"
    }
   },
   "outputs": [
    {
     "data": {
      "text/html": [
       "<div>\n",
       "<style scoped>\n",
       "    .dataframe tbody tr th:only-of-type {\n",
       "        vertical-align: middle;\n",
       "    }\n",
       "\n",
       "    .dataframe tbody tr th {\n",
       "        vertical-align: top;\n",
       "    }\n",
       "\n",
       "    .dataframe thead th {\n",
       "        text-align: right;\n",
       "    }\n",
       "</style>\n",
       "<table border=\"1\" class=\"dataframe\">\n",
       "  <thead>\n",
       "    <tr style=\"text-align: right;\">\n",
       "      <th></th>\n",
       "      <th>1</th>\n",
       "      <th>2</th>\n",
       "      <th>3</th>\n",
       "      <th>4</th>\n",
       "      <th>5</th>\n",
       "      <th>6</th>\n",
       "      <th>7</th>\n",
       "      <th>8</th>\n",
       "      <th>9</th>\n",
       "      <th>10</th>\n",
       "      <th>...</th>\n",
       "      <th>291</th>\n",
       "      <th>292</th>\n",
       "      <th>293</th>\n",
       "      <th>294</th>\n",
       "      <th>295</th>\n",
       "      <th>296</th>\n",
       "      <th>297</th>\n",
       "      <th>298</th>\n",
       "      <th>299</th>\n",
       "      <th>300</th>\n",
       "    </tr>\n",
       "    <tr>\n",
       "      <th>0</th>\n",
       "      <th></th>\n",
       "      <th></th>\n",
       "      <th></th>\n",
       "      <th></th>\n",
       "      <th></th>\n",
       "      <th></th>\n",
       "      <th></th>\n",
       "      <th></th>\n",
       "      <th></th>\n",
       "      <th></th>\n",
       "      <th></th>\n",
       "      <th></th>\n",
       "      <th></th>\n",
       "      <th></th>\n",
       "      <th></th>\n",
       "      <th></th>\n",
       "      <th></th>\n",
       "      <th></th>\n",
       "      <th></th>\n",
       "      <th></th>\n",
       "      <th></th>\n",
       "    </tr>\n",
       "  </thead>\n",
       "  <tbody>\n",
       "    <tr>\n",
       "      <th>ability</th>\n",
       "      <td>-0.197475</td>\n",
       "      <td>0.631508</td>\n",
       "      <td>0.091767</td>\n",
       "      <td>0.021694</td>\n",
       "      <td>0.136945</td>\n",
       "      <td>0.036152</td>\n",
       "      <td>-0.265049</td>\n",
       "      <td>0.339554</td>\n",
       "      <td>-0.529994</td>\n",
       "      <td>-0.328321</td>\n",
       "      <td>...</td>\n",
       "      <td>0.140650</td>\n",
       "      <td>-0.059048</td>\n",
       "      <td>-0.495625</td>\n",
       "      <td>0.328176</td>\n",
       "      <td>-0.568652</td>\n",
       "      <td>0.514420</td>\n",
       "      <td>-0.369352</td>\n",
       "      <td>-0.022673</td>\n",
       "      <td>0.141906</td>\n",
       "      <td>-0.132009</td>\n",
       "    </tr>\n",
       "    <tr>\n",
       "      <th>able</th>\n",
       "      <td>0.275543</td>\n",
       "      <td>0.125091</td>\n",
       "      <td>-0.055266</td>\n",
       "      <td>-0.075719</td>\n",
       "      <td>0.206845</td>\n",
       "      <td>-0.007509</td>\n",
       "      <td>-0.275733</td>\n",
       "      <td>-0.019687</td>\n",
       "      <td>-0.382626</td>\n",
       "      <td>-0.346192</td>\n",
       "      <td>...</td>\n",
       "      <td>0.469618</td>\n",
       "      <td>-0.036446</td>\n",
       "      <td>-0.401999</td>\n",
       "      <td>0.053231</td>\n",
       "      <td>-0.136221</td>\n",
       "      <td>0.182191</td>\n",
       "      <td>-0.128628</td>\n",
       "      <td>-0.137478</td>\n",
       "      <td>-0.118922</td>\n",
       "      <td>0.212485</td>\n",
       "    </tr>\n",
       "    <tr>\n",
       "      <th>absolute</th>\n",
       "      <td>0.014913</td>\n",
       "      <td>-0.052939</td>\n",
       "      <td>-0.031694</td>\n",
       "      <td>0.653296</td>\n",
       "      <td>-0.320056</td>\n",
       "      <td>-0.136214</td>\n",
       "      <td>0.028422</td>\n",
       "      <td>-0.131987</td>\n",
       "      <td>0.034415</td>\n",
       "      <td>-0.002520</td>\n",
       "      <td>...</td>\n",
       "      <td>0.278762</td>\n",
       "      <td>-0.008173</td>\n",
       "      <td>0.344910</td>\n",
       "      <td>-0.232140</td>\n",
       "      <td>0.056347</td>\n",
       "      <td>0.186869</td>\n",
       "      <td>-0.457866</td>\n",
       "      <td>-0.621475</td>\n",
       "      <td>0.133116</td>\n",
       "      <td>-0.779085</td>\n",
       "    </tr>\n",
       "    <tr>\n",
       "      <th>absolutely</th>\n",
       "      <td>0.367234</td>\n",
       "      <td>0.015193</td>\n",
       "      <td>0.328400</td>\n",
       "      <td>0.169398</td>\n",
       "      <td>-0.212155</td>\n",
       "      <td>0.103126</td>\n",
       "      <td>0.658875</td>\n",
       "      <td>0.186441</td>\n",
       "      <td>-0.106735</td>\n",
       "      <td>-0.248525</td>\n",
       "      <td>...</td>\n",
       "      <td>0.126433</td>\n",
       "      <td>-0.384440</td>\n",
       "      <td>-0.174087</td>\n",
       "      <td>0.223493</td>\n",
       "      <td>0.025478</td>\n",
       "      <td>0.636215</td>\n",
       "      <td>0.001488</td>\n",
       "      <td>-0.406235</td>\n",
       "      <td>0.162697</td>\n",
       "      <td>-0.506824</td>\n",
       "    </tr>\n",
       "    <tr>\n",
       "      <th>accept</th>\n",
       "      <td>0.117187</td>\n",
       "      <td>0.125642</td>\n",
       "      <td>0.643509</td>\n",
       "      <td>-0.186497</td>\n",
       "      <td>0.320158</td>\n",
       "      <td>0.168898</td>\n",
       "      <td>0.147955</td>\n",
       "      <td>-0.290761</td>\n",
       "      <td>-0.268707</td>\n",
       "      <td>0.212366</td>\n",
       "      <td>...</td>\n",
       "      <td>0.228446</td>\n",
       "      <td>-0.394743</td>\n",
       "      <td>0.007707</td>\n",
       "      <td>0.431432</td>\n",
       "      <td>-0.136534</td>\n",
       "      <td>-0.021808</td>\n",
       "      <td>-0.222026</td>\n",
       "      <td>0.090167</td>\n",
       "      <td>-0.237058</td>\n",
       "      <td>-0.076477</td>\n",
       "    </tr>\n",
       "  </tbody>\n",
       "</table>\n",
       "<p>5 rows × 300 columns</p>\n",
       "</div>"
      ],
      "text/plain": [
       "                 1         2         3         4         5         6    \\\n",
       "0                                                                        \n",
       "ability    -0.197475  0.631508  0.091767  0.021694  0.136945  0.036152   \n",
       "able        0.275543  0.125091 -0.055266 -0.075719  0.206845 -0.007509   \n",
       "absolute    0.014913 -0.052939 -0.031694  0.653296 -0.320056 -0.136214   \n",
       "absolutely  0.367234  0.015193  0.328400  0.169398 -0.212155  0.103126   \n",
       "accept      0.117187  0.125642  0.643509 -0.186497  0.320158  0.168898   \n",
       "\n",
       "                 7         8         9         10   ...       291       292  \\\n",
       "0                                                   ...                       \n",
       "ability    -0.265049  0.339554 -0.529994 -0.328321  ...  0.140650 -0.059048   \n",
       "able       -0.275733 -0.019687 -0.382626 -0.346192  ...  0.469618 -0.036446   \n",
       "absolute    0.028422 -0.131987  0.034415 -0.002520  ...  0.278762 -0.008173   \n",
       "absolutely  0.658875  0.186441 -0.106735 -0.248525  ...  0.126433 -0.384440   \n",
       "accept      0.147955 -0.290761 -0.268707  0.212366  ...  0.228446 -0.394743   \n",
       "\n",
       "                 293       294       295       296       297       298  \\\n",
       "0                                                                        \n",
       "ability    -0.495625  0.328176 -0.568652  0.514420 -0.369352 -0.022673   \n",
       "able       -0.401999  0.053231 -0.136221  0.182191 -0.128628 -0.137478   \n",
       "absolute    0.344910 -0.232140  0.056347  0.186869 -0.457866 -0.621475   \n",
       "absolutely -0.174087  0.223493  0.025478  0.636215  0.001488 -0.406235   \n",
       "accept      0.007707  0.431432 -0.136534 -0.021808 -0.222026  0.090167   \n",
       "\n",
       "                 299       300  \n",
       "0                               \n",
       "ability     0.141906 -0.132009  \n",
       "able       -0.118922  0.212485  \n",
       "absolute    0.133116 -0.779085  \n",
       "absolutely  0.162697 -0.506824  \n",
       "accept     -0.237058 -0.076477  \n",
       "\n",
       "[5 rows x 300 columns]"
      ]
     },
     "execution_count": 10,
     "metadata": {},
     "output_type": "execute_result"
    }
   ],
   "source": [
    "histo_glove.head()"
   ]
  },
  {
   "cell_type": "code",
   "execution_count": 11,
   "metadata": {
    "execution": {
     "iopub.execute_input": "2020-10-11T11:12:08.739407Z",
     "iopub.status.busy": "2020-10-11T11:12:08.739227Z",
     "iopub.status.idle": "2020-10-11T11:12:08.757234Z",
     "shell.execute_reply": "2020-10-11T11:12:08.756573Z",
     "shell.execute_reply.started": "2020-10-11T11:12:08.739387Z"
    }
   },
   "outputs": [
    {
     "name": "stdout",
     "output_type": "stream",
     "text": [
      "<class 'pandas.core.frame.DataFrame'>\n",
      "Index: 2297 entries, ability to youth\n",
      "Columns: 300 entries, 1 to 300\n",
      "dtypes: float64(300)\n",
      "memory usage: 5.3+ MB\n"
     ]
    }
   ],
   "source": [
    "glove.info()"
   ]
  },
  {
   "cell_type": "code",
   "execution_count": 12,
   "metadata": {
    "execution": {
     "iopub.execute_input": "2020-10-11T11:12:08.758606Z",
     "iopub.status.busy": "2020-10-11T11:12:08.758343Z",
     "iopub.status.idle": "2020-10-11T11:12:09.128040Z",
     "shell.execute_reply": "2020-10-11T11:12:09.127343Z",
     "shell.execute_reply.started": "2020-10-11T11:12:08.758571Z"
    }
   },
   "outputs": [
    {
     "data": {
      "image/png": "[encoded data removed]",
      "text/plain": [
       "<Figure size 432x288 with 1 Axes>"
      ]
     },
     "metadata": {
      "needs_background": "light"
     },
     "output_type": "display_data"
    }
   ],
   "source": [
    "EmbeddingsHandler.plot_word_vectors(histo_glove, glove, \"man\")"
   ]
  },
  {
   "cell_type": "code",
   "execution_count": 13,
   "metadata": {
    "execution": {
     "iopub.execute_input": "2020-10-11T11:12:09.129127Z",
     "iopub.status.busy": "2020-10-11T11:12:09.128882Z",
     "iopub.status.idle": "2020-10-11T11:12:09.382757Z",
     "shell.execute_reply": "2020-10-11T11:12:09.382201Z",
     "shell.execute_reply.started": "2020-10-11T11:12:09.129107Z"
    }
   },
   "outputs": [],
   "source": [
    "glove_dict = EmbeddingsHandler.to_dict(glove)\n",
    "histo_dict = EmbeddingsHandler.to_dict(histo_glove)"
   ]
  },
  {
   "cell_type": "code",
   "execution_count": 14,
   "metadata": {
    "execution": {
     "iopub.execute_input": "2020-10-11T11:12:09.383581Z",
     "iopub.status.busy": "2020-10-11T11:12:09.383417Z",
     "iopub.status.idle": "2020-10-11T11:12:09.387464Z",
     "shell.execute_reply": "2020-10-11T11:12:09.386799Z",
     "shell.execute_reply.started": "2020-10-11T11:12:09.383560Z"
    }
   },
   "outputs": [],
   "source": [
    "rs_histo, rs_glove = EmbeddingsHandler.reshape_vocab(histo_dict, glove_dict)"
   ]
  },
  {
   "cell_type": "code",
   "execution_count": 15,
   "metadata": {
    "execution": {
     "iopub.execute_input": "2020-10-11T11:12:09.388691Z",
     "iopub.status.busy": "2020-10-11T11:12:09.388405Z",
     "iopub.status.idle": "2020-10-11T11:12:09.594075Z",
     "shell.execute_reply": "2020-10-11T11:12:09.593381Z",
     "shell.execute_reply.started": "2020-10-11T11:12:09.388667Z"
    }
   },
   "outputs": [],
   "source": [
    "rotated_histo = EmbeddingsHandler.rotate_emb(rs_histo, rs_glove)"
   ]
  },
  {
   "cell_type": "code",
   "execution_count": 16,
   "metadata": {
    "execution": {
     "iopub.execute_input": "2020-10-11T11:12:09.595341Z",
     "iopub.status.busy": "2020-10-11T11:12:09.595139Z",
     "iopub.status.idle": "2020-10-11T11:12:09.709542Z",
     "shell.execute_reply": "2020-10-11T11:12:09.708705Z",
     "shell.execute_reply.started": "2020-10-11T11:12:09.595316Z"
    }
   },
   "outputs": [],
   "source": [
    "rot_histo_df = pd.DataFrame.from_dict(rotated_histo).T"
   ]
  },
  {
   "cell_type": "code",
   "execution_count": 17,
   "metadata": {
    "execution": {
     "iopub.execute_input": "2020-10-11T11:12:09.713671Z",
     "iopub.status.busy": "2020-10-11T11:12:09.712980Z",
     "iopub.status.idle": "2020-10-11T11:12:09.723905Z",
     "shell.execute_reply": "2020-10-11T11:12:09.723395Z",
     "shell.execute_reply.started": "2020-10-11T11:12:09.713633Z"
    }
   },
   "outputs": [],
   "source": [
    "rot_histo_df.sort_index(inplace=True)"
   ]
  },
  {
   "cell_type": "code",
   "execution_count": 18,
   "metadata": {
    "execution": {
     "iopub.execute_input": "2020-10-11T11:12:09.724673Z",
     "iopub.status.busy": "2020-10-11T11:12:09.724547Z",
     "iopub.status.idle": "2020-10-11T11:12:09.740664Z",
     "shell.execute_reply": "2020-10-11T11:12:09.740192Z",
     "shell.execute_reply.started": "2020-10-11T11:12:09.724658Z"
    }
   },
   "outputs": [
    {
     "data": {
      "text/html": [
       "<div>\n",
       "<style scoped>\n",
       "    .dataframe tbody tr th:only-of-type {\n",
       "        vertical-align: middle;\n",
       "    }\n",
       "\n",
       "    .dataframe tbody tr th {\n",
       "        vertical-align: top;\n",
       "    }\n",
       "\n",
       "    .dataframe thead th {\n",
       "        text-align: right;\n",
       "    }\n",
       "</style>\n",
       "<table border=\"1\" class=\"dataframe\">\n",
       "  <thead>\n",
       "    <tr style=\"text-align: right;\">\n",
       "      <th></th>\n",
       "      <th>0</th>\n",
       "      <th>1</th>\n",
       "      <th>2</th>\n",
       "      <th>3</th>\n",
       "      <th>4</th>\n",
       "      <th>5</th>\n",
       "      <th>6</th>\n",
       "      <th>7</th>\n",
       "      <th>8</th>\n",
       "      <th>9</th>\n",
       "      <th>...</th>\n",
       "      <th>290</th>\n",
       "      <th>291</th>\n",
       "      <th>292</th>\n",
       "      <th>293</th>\n",
       "      <th>294</th>\n",
       "      <th>295</th>\n",
       "      <th>296</th>\n",
       "      <th>297</th>\n",
       "      <th>298</th>\n",
       "      <th>299</th>\n",
       "    </tr>\n",
       "  </thead>\n",
       "  <tbody>\n",
       "    <tr>\n",
       "      <th>ability</th>\n",
       "      <td>-0.152533</td>\n",
       "      <td>0.144981</td>\n",
       "      <td>0.155095</td>\n",
       "      <td>-0.019162</td>\n",
       "      <td>-0.331899</td>\n",
       "      <td>0.211785</td>\n",
       "      <td>-0.100859</td>\n",
       "      <td>0.263229</td>\n",
       "      <td>-0.121420</td>\n",
       "      <td>1.699841</td>\n",
       "      <td>...</td>\n",
       "      <td>-0.293241</td>\n",
       "      <td>0.391659</td>\n",
       "      <td>-0.462548</td>\n",
       "      <td>-0.085006</td>\n",
       "      <td>0.038222</td>\n",
       "      <td>-0.222191</td>\n",
       "      <td>0.211840</td>\n",
       "      <td>-0.079214</td>\n",
       "      <td>0.160382</td>\n",
       "      <td>-0.256088</td>\n",
       "    </tr>\n",
       "    <tr>\n",
       "      <th>able</th>\n",
       "      <td>-0.251020</td>\n",
       "      <td>-0.054020</td>\n",
       "      <td>-0.564547</td>\n",
       "      <td>0.151678</td>\n",
       "      <td>-0.288751</td>\n",
       "      <td>0.033534</td>\n",
       "      <td>-0.275585</td>\n",
       "      <td>0.175563</td>\n",
       "      <td>-0.021912</td>\n",
       "      <td>2.260173</td>\n",
       "      <td>...</td>\n",
       "      <td>-0.327855</td>\n",
       "      <td>0.466568</td>\n",
       "      <td>-0.384453</td>\n",
       "      <td>0.040421</td>\n",
       "      <td>0.099992</td>\n",
       "      <td>-0.383057</td>\n",
       "      <td>0.221378</td>\n",
       "      <td>-0.348205</td>\n",
       "      <td>0.333815</td>\n",
       "      <td>-0.161211</td>\n",
       "    </tr>\n",
       "    <tr>\n",
       "      <th>absolute</th>\n",
       "      <td>0.051150</td>\n",
       "      <td>-0.105292</td>\n",
       "      <td>-0.134790</td>\n",
       "      <td>0.200465</td>\n",
       "      <td>0.215818</td>\n",
       "      <td>-0.091622</td>\n",
       "      <td>-0.089325</td>\n",
       "      <td>0.324408</td>\n",
       "      <td>0.387814</td>\n",
       "      <td>0.935771</td>\n",
       "      <td>...</td>\n",
       "      <td>0.296014</td>\n",
       "      <td>0.216651</td>\n",
       "      <td>0.345704</td>\n",
       "      <td>-0.125103</td>\n",
       "      <td>0.023092</td>\n",
       "      <td>-0.050854</td>\n",
       "      <td>-0.216372</td>\n",
       "      <td>-0.207821</td>\n",
       "      <td>0.457756</td>\n",
       "      <td>-0.364529</td>\n",
       "    </tr>\n",
       "    <tr>\n",
       "      <th>absolutely</th>\n",
       "      <td>0.230054</td>\n",
       "      <td>0.343608</td>\n",
       "      <td>-0.260139</td>\n",
       "      <td>0.239827</td>\n",
       "      <td>-0.112879</td>\n",
       "      <td>0.112687</td>\n",
       "      <td>0.063810</td>\n",
       "      <td>-0.282355</td>\n",
       "      <td>0.005814</td>\n",
       "      <td>1.164870</td>\n",
       "      <td>...</td>\n",
       "      <td>0.316997</td>\n",
       "      <td>0.202823</td>\n",
       "      <td>-0.150848</td>\n",
       "      <td>-0.253788</td>\n",
       "      <td>-0.011430</td>\n",
       "      <td>0.097485</td>\n",
       "      <td>-0.051030</td>\n",
       "      <td>-0.215752</td>\n",
       "      <td>0.274847</td>\n",
       "      <td>-0.158005</td>\n",
       "    </tr>\n",
       "    <tr>\n",
       "      <th>accept</th>\n",
       "      <td>-0.158045</td>\n",
       "      <td>-0.121955</td>\n",
       "      <td>0.123285</td>\n",
       "      <td>0.634218</td>\n",
       "      <td>-0.070106</td>\n",
       "      <td>-0.164586</td>\n",
       "      <td>0.185610</td>\n",
       "      <td>-0.132127</td>\n",
       "      <td>0.232010</td>\n",
       "      <td>1.793677</td>\n",
       "      <td>...</td>\n",
       "      <td>-0.240410</td>\n",
       "      <td>0.492000</td>\n",
       "      <td>-0.039102</td>\n",
       "      <td>-0.204903</td>\n",
       "      <td>0.358680</td>\n",
       "      <td>-0.003441</td>\n",
       "      <td>-0.135094</td>\n",
       "      <td>0.049596</td>\n",
       "      <td>0.385697</td>\n",
       "      <td>0.010435</td>\n",
       "    </tr>\n",
       "  </tbody>\n",
       "</table>\n",
       "<p>5 rows × 300 columns</p>\n",
       "</div>"
      ],
      "text/plain": [
       "                 0         1         2         3         4         5    \\\n",
       "ability    -0.152533  0.144981  0.155095 -0.019162 -0.331899  0.211785   \n",
       "able       -0.251020 -0.054020 -0.564547  0.151678 -0.288751  0.033534   \n",
       "absolute    0.051150 -0.105292 -0.134790  0.200465  0.215818 -0.091622   \n",
       "absolutely  0.230054  0.343608 -0.260139  0.239827 -0.112879  0.112687   \n",
       "accept     -0.158045 -0.121955  0.123285  0.634218 -0.070106 -0.164586   \n",
       "\n",
       "                 6         7         8         9    ...       290       291  \\\n",
       "ability    -0.100859  0.263229 -0.121420  1.699841  ... -0.293241  0.391659   \n",
       "able       -0.275585  0.175563 -0.021912  2.260173  ... -0.327855  0.466568   \n",
       "absolute   -0.089325  0.324408  0.387814  0.935771  ...  0.296014  0.216651   \n",
       "absolutely  0.063810 -0.282355  0.005814  1.164870  ...  0.316997  0.202823   \n",
       "accept      0.185610 -0.132127  0.232010  1.793677  ... -0.240410  0.492000   \n",
       "\n",
       "                 292       293       294       295       296       297  \\\n",
       "ability    -0.462548 -0.085006  0.038222 -0.222191  0.211840 -0.079214   \n",
       "able       -0.384453  0.040421  0.099992 -0.383057  0.221378 -0.348205   \n",
       "absolute    0.345704 -0.125103  0.023092 -0.050854 -0.216372 -0.207821   \n",
       "absolutely -0.150848 -0.253788 -0.011430  0.097485 -0.051030 -0.215752   \n",
       "accept     -0.039102 -0.204903  0.358680 -0.003441 -0.135094  0.049596   \n",
       "\n",
       "                 298       299  \n",
       "ability     0.160382 -0.256088  \n",
       "able        0.333815 -0.161211  \n",
       "absolute    0.457756 -0.364529  \n",
       "absolutely  0.274847 -0.158005  \n",
       "accept      0.385697  0.010435  \n",
       "\n",
       "[5 rows x 300 columns]"
      ]
     },
     "execution_count": 18,
     "metadata": {},
     "output_type": "execute_result"
    }
   ],
   "source": [
    "rot_histo_df.head()"
   ]
  },
  {
   "cell_type": "code",
   "execution_count": 19,
   "metadata": {
    "execution": {
     "iopub.execute_input": "2020-10-11T11:12:09.741471Z",
     "iopub.status.busy": "2020-10-11T11:12:09.741332Z",
     "iopub.status.idle": "2020-10-11T11:12:10.174021Z",
     "shell.execute_reply": "2020-10-11T11:12:10.173527Z",
     "shell.execute_reply.started": "2020-10-11T11:12:09.741454Z"
    }
   },
   "outputs": [
    {
     "data": {
      "image/png": "[encoded data removed]",
      "text/plain": [
       "<Figure size 432x288 with 1 Axes>"
      ]
     },
     "metadata": {
      "needs_background": "light"
     },
     "output_type": "display_data"
    }
   ],
   "source": [
    "EmbeddingsHandler.plot_words(histo_glove, end=20)"
   ]
  },
  {
   "cell_type": "code",
   "execution_count": 20,
   "metadata": {
    "execution": {
     "iopub.execute_input": "2020-10-11T11:12:10.175054Z",
     "iopub.status.busy": "2020-10-11T11:12:10.174861Z",
     "iopub.status.idle": "2020-10-11T11:12:10.643231Z",
     "shell.execute_reply": "2020-10-11T11:12:10.642710Z",
     "shell.execute_reply.started": "2020-10-11T11:12:10.175030Z"
    }
   },
   "outputs": [
    {
     "data": {
      "image/png": "[encoded data removed]",
      "text/plain": [
       "<Figure size 432x288 with 1 Axes>"
      ]
     },
     "metadata": {
      "needs_background": "light"
     },
     "output_type": "display_data"
    }
   ],
   "source": [
    "EmbeddingsHandler.plot_words(rot_histo_df, end=20)"
   ]
  },
  {
   "cell_type": "code",
   "execution_count": 21,
   "metadata": {
    "execution": {
     "iopub.execute_input": "2020-10-11T11:12:10.644158Z",
     "iopub.status.busy": "2020-10-11T11:12:10.643973Z",
     "iopub.status.idle": "2020-10-11T11:12:11.079827Z",
     "shell.execute_reply": "2020-10-11T11:12:11.079198Z",
     "shell.execute_reply.started": "2020-10-11T11:12:10.644137Z"
    }
   },
   "outputs": [
    {
     "data": {
      "image/png": "[encoded data removed]",
      "text/plain": [
       "<Figure size 432x288 with 1 Axes>"
      ]
     },
     "metadata": {
      "needs_background": "light"
     },
     "output_type": "display_data"
    }
   ],
   "source": [
    "EmbeddingsHandler.plot_words(glove, end=20)"
   ]
  },
  {
   "cell_type": "code",
   "execution_count": 22,
   "metadata": {
    "execution": {
     "iopub.execute_input": "2020-10-11T11:12:11.081377Z",
     "iopub.status.busy": "2020-10-11T11:12:11.081145Z",
     "iopub.status.idle": "2020-10-11T11:12:11.555396Z",
     "shell.execute_reply": "2020-10-11T11:12:11.554761Z",
     "shell.execute_reply.started": "2020-10-11T11:12:11.081357Z"
    }
   },
   "outputs": [
    {
     "data": {
      "image/png": "[encoded data removed]",
      "text/plain": [
       "<Figure size 432x288 with 1 Axes>"
      ]
     },
     "metadata": {
      "needs_background": "light"
     },
     "output_type": "display_data"
    }
   ],
   "source": [
    "EmbeddingsHandler.plot_words([rot_histo_df, glove], end=20)"
   ]
  },
  {
   "cell_type": "code",
   "execution_count": 23,
   "metadata": {
    "execution": {
     "iopub.execute_input": "2020-10-11T11:12:11.556401Z",
     "iopub.status.busy": "2020-10-11T11:12:11.556182Z",
     "iopub.status.idle": "2020-10-11T11:12:12.123393Z",
     "shell.execute_reply": "2020-10-11T11:12:12.122803Z",
     "shell.execute_reply.started": "2020-10-11T11:12:11.556372Z"
    }
   },
   "outputs": [
    {
     "data": {
      "image/png": "[encoded data removed]",
      "text/plain": [
       "<Figure size 432x288 with 1 Axes>"
      ]
     },
     "metadata": {
      "needs_background": "light"
     },
     "output_type": "display_data"
    }
   ],
   "source": [
    "EmbeddingsHandler.plot_words([histo_glove, glove], end=20)"
   ]
  },
  {
   "cell_type": "code",
   "execution_count": 24,
   "metadata": {
    "execution": {
     "iopub.execute_input": "2020-10-11T11:12:12.124289Z",
     "iopub.status.busy": "2020-10-11T11:12:12.124129Z",
     "iopub.status.idle": "2020-10-11T11:12:12.472689Z",
     "shell.execute_reply": "2020-10-11T11:12:12.471995Z",
     "shell.execute_reply.started": "2020-10-11T11:12:12.124268Z"
    }
   },
   "outputs": [
    {
     "data": {
      "image/png": "[encoded data removed]",
      "text/plain": [
       "<Figure size 432x288 with 1 Axes>"
      ]
     },
     "metadata": {
      "needs_background": "light"
     },
     "output_type": "display_data"
    }
   ],
   "source": [
    "EmbeddingsHandler.plot_word_vectors(rot_histo_df, histo_glove, \"man\")"
   ]
  },
  {
   "cell_type": "code",
   "execution_count": 25,
   "metadata": {
    "execution": {
     "iopub.execute_input": "2020-10-11T11:12:12.473746Z",
     "iopub.status.busy": "2020-10-11T11:12:12.473568Z",
     "iopub.status.idle": "2020-10-11T11:12:12.825888Z",
     "shell.execute_reply": "2020-10-11T11:12:12.825263Z",
     "shell.execute_reply.started": "2020-10-11T11:12:12.473723Z"
    }
   },
   "outputs": [
    {
     "data": {
      "image/png": "[encoded data removed]",
      "text/plain": [
       "<Figure size 432x288 with 1 Axes>"
      ]
     },
     "metadata": {
      "needs_background": "light"
     },
     "output_type": "display_data"
    }
   ],
   "source": [
    "EmbeddingsHandler.plot_word_vectors(rot_histo_df, rot_histo_df, \"man\")"
   ]
  },
  {
   "cell_type": "code",
   "execution_count": 26,
   "metadata": {
    "execution": {
     "iopub.execute_input": "2020-10-11T11:12:12.826878Z",
     "iopub.status.busy": "2020-10-11T11:12:12.826709Z",
     "iopub.status.idle": "2020-10-11T11:12:13.134216Z",
     "shell.execute_reply": "2020-10-11T11:12:13.133538Z",
     "shell.execute_reply.started": "2020-10-11T11:12:12.826857Z"
    }
   },
   "outputs": [
    {
     "data": {
      "image/png": "[encoded data removed]",
      "text/plain": [
       "<Figure size 432x288 with 1 Axes>"
      ]
     },
     "metadata": {
      "needs_background": "light"
     },
     "output_type": "display_data"
    }
   ],
   "source": [
    "EmbeddingsHandler.plot_word_vectors(rot_histo_df, glove, \"man\")"
   ]
  },
  {
   "cell_type": "code",
   "execution_count": 27,
   "metadata": {
    "execution": {
     "iopub.execute_input": "2020-10-11T11:12:13.137869Z",
     "iopub.status.busy": "2020-10-11T11:12:13.137663Z",
     "iopub.status.idle": "2020-10-11T11:12:13.241866Z",
     "shell.execute_reply": "2020-10-11T11:12:13.241236Z",
     "shell.execute_reply.started": "2020-10-11T11:12:13.137846Z"
    }
   },
   "outputs": [
    {
     "data": {
      "text/plain": [
       "['woman', 'guy', 'boy', 'men', 'father']"
      ]
     },
     "execution_count": 27,
     "metadata": {},
     "output_type": "execute_result"
    }
   ],
   "source": [
    "EmbeddingsHandler.find_closest_embeddings(glove_dict, glove_dict[\"man\"])"
   ]
  },
  {
   "cell_type": "code",
   "execution_count": 28,
   "metadata": {
    "execution": {
     "iopub.execute_input": "2020-10-11T11:12:13.243684Z",
     "iopub.status.busy": "2020-10-11T11:12:13.243435Z",
     "iopub.status.idle": "2020-10-11T11:12:13.248387Z",
     "shell.execute_reply": "2020-10-11T11:12:13.247704Z",
     "shell.execute_reply.started": "2020-10-11T11:12:13.243659Z"
    }
   },
   "outputs": [
    {
     "data": {
      "text/plain": [
       "0.0"
      ]
     },
     "execution_count": 28,
     "metadata": {},
     "output_type": "execute_result"
    }
   ],
   "source": [
    "EmbeddingsHandler.cosine_distance(glove_dict[\"man\"], glove_dict[\"man\"])"
   ]
  },
  {
   "cell_type": "code",
   "execution_count": 29,
   "metadata": {
    "execution": {
     "iopub.execute_input": "2020-10-11T11:12:13.249702Z",
     "iopub.status.busy": "2020-10-11T11:12:13.249451Z",
     "iopub.status.idle": "2020-10-11T11:12:13.260882Z",
     "shell.execute_reply": "2020-10-11T11:12:13.260171Z",
     "shell.execute_reply.started": "2020-10-11T11:12:13.249670Z"
    }
   },
   "outputs": [
    {
     "data": {
      "text/plain": [
       "0.2598255446028722"
      ]
     },
     "execution_count": 29,
     "metadata": {},
     "output_type": "execute_result"
    }
   ],
   "source": [
    "EmbeddingsHandler.cosine_distance(glove_dict[\"man\"], glove_dict[\"woman\"])"
   ]
  },
  {
   "cell_type": "code",
   "execution_count": 30,
   "metadata": {
    "execution": {
     "iopub.execute_input": "2020-10-11T11:12:13.262154Z",
     "iopub.status.busy": "2020-10-11T11:12:13.261871Z",
     "iopub.status.idle": "2020-10-11T11:12:13.275027Z",
     "shell.execute_reply": "2020-10-11T11:12:13.274453Z",
     "shell.execute_reply.started": "2020-10-11T11:12:13.262120Z"
    }
   },
   "outputs": [
    {
     "data": {
      "text/plain": [
       "0.9835873120445656"
      ]
     },
     "execution_count": 30,
     "metadata": {},
     "output_type": "execute_result"
    }
   ],
   "source": [
    "EmbeddingsHandler.cosine_distance(rotated_histo[\"man\"], histo_dict[\"man\"])"
   ]
  },
  {
   "cell_type": "code",
   "execution_count": 31,
   "metadata": {
    "execution": {
     "iopub.execute_input": "2020-10-11T11:12:13.276132Z",
     "iopub.status.busy": "2020-10-11T11:12:13.275884Z",
     "iopub.status.idle": "2020-10-11T11:12:13.282185Z",
     "shell.execute_reply": "2020-10-11T11:12:13.281483Z",
     "shell.execute_reply.started": "2020-10-11T11:12:13.276101Z"
    }
   },
   "outputs": [
    {
     "data": {
      "text/plain": [
       "0.20126669107225448"
      ]
     },
     "execution_count": 31,
     "metadata": {},
     "output_type": "execute_result"
    }
   ],
   "source": [
    "EmbeddingsHandler.cosine_distance(rotated_histo[\"man\"], glove_dict[\"man\"])"
   ]
  },
  {
   "cell_type": "code",
   "execution_count": 32,
   "metadata": {
    "execution": {
     "iopub.execute_input": "2020-10-11T11:12:13.283190Z",
     "iopub.status.busy": "2020-10-11T11:12:13.282948Z",
     "iopub.status.idle": "2020-10-11T11:12:13.300814Z",
     "shell.execute_reply": "2020-10-11T11:12:13.298051Z",
     "shell.execute_reply.started": "2020-10-11T11:12:13.283158Z"
    }
   },
   "outputs": [
    {
     "data": {
      "text/plain": [
       "0.9725397315320365"
      ]
     },
     "execution_count": 32,
     "metadata": {},
     "output_type": "execute_result"
    }
   ],
   "source": [
    "EmbeddingsHandler.cosine_distance(histo_dict[\"man\"], glove_dict[\"man\"])"
   ]
  },
  {
   "cell_type": "code",
   "execution_count": 33,
   "metadata": {
    "execution": {
     "iopub.execute_input": "2020-10-11T11:12:13.304426Z",
     "iopub.status.busy": "2020-10-11T11:12:13.304008Z",
     "iopub.status.idle": "2020-10-11T11:12:13.332797Z",
     "shell.execute_reply": "2020-10-11T11:12:13.331715Z",
     "shell.execute_reply.started": "2020-10-11T11:12:13.304376Z"
    }
   },
   "outputs": [
    {
     "name": "stdout",
     "output_type": "stream",
     "text": [
      "man - woman\n",
      "Glove:  0.2598255446028722\n",
      "Histo:  0.33789175706939767\n",
      "Rotated histo:  0.3378917570693979\n",
      "Glove - Rotated histo:  0.3876238134867366\n",
      "Histo - Rotated histo:  0.9956495085842304 \n",
      "\n",
      "boy - girl\n",
      "Glove:  0.18516771091676343\n",
      "Histo:  0.2916511167242778\n",
      "Rotated histo:  0.2916511167242778\n",
      "Glove - Rotated histo:  0.2942251568559925\n",
      "Histo - Rotated histo:  1.001112275335215 \n",
      "\n",
      "father - mother\n",
      "Glove:  0.17017547261517962\n",
      "Histo:  0.2388168386518108\n",
      "Rotated histo:  0.2388168386518107\n",
      "Glove - Rotated histo:  0.30232639334692535\n",
      "Histo - Rotated histo:  1.0318478812616787 \n",
      "\n",
      "male - female\n",
      "Glove:  0.06572268751590193\n",
      "Histo:  0.198832372257857\n",
      "Rotated histo:  0.198832372257857\n",
      "Glove - Rotated histo:  0.31656725994321244\n",
      "Histo - Rotated histo:  1.0454643496340847 \n",
      "\n"
     ]
    }
   ],
   "source": [
    "words = [('man', 'woman'), ('boy', 'girl'), ('father', 'mother'), ('male', 'female')]\n",
    "\n",
    "for w1, w2 in words:\n",
    "    print(w1, \"-\", w2)\n",
    "    print(\"Glove: \", EmbeddingsHandler.cosine_distance(glove_dict[w1], glove_dict[w2]))\n",
    "    print(\"Histo: \", EmbeddingsHandler.cosine_distance(histo_dict[w1], histo_dict[w2]))\n",
    "    print(\"Rotated histo: \", EmbeddingsHandler.cosine_distance(rotated_histo[w1], rotated_histo[w2]))\n",
    "    print(\"Glove - Rotated histo: \", EmbeddingsHandler.cosine_distance(glove_dict[w1], rotated_histo[w2]))\n",
    "    print(\"Histo - Rotated histo: \", EmbeddingsHandler.cosine_distance(histo_dict[w1], rotated_histo[w2]), \"\\n\")"
   ]
  }
 ],
 "metadata": {
  "kernelspec": {
   "display_name": "Python 3",
   "language": "python",
   "name": "python3"
  },
  "language_info": {
   "codemirror_mode": {
    "name": "ipython",
    "version": 3
   },
   "file_extension": ".py",
   "mimetype": "text/x-python",
   "name": "python",
   "nbconvert_exporter": "python",
   "pygments_lexer": "ipython3",
   "version": "3.8.5"
  }
 },
 "nbformat": 4,
 "nbformat_minor": 4
}
