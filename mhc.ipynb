{
 "cells": [
  {
   "cell_type": "code",
   "execution_count": 1,
   "metadata": {
    "colab": {
     "base_uri": "https://localhost:8080/"
    },
    "id": "oM3ksH5EmrJH",
    "outputId": "e45a5048-d664-4a93-b3da-2e26d70d5e3f",
    "scrolled": true
   },
   "outputs": [
    {
     "name": "stdout",
     "output_type": "stream",
     "text": [
      "Collecting git+https://github.com/guillaumegenthial/tf_metrics.git\n",
      "  Cloning https://github.com/guillaumegenthial/tf_metrics.git to /tmp/pip-req-build-q302ah2h\n",
      "  Running command git clone -q https://github.com/guillaumegenthial/tf_metrics.git /tmp/pip-req-build-q302ah2h\n",
      "Requirement already satisfied (use --upgrade to upgrade): tf-metrics==0.0.1 from git+https://github.com/guillaumegenthial/tf_metrics.git in /usr/local/lib/python3.6/dist-packages\n",
      "Requirement already satisfied: numpy in /usr/local/lib/python3.6/dist-packages (from tf-metrics==0.0.1) (1.18.5)\n",
      "Requirement already satisfied: tensorflow-gpu>=1.6 in /usr/local/lib/python3.6/dist-packages (from tf-metrics==0.0.1) (2.3.1)\n",
      "Requirement already satisfied: h5py<2.11.0,>=2.10.0 in /usr/local/lib/python3.6/dist-packages (from tensorflow-gpu>=1.6->tf-metrics==0.0.1) (2.10.0)\n",
      "Requirement already satisfied: astunparse==1.6.3 in /usr/local/lib/python3.6/dist-packages (from tensorflow-gpu>=1.6->tf-metrics==0.0.1) (1.6.3)\n",
      "Requirement already satisfied: keras-preprocessing<1.2,>=1.1.1 in /usr/local/lib/python3.6/dist-packages (from tensorflow-gpu>=1.6->tf-metrics==0.0.1) (1.1.2)\n",
      "Requirement already satisfied: tensorboard<3,>=2.3.0 in /usr/local/lib/python3.6/dist-packages (from tensorflow-gpu>=1.6->tf-metrics==0.0.1) (2.3.0)\n",
      "Requirement already satisfied: protobuf>=3.9.2 in /usr/local/lib/python3.6/dist-packages (from tensorflow-gpu>=1.6->tf-metrics==0.0.1) (3.12.4)\n",
      "Requirement already satisfied: google-pasta>=0.1.8 in /usr/local/lib/python3.6/dist-packages (from tensorflow-gpu>=1.6->tf-metrics==0.0.1) (0.2.0)\n",
      "Requirement already satisfied: opt-einsum>=2.3.2 in /usr/local/lib/python3.6/dist-packages (from tensorflow-gpu>=1.6->tf-metrics==0.0.1) (3.3.0)\n",
      "Requirement already satisfied: tensorflow-estimator<2.4.0,>=2.3.0 in /usr/local/lib/python3.6/dist-packages (from tensorflow-gpu>=1.6->tf-metrics==0.0.1) (2.3.0)\n",
      "Requirement already satisfied: absl-py>=0.7.0 in /usr/local/lib/python3.6/dist-packages (from tensorflow-gpu>=1.6->tf-metrics==0.0.1) (0.10.0)\n",
      "Requirement already satisfied: wrapt>=1.11.1 in /usr/local/lib/python3.6/dist-packages (from tensorflow-gpu>=1.6->tf-metrics==0.0.1) (1.12.1)\n",
      "Requirement already satisfied: wheel>=0.26 in /usr/local/lib/python3.6/dist-packages (from tensorflow-gpu>=1.6->tf-metrics==0.0.1) (0.35.1)\n",
      "Requirement already satisfied: grpcio>=1.8.6 in /usr/local/lib/python3.6/dist-packages (from tensorflow-gpu>=1.6->tf-metrics==0.0.1) (1.32.0)\n",
      "Requirement already satisfied: six>=1.12.0 in /usr/local/lib/python3.6/dist-packages (from tensorflow-gpu>=1.6->tf-metrics==0.0.1) (1.15.0)\n",
      "Requirement already satisfied: termcolor>=1.1.0 in /usr/local/lib/python3.6/dist-packages (from tensorflow-gpu>=1.6->tf-metrics==0.0.1) (1.1.0)\n",
      "Requirement already satisfied: gast==0.3.3 in /usr/local/lib/python3.6/dist-packages (from tensorflow-gpu>=1.6->tf-metrics==0.0.1) (0.3.3)\n",
      "Requirement already satisfied: setuptools>=41.0.0 in /usr/local/lib/python3.6/dist-packages (from tensorboard<3,>=2.3.0->tensorflow-gpu>=1.6->tf-metrics==0.0.1) (50.3.0)\n",
      "Requirement already satisfied: google-auth<2,>=1.6.3 in /usr/local/lib/python3.6/dist-packages (from tensorboard<3,>=2.3.0->tensorflow-gpu>=1.6->tf-metrics==0.0.1) (1.17.2)\n",
      "Requirement already satisfied: tensorboard-plugin-wit>=1.6.0 in /usr/local/lib/python3.6/dist-packages (from tensorboard<3,>=2.3.0->tensorflow-gpu>=1.6->tf-metrics==0.0.1) (1.7.0)\n",
      "Requirement already satisfied: werkzeug>=0.11.15 in /usr/local/lib/python3.6/dist-packages (from tensorboard<3,>=2.3.0->tensorflow-gpu>=1.6->tf-metrics==0.0.1) (1.0.1)\n",
      "Requirement already satisfied: requests<3,>=2.21.0 in /usr/local/lib/python3.6/dist-packages (from tensorboard<3,>=2.3.0->tensorflow-gpu>=1.6->tf-metrics==0.0.1) (2.23.0)\n",
      "Requirement already satisfied: markdown>=2.6.8 in /usr/local/lib/python3.6/dist-packages (from tensorboard<3,>=2.3.0->tensorflow-gpu>=1.6->tf-metrics==0.0.1) (3.2.2)\n",
      "Requirement already satisfied: google-auth-oauthlib<0.5,>=0.4.1 in /usr/local/lib/python3.6/dist-packages (from tensorboard<3,>=2.3.0->tensorflow-gpu>=1.6->tf-metrics==0.0.1) (0.4.1)\n",
      "Requirement already satisfied: pyasn1-modules>=0.2.1 in /usr/local/lib/python3.6/dist-packages (from google-auth<2,>=1.6.3->tensorboard<3,>=2.3.0->tensorflow-gpu>=1.6->tf-metrics==0.0.1) (0.2.8)\n",
      "Requirement already satisfied: rsa<5,>=3.1.4; python_version >= \"3\" in /usr/local/lib/python3.6/dist-packages (from google-auth<2,>=1.6.3->tensorboard<3,>=2.3.0->tensorflow-gpu>=1.6->tf-metrics==0.0.1) (4.6)\n",
      "Requirement already satisfied: cachetools<5.0,>=2.0.0 in /usr/local/lib/python3.6/dist-packages (from google-auth<2,>=1.6.3->tensorboard<3,>=2.3.0->tensorflow-gpu>=1.6->tf-metrics==0.0.1) (4.1.1)\n",
      "Requirement already satisfied: idna<3,>=2.5 in /usr/local/lib/python3.6/dist-packages (from requests<3,>=2.21.0->tensorboard<3,>=2.3.0->tensorflow-gpu>=1.6->tf-metrics==0.0.1) (2.10)\n",
      "Requirement already satisfied: chardet<4,>=3.0.2 in /usr/local/lib/python3.6/dist-packages (from requests<3,>=2.21.0->tensorboard<3,>=2.3.0->tensorflow-gpu>=1.6->tf-metrics==0.0.1) (3.0.4)\n",
      "Requirement already satisfied: certifi>=2017.4.17 in /usr/local/lib/python3.6/dist-packages (from requests<3,>=2.21.0->tensorboard<3,>=2.3.0->tensorflow-gpu>=1.6->tf-metrics==0.0.1) (2020.6.20)\n",
      "Requirement already satisfied: urllib3!=1.25.0,!=1.25.1,<1.26,>=1.21.1 in /usr/local/lib/python3.6/dist-packages (from requests<3,>=2.21.0->tensorboard<3,>=2.3.0->tensorflow-gpu>=1.6->tf-metrics==0.0.1) (1.24.3)\n",
      "Requirement already satisfied: importlib-metadata; python_version < \"3.8\" in /usr/local/lib/python3.6/dist-packages (from markdown>=2.6.8->tensorboard<3,>=2.3.0->tensorflow-gpu>=1.6->tf-metrics==0.0.1) (2.0.0)\n",
      "Requirement already satisfied: requests-oauthlib>=0.7.0 in /usr/local/lib/python3.6/dist-packages (from google-auth-oauthlib<0.5,>=0.4.1->tensorboard<3,>=2.3.0->tensorflow-gpu>=1.6->tf-metrics==0.0.1) (1.3.0)\n",
      "Requirement already satisfied: pyasn1<0.5.0,>=0.4.6 in /usr/local/lib/python3.6/dist-packages (from pyasn1-modules>=0.2.1->google-auth<2,>=1.6.3->tensorboard<3,>=2.3.0->tensorflow-gpu>=1.6->tf-metrics==0.0.1) (0.4.8)\n",
      "Requirement already satisfied: zipp>=0.5 in /usr/local/lib/python3.6/dist-packages (from importlib-metadata; python_version < \"3.8\"->markdown>=2.6.8->tensorboard<3,>=2.3.0->tensorflow-gpu>=1.6->tf-metrics==0.0.1) (3.2.0)\n",
      "Requirement already satisfied: oauthlib>=3.0.0 in /usr/local/lib/python3.6/dist-packages (from requests-oauthlib>=0.7.0->google-auth-oauthlib<0.5,>=0.4.1->tensorboard<3,>=2.3.0->tensorflow-gpu>=1.6->tf-metrics==0.0.1) (3.1.0)\n",
      "Building wheels for collected packages: tf-metrics\n",
      "  Building wheel for tf-metrics (setup.py) ... \u001b[?25l\u001b[?25hdone\n",
      "  Created wheel for tf-metrics: filename=tf_metrics-0.0.1-cp36-none-any.whl size=7694 sha256=7d6e63b15c36b03edf22812ed4b2e44a47baa379688519186a7da61f5a9cbfc0\n",
      "  Stored in directory: /tmp/pip-ephem-wheel-cache-hry__ffb/wheels/da/6c/c8/663ef339a0666590dc53bd13bab86643a1f9c35b26742d7876\n",
      "Successfully built tf-metrics\n"
     ]
    }
   ],
   "source": [
    "!pip install git+https://github.com/guillaumegenthial/tf_metrics.git"
   ]
  },
  {
   "cell_type": "code",
   "execution_count": 2,
   "metadata": {
    "colab": {
     "base_uri": "https://localhost:8080/"
    },
    "id": "YdCOiPH8mrJM",
    "outputId": "edbed6d4-a4cc-4dcb-ac09-bc126d7225e4"
   },
   "outputs": [
    {
     "name": "stdout",
     "output_type": "stream",
     "text": [
      "Drive already mounted at /content/drive; to attempt to forcibly remount, call drive.mount(\"/content/drive\", force_remount=True).\n"
     ]
    }
   ],
   "source": [
    "from google.colab import drive\n",
    "drive.mount('/content/drive')"
   ]
  },
  {
   "cell_type": "code",
   "execution_count": 3,
   "metadata": {
    "id": "wVgX29unmrJQ"
   },
   "outputs": [],
   "source": [
    "import sys\n",
    "sys.path.append('/content/drive/My Drive/Colab Notebooks/mhc/')"
   ]
  },
  {
   "cell_type": "code",
   "execution_count": 4,
   "metadata": {
    "colab": {
     "base_uri": "https://localhost:8080/"
    },
    "id": "y7nCKWEJmrJU",
    "outputId": "377988a3-a080-458e-9318-b5f72c952167"
   },
   "outputs": [
    {
     "name": "stdout",
     "output_type": "stream",
     "text": [
      "/content/drive/My Drive/Colab Notebooks/mhc\n"
     ]
    }
   ],
   "source": [
    "%cd \"/content/drive/My Drive/Colab Notebooks/mhc/\""
   ]
  },
  {
   "cell_type": "code",
   "execution_count": 5,
   "metadata": {
    "colab": {
     "base_uri": "https://localhost:8080/"
    },
    "execution": {
     "iopub.execute_input": "2020-10-07T15:03:56.973389Z",
     "iopub.status.busy": "2020-10-07T15:03:56.972893Z",
     "iopub.status.idle": "2020-10-07T15:03:56.981414Z",
     "shell.execute_reply": "2020-10-07T15:03:56.979757Z",
     "shell.execute_reply.started": "2020-10-07T15:03:56.973337Z"
    },
    "id": "1K-zf6mNmrJ9",
    "outputId": "ea7de7cc-c3f9-4c99-fa3c-fa7096960ea1"
   },
   "outputs": [
    {
     "name": "stdout",
     "output_type": "stream",
     "text": [
      "TensorFlow 1.x selected.\n",
      "1.15.2\n"
     ]
    }
   ],
   "source": [
    "%tensorflow_version 1.x\n",
    "import tensorflow as tf\n",
    "print(tf.__version__)"
   ]
  },
  {
   "cell_type": "code",
   "execution_count": 6,
   "metadata": {
    "execution": {
     "iopub.execute_input": "2020-10-07T15:35:25.726406Z",
     "iopub.status.busy": "2020-10-07T15:35:25.726218Z",
     "iopub.status.idle": "2020-10-07T15:35:28.195703Z",
     "shell.execute_reply": "2020-10-07T15:35:28.195247Z",
     "shell.execute_reply.started": "2020-10-07T15:35:25.726385Z"
    },
    "id": "Zxui04DHmrJZ"
   },
   "outputs": [],
   "source": [
    "import functools\n",
    "import logging\n",
    "from tf_metrics import precision, recall, f1"
   ]
  },
  {
   "cell_type": "code",
   "execution_count": 1,
   "metadata": {
    "execution": {
     "iopub.execute_input": "2020-10-07T16:00:34.631884Z",
     "iopub.status.busy": "2020-10-07T16:00:34.631687Z",
     "iopub.status.idle": "2020-10-07T16:00:34.706565Z",
     "shell.execute_reply": "2020-10-07T16:00:34.705986Z",
     "shell.execute_reply.started": "2020-10-07T16:00:34.631862Z"
    },
    "id": "DtmXIYMtmrJd"
   },
   "outputs": [],
   "source": [
    "from pathlib import Path\n",
    "import sys\n",
    "import numpy as np\n",
    "import json\n",
    "\n",
    "from bilstm import BiLSTM\n",
    "from buildGloveVocab import GloveVocab"
   ]
  },
  {
   "cell_type": "code",
   "execution_count": null,
   "metadata": {
    "id": "aepHWyaamrJr"
   },
   "outputs": [],
   "source": [
    "GloveVocab.create_words_file(data_dir+\"histoclass/train.txt\", data_dir+\"histoclass\")\n",
    "GloveVocab.create_words_file(data_dir+\"histoclass/test.txt\", data_dir+\"histoclass\", \"test\")\n",
    "GloveVocab.create_words_file(data_dir+\"histoclass/dev.txt\", data_dir+\"histoclass\", \"dev\")\n",
    "GloveVocab.create_tags_file(data_dir+\"histoclass/train.txt\", data_dir+\"histoclass\")\n",
    "GloveVocab.create_tags_file(data_dir+\"histoclass/test.txt\", data_dir+\"histoclass\", \"test\")\n",
    "GloveVocab.create_tags_file(data_dir+\"histoclass/dev.txt\", data_dir+\"histoclass\", \"dev\")"
   ]
  },
  {
   "cell_type": "code",
   "execution_count": null,
   "metadata": {
    "id": "I9ph_7YlmrJv"
   },
   "outputs": [],
   "source": [
    "GloveVocab.create_words_file(data_dir+\"histomention/train.txt\", data_dir+\"histomention\")\n",
    "GloveVocab.create_words_file(data_dir+\"histomention/test.txt\", data_dir+\"histomention\", \"test\")\n",
    "GloveVocab.create_words_file(data_dir+\"histomention/dev.txt\", data_dir+\"histomention\", \"dev\")\n",
    "GloveVocab.create_tags_file(data_dir+\"histomention/train.txt\", data_dir+\"histomention\")\n",
    "GloveVocab.create_tags_file(data_dir+\"histomention/test.txt\", data_dir+\"histomention\", \"test\")\n",
    "GloveVocab.create_tags_file(data_dir+\"histomention/dev.txt\", data_dir+\"histomention\", \"dev\")"
   ]
  },
  {
   "cell_type": "code",
   "execution_count": null,
   "metadata": {
    "execution": {
     "iopub.execute_input": "2020-10-07T14:48:08.866507Z",
     "iopub.status.busy": "2020-10-07T14:48:08.866307Z",
     "iopub.status.idle": "2020-10-07T14:48:08.869570Z",
     "shell.execute_reply": "2020-10-07T14:48:08.868842Z",
     "shell.execute_reply.started": "2020-10-07T14:48:08.866486Z"
    },
    "id": "L4K-teyMmrJy"
   },
   "outputs": [],
   "source": [
    "data_paths = [data_dir+\"histoclass/train\", data_dir+\"histoclass/dev\", data_dir+\"histoclass/test\"]"
   ]
  },
  {
   "cell_type": "code",
   "execution_count": null,
   "metadata": {
    "execution": {
     "iopub.execute_input": "2020-10-07T14:48:09.411149Z",
     "iopub.status.busy": "2020-10-07T14:48:09.410195Z",
     "iopub.status.idle": "2020-10-07T14:48:09.475637Z",
     "shell.execute_reply": "2020-10-07T14:48:09.474962Z",
     "shell.execute_reply.started": "2020-10-07T14:48:09.411037Z"
    },
    "id": "OHofPy4xmrJ1",
    "outputId": "dc3cbdc9-ca7d-48aa-85da-2b57aba2f5ee"
   },
   "outputs": [
    {
     "name": "stdout",
     "output_type": "stream",
     "text": [
      "Build vocab words (may take a while)\n",
      "- done. Kept 9825 out of 9825\n",
      "Build vocab chars\n",
      "- done. Found 100 chars\n",
      "Build vocab tags (may take a while)\n",
      "- done. Found 45 tags.\n"
     ]
    }
   ],
   "source": [
    "GloveVocab.build_vocab(data_paths)"
   ]
  },
  {
   "cell_type": "code",
   "execution_count": null,
   "metadata": {
    "execution": {
     "iopub.execute_input": "2020-10-07T14:49:25.150061Z",
     "iopub.status.busy": "2020-10-07T14:49:25.149833Z",
     "iopub.status.idle": "2020-10-07T14:50:05.246064Z",
     "shell.execute_reply": "2020-10-07T14:50:05.245431Z",
     "shell.execute_reply.started": "2020-10-07T14:49:25.150038Z"
    },
    "id": "8ZQeCNFUmrJ6",
    "outputId": "0e4b3856-c345-4dc7-fc50-e5d967d258aa"
   },
   "outputs": [
    {
     "name": "stdout",
     "output_type": "stream",
     "text": [
      "Reading GloVe file (may take a while)\n",
      "- At line 0\n",
      "- At line 100000\n",
      "- At line 200000\n",
      "- At line 300000\n",
      "- At line 400000\n",
      "- At line 500000\n",
      "- At line 600000\n",
      "- At line 700000\n",
      "- At line 800000\n",
      "- At line 900000\n",
      "- At line 1000000\n",
      "- At line 1100000\n",
      "- At line 1200000\n",
      "- At line 1300000\n",
      "- At line 1400000\n",
      "- At line 1500000\n",
      "- At line 1600000\n",
      "- At line 1700000\n",
      "- At line 1800000\n",
      "- At line 1900000\n",
      "- At line 2000000\n",
      "- At line 2100000\n",
      "- done. Found 9625 vectors for 9825 words\n"
     ]
    }
   ],
   "source": [
    "GloveVocab.build_glove(path_vocab_words='data/histo/histoclass', path_glove_txt=\"wordemb/glove.840B.300d.txt\")"
   ]
  },
  {
   "cell_type": "code",
   "execution_count": null,
   "metadata": {
    "execution": {
     "iopub.execute_input": "2020-10-07T14:59:11.903029Z",
     "iopub.status.busy": "2020-10-07T14:59:11.901912Z",
     "iopub.status.idle": "2020-10-07T14:59:11.918702Z",
     "shell.execute_reply": "2020-10-07T14:59:11.917446Z",
     "shell.execute_reply.started": "2020-10-07T14:59:11.902859Z"
    },
    "id": "sh9HrWcvmrKA"
   },
   "outputs": [],
   "source": [
    "DATADIR = 'data/histo/histoclass'\n",
    "\n",
    "# Logging\n",
    "Path('results').mkdir(exist_ok=True)\n",
    "tf.compat.v1.logging.set_verbosity(logging.INFO)\n",
    "handlers = [\n",
    "    logging.FileHandler('results/main.log'),\n",
    "    logging.StreamHandler(sys.stdout)\n",
    "]\n",
    "logging.getLogger('tensorflow').handlers = handlers"
   ]
  },
  {
   "cell_type": "code",
   "execution_count": null,
   "metadata": {
    "colab": {
     "base_uri": "https://localhost:8080/"
    },
    "execution": {
     "iopub.execute_input": "2020-10-07T14:53:27.456923Z",
     "iopub.status.busy": "2020-10-07T14:53:27.456477Z",
     "iopub.status.idle": "2020-10-07T14:53:27.505756Z",
     "shell.execute_reply": "2020-10-07T14:53:27.504228Z",
     "shell.execute_reply.started": "2020-10-07T14:53:27.456871Z"
    },
    "id": "LkBIsrYEmrKE",
    "outputId": "f07d6cbf-640e-4cc6-bae1-42867fbb005c"
   },
   "outputs": [
    {
     "name": "stdout",
     "output_type": "stream",
     "text": [
      "Using config: {'_model_dir': 'results/model', '_tf_random_seed': None, '_save_summary_steps': 100, '_save_checkpoints_steps': None, '_save_checkpoints_secs': 120, '_session_config': allow_soft_placement: true\n",
      "graph_options {\n",
      "  rewrite_options {\n",
      "    meta_optimizer_iterations: ONE\n",
      "  }\n",
      "}\n",
      ", '_keep_checkpoint_max': 5, '_keep_checkpoint_every_n_hours': 10000, '_log_step_count_steps': 100, '_train_distribute': None, '_device_fn': None, '_protocol': None, '_eval_distribute': None, '_experimental_distribute': None, '_experimental_max_worker_delay_secs': None, '_session_creation_timeout_secs': 7200, '_service': None, '_cluster_spec': <tensorflow.python.training.server_lib.ClusterSpec object at 0x7f4534441a20>, '_task_type': 'worker', '_task_id': 0, '_global_id_in_cluster': 0, '_master': '', '_evaluation_master': '', '_is_chief': True, '_num_ps_replicas': 0, '_num_worker_replicas': 1}\n",
      "Not using Distribute Coordinator.\n",
      "Running training and evaluation locally (non-distributed).\n",
      "Start train and evaluate loop. The evaluate will happen after every checkpoint. Checkpoint frequency is determined based on RunConfig arguments: save_checkpoints_steps None or save_checkpoints_secs 120.\n",
      "From /tensorflow-1.15.2/python3.6/tensorflow_core/python/training/training_util.py:236: Variable.initialized_value (from tensorflow.python.ops.variables) is deprecated and will be removed in a future version.\n",
      "Instructions for updating:\n",
      "Use Variable.read_value. Variables in 2.X are initialized automatically both in eager and graph (inside tf.defun) contexts.\n",
      "Calling model_fn.\n",
      "From /content/drive/My Drive/Colab Notebooks/mhc/bilstm.py:68: dropout (from tensorflow.python.layers.core) is deprecated and will be removed in a future version.\n",
      "Instructions for updating:\n",
      "Use keras.layers.dropout instead.\n",
      "From /tensorflow-1.15.2/python3.6/tensorflow_core/python/layers/core.py:271: Layer.apply (from tensorflow.python.keras.engine.base_layer) is deprecated and will be removed in a future version.\n",
      "Instructions for updating:\n",
      "Please use `layer.__call__` method instead.\n",
      "From /tensorflow-1.15.2/python3.6/tensorflow_core/contrib/rnn/python/ops/lstm_ops.py:597: Layer.add_variable (from tensorflow.python.keras.engine.base_layer) is deprecated and will be removed in a future version.\n",
      "Instructions for updating:\n",
      "Please use `layer.add_weight` method instead.\n",
      "From /content/drive/My Drive/Colab Notebooks/mhc/bilstm.py:82: dense (from tensorflow.python.layers.core) is deprecated and will be removed in a future version.\n",
      "Instructions for updating:\n",
      "Use keras.layers.Dense instead.\n",
      "From /content/drive/My Drive/Colab Notebooks/mhc/bilstm.py:83: The name tf.get_variable is deprecated. Please use tf.compat.v1.get_variable instead.\n",
      "\n",
      "From /tensorflow-1.15.2/python3.6/tensorflow_core/contrib/crf/python/ops/crf.py:567: dynamic_rnn (from tensorflow.python.ops.rnn) is deprecated and will be removed in a future version.\n",
      "Instructions for updating:\n",
      "Please use `keras.layers.RNN(cell)`, which is equivalent to this API\n",
      "From /tensorflow-1.15.2/python3.6/tensorflow_core/python/ops/rnn.py:244: where (from tensorflow.python.ops.array_ops) is deprecated and will be removed in a future version.\n",
      "Instructions for updating:\n",
      "Use tf.where in 2.0, which has the same broadcast rule as np.where\n",
      "From /content/drive/My Drive/Colab Notebooks/mhc/bilstm.py:107: The name tf.metrics.accuracy is deprecated. Please use tf.compat.v1.metrics.accuracy instead.\n",
      "\n",
      "From /usr/local/lib/python3.6/dist-packages/tf_metrics/__init__.py:152: The name tf.diag_part is deprecated. Please use tf.linalg.tensor_diag_part instead.\n",
      "\n",
      "From /usr/local/lib/python3.6/dist-packages/tf_metrics/__init__.py:140: to_float (from tensorflow.python.ops.math_ops) is deprecated and will be removed in a future version.\n",
      "Instructions for updating:\n",
      "Use `tf.cast` instead.\n",
      "From /content/drive/My Drive/Colab Notebooks/mhc/bilstm.py:113: The name tf.summary.scalar is deprecated. Please use tf.compat.v1.summary.scalar instead.\n",
      "\n",
      "From /content/drive/My Drive/Colab Notebooks/mhc/bilstm.py:120: The name tf.train.AdamOptimizer is deprecated. Please use tf.compat.v1.train.AdamOptimizer instead.\n",
      "\n",
      "From /content/drive/My Drive/Colab Notebooks/mhc/bilstm.py:121: The name tf.train.get_or_create_global_step is deprecated. Please use tf.compat.v1.train.get_or_create_global_step instead.\n",
      "\n",
      "Done calling model_fn.\n",
      "Create CheckpointSaverHook.\n",
      "Graph was finalized.\n",
      "Running local_init_op.\n",
      "Done running local_init_op.\n",
      "Saving checkpoints for 0 into results/model/model.ckpt.\n",
      "loss = 93.02275, step = 0\n",
      "global_step/sec: 13.6023\n",
      "loss = 12.208548, step = 100 (7.355 sec)\n",
      "global_step/sec: 13.9915\n",
      "loss = 13.877375, step = 200 (7.149 sec)\n",
      "global_step/sec: 14.1199\n",
      "loss = 19.449293, step = 300 (7.082 sec)\n",
      "global_step/sec: 15.0759\n",
      "loss = 18.004675, step = 400 (6.631 sec)\n",
      "global_step/sec: 14.3644\n",
      "loss = 13.024675, step = 500 (6.961 sec)\n",
      "global_step/sec: 14.2905\n",
      "loss = 17.334198, step = 600 (6.999 sec)\n",
      "global_step/sec: 14.4227\n",
      "loss = 17.991936, step = 700 (6.933 sec)\n",
      "global_step/sec: 14.5388\n",
      "loss = 9.178362, step = 800 (6.877 sec)\n",
      "global_step/sec: 14.476\n",
      "loss = 15.123965, step = 900 (6.910 sec)\n",
      "global_step/sec: 14.4905\n",
      "loss = 11.74545, step = 1000 (6.900 sec)\n",
      "global_step/sec: 14.201\n",
      "loss = 10.953938, step = 1100 (7.042 sec)\n",
      "global_step/sec: 14.9871\n",
      "loss = 10.188561, step = 1200 (6.673 sec)\n",
      "global_step/sec: 15.0496\n",
      "loss = 8.531406, step = 1300 (6.644 sec)\n",
      "global_step/sec: 14.5859\n",
      "loss = 9.74048, step = 1400 (6.854 sec)\n",
      "global_step/sec: 14.7516\n",
      "loss = 10.133501, step = 1500 (6.788 sec)\n",
      "global_step/sec: 13.8808\n",
      "loss = 10.851507, step = 1600 (7.195 sec)\n",
      "Saving checkpoints for 1658 into results/model/model.ckpt.\n",
      "Calling model_fn.\n",
      "Done calling model_fn.\n",
      "Starting evaluation at 2020-10-07T15:14:59Z\n",
      "Graph was finalized.\n",
      "Restoring parameters from results/model/model.ckpt-1658\n",
      "Running local_init_op.\n",
      "Done running local_init_op.\n",
      "Evaluation [10/100]\n",
      "Finished evaluation at 2020-10-07-15:15:02\n",
      "Saving dict for global step 1658: acc = 0.8983834, f1 = 0.5398139, global_step = 1658, loss = 9.057377, precision = 0.6397059, recall = 0.46690518\n",
      "Saving 'checkpoint_path' summary for global step 1658: results/model/model.ckpt-1658\n",
      "global_step/sec: 8.4851\n",
      "loss = 8.948634, step = 1700 (11.789 sec)\n",
      "global_step/sec: 14.4504\n",
      "loss = 9.936169, step = 1800 (6.917 sec)\n",
      "global_step/sec: 14.31\n",
      "loss = 11.464649, step = 1900 (6.988 sec)\n",
      "global_step/sec: 15.0113\n",
      "loss = 10.311352, step = 2000 (6.662 sec)\n",
      "global_step/sec: 14.8002\n",
      "loss = 8.534233, step = 2100 (6.759 sec)\n",
      "global_step/sec: 14.6407\n",
      "loss = 10.59982, step = 2200 (6.830 sec)\n",
      "global_step/sec: 15.2824\n",
      "loss = 5.9421034, step = 2300 (6.544 sec)\n",
      "global_step/sec: 15.2158\n",
      "loss = 7.688794, step = 2400 (6.571 sec)\n",
      "Saving checkpoints for 2480 into results/model/model.ckpt.\n",
      "Skip the current checkpoint eval due to throttle secs (120 secs).\n",
      "Calling model_fn.\n",
      "Done calling model_fn.\n",
      "Starting evaluation at 2020-10-07T15:16:00Z\n",
      "Graph was finalized.\n",
      "Restoring parameters from results/model/model.ckpt-2480\n",
      "Running local_init_op.\n",
      "Done running local_init_op.\n",
      "Evaluation [10/100]\n",
      "Finished evaluation at 2020-10-07-15:16:01\n",
      "Saving dict for global step 2480: acc = 0.90115476, f1 = 0.5642268, global_step = 2480, loss = 8.172856, precision = 0.61587304, recall = 0.5205724\n",
      "Saving 'checkpoint_path' summary for global step 2480: results/model/model.ckpt-2480\n",
      "Loss for final step: 10.41353.\n"
     ]
    },
    {
     "data": {
      "text/plain": [
       "({'acc': 0.90115476,\n",
       "  'f1': 0.5642268,\n",
       "  'global_step': 2480,\n",
       "  'loss': 8.172856,\n",
       "  'precision': 0.61587304,\n",
       "  'recall': 0.5205724},\n",
       " [])"
      ]
     },
     "execution_count": 12,
     "metadata": {
      "tags": []
     },
     "output_type": "execute_result"
    }
   ],
   "source": [
    "    params = {\n",
    "        'dim': 300,\n",
    "        'dropout': 0.5,\n",
    "        'num_oov_buckets': 1,\n",
    "        'epochs': 25,\n",
    "        'batch_size': 20,\n",
    "        'buffer': 15000,\n",
    "        'lstm_size': 100,\n",
    "        'words': str(Path(DATADIR, 'vocab.words.txt')),\n",
    "        'chars': str(Path(DATADIR, 'vocab.chars.txt')),\n",
    "        'tags': str(Path(DATADIR, 'vocab.tags.txt')),\n",
    "        'glove': str(Path(DATADIR, 'glove.npz'))\n",
    "    }\n",
    "    with Path('results/params.json').open('w') as f:\n",
    "        json.dump(params, f, indent=4, sort_keys=True)\n",
    "\n",
    "    \n",
    "    # Estimator, train and evaluate\n",
    "    train_inpf = functools.partial(BiLSTM.input_fn, BiLSTM.fwords('train', DATADIR), BiLSTM.ftags('train', DATADIR),\n",
    "                                   params, shuffle_and_repeat=True)\n",
    "    eval_inpf = functools.partial(BiLSTM.input_fn, BiLSTM.fwords('test', DATADIR), BiLSTM.ftags('test', DATADIR))\n",
    "\n",
    "    cfg = tf.estimator.RunConfig(save_checkpoints_secs=120)\n",
    "    estimator = tf.estimator.Estimator(BiLSTM.model_fn, 'results/model', cfg, params)\n",
    "    Path(estimator.eval_dir()).mkdir(parents=True, exist_ok=True)\n",
    "    #hook = tf.contrib.estimator.stop_if_no_increase_hook(\n",
    "    #    estimator, 'f1', 500, min_steps=8000, run_every_secs=120)\n",
    "    #train_spec = tf.estimator.TrainSpec(input_fn=train_inpf, hooks=[hook])\n",
    "    train_spec = tf.estimator.TrainSpec(input_fn=train_inpf)\n",
    "    eval_spec = tf.estimator.EvalSpec(input_fn=eval_inpf, throttle_secs=120)\n",
    "    tf.estimator.train_and_evaluate(estimator, train_spec, eval_spec)"
   ]
  },
  {
   "cell_type": "code",
   "execution_count": null,
   "metadata": {
    "colab": {
     "base_uri": "https://localhost:8080/"
    },
    "id": "nn0gPqtVmrKI",
    "outputId": "7a088946-db0a-4f94-ea87-1f12054f5b4d"
   },
   "outputs": [
    {
     "name": "stdout",
     "output_type": "stream",
     "text": [
      "Calling model_fn.\n",
      "From /content/drive/My Drive/Colab Notebooks/mhc/bilstm.py:90: to_int64 (from tensorflow.python.ops.math_ops) is deprecated and will be removed in a future version.\n",
      "Instructions for updating:\n",
      "Use `tf.cast` instead.\n",
      "Done calling model_fn.\n",
      "Graph was finalized.\n",
      "Restoring parameters from results/model/model.ckpt-2480\n",
      "Running local_init_op.\n",
      "Done running local_init_op.\n",
      "Calling model_fn.\n",
      "Done calling model_fn.\n",
      "Graph was finalized.\n",
      "Restoring parameters from results/model/model.ckpt-2480\n",
      "Running local_init_op.\n",
      "Done running local_init_op.\n",
      "Calling model_fn.\n",
      "Done calling model_fn.\n",
      "Graph was finalized.\n",
      "Restoring parameters from results/model/model.ckpt-2480\n",
      "Running local_init_op.\n",
      "Done running local_init_op.\n"
     ]
    }
   ],
   "source": [
    "for name in ['train', 'dev', 'test']:\n",
    "        BiLSTM.write_predictions(name, estimator, DATADIR, \"results\")"
   ]
  },
  {
   "cell_type": "code",
   "execution_count": null,
   "metadata": {
    "execution": {
     "iopub.execute_input": "2020-10-07T15:36:00.032365Z",
     "iopub.status.busy": "2020-10-07T15:36:00.032150Z",
     "iopub.status.idle": "2020-10-07T15:36:02.912817Z",
     "shell.execute_reply": "2020-10-07T15:36:02.912285Z",
     "shell.execute_reply.started": "2020-10-07T15:36:00.032341Z"
    },
    "id": "bJ69xMcrtxP6",
    "outputId": "0e4b3856-c345-4dc7-fc50-e5d967d258aa"
   },
   "outputs": [
    {
     "name": "stdout",
     "output_type": "stream",
     "text": [
      "Reading GloVe file (may take a while)\n",
      "- At line 0\n",
      "- At line 100000\n",
      "- done. Found 7310 vectors for 9825 words\n"
     ]
    }
   ],
   "source": [
    "GloveVocab.build_glove(path_vocab_words='data/histo/histoclass',path_glove_txt=\"wordemb/HistoGlove.txt\", output_name=\"glove_hist.npz\")"
   ]
  },
  {
   "cell_type": "code",
   "execution_count": 9,
   "metadata": {
    "execution": {
     "iopub.execute_input": "2020-10-07T14:59:11.903029Z",
     "iopub.status.busy": "2020-10-07T14:59:11.901912Z",
     "iopub.status.idle": "2020-10-07T14:59:11.918702Z",
     "shell.execute_reply": "2020-10-07T14:59:11.917446Z",
     "shell.execute_reply.started": "2020-10-07T14:59:11.902859Z"
    },
    "id": "Kk9uS_s7txP8"
   },
   "outputs": [],
   "source": [
    "DATADIR = 'data/histo/histoclass'\n",
    "\n",
    "# Logging\n",
    "Path('resultshisto').mkdir(exist_ok=True)\n",
    "tf.compat.v1.logging.set_verbosity(logging.INFO)\n",
    "handlers = [\n",
    "    logging.FileHandler('resultshisto/main.log'),\n",
    "    logging.StreamHandler(sys.stdout)\n",
    "]\n",
    "logging.getLogger('tensorflow').handlers = handlers"
   ]
  },
  {
   "cell_type": "code",
   "execution_count": 10,
   "metadata": {
    "colab": {
     "base_uri": "https://localhost:8080/"
    },
    "execution": {
     "iopub.execute_input": "2020-10-07T14:53:27.456923Z",
     "iopub.status.busy": "2020-10-07T14:53:27.456477Z",
     "iopub.status.idle": "2020-10-07T14:53:27.505756Z",
     "shell.execute_reply": "2020-10-07T14:53:27.504228Z",
     "shell.execute_reply.started": "2020-10-07T14:53:27.456871Z"
    },
    "id": "Cvg_uQT6txP_",
    "outputId": "0197593f-ee95-423b-db8d-e1d122b813ce"
   },
   "outputs": [
    {
     "name": "stdout",
     "output_type": "stream",
     "text": [
      "Using config: {'_model_dir': 'resultshisto/model', '_tf_random_seed': None, '_save_summary_steps': 100, '_save_checkpoints_steps': None, '_save_checkpoints_secs': 120, '_session_config': allow_soft_placement: true\n",
      "graph_options {\n",
      "  rewrite_options {\n",
      "    meta_optimizer_iterations: ONE\n",
      "  }\n",
      "}\n",
      ", '_keep_checkpoint_max': 5, '_keep_checkpoint_every_n_hours': 10000, '_log_step_count_steps': 100, '_train_distribute': None, '_device_fn': None, '_protocol': None, '_eval_distribute': None, '_experimental_distribute': None, '_experimental_max_worker_delay_secs': None, '_session_creation_timeout_secs': 7200, '_service': None, '_cluster_spec': <tensorflow.python.training.server_lib.ClusterSpec object at 0x7f0b94edc080>, '_task_type': 'worker', '_task_id': 0, '_global_id_in_cluster': 0, '_master': '', '_evaluation_master': '', '_is_chief': True, '_num_ps_replicas': 0, '_num_worker_replicas': 1}\n",
      "Not using Distribute Coordinator.\n",
      "Running training and evaluation locally (non-distributed).\n",
      "Start train and evaluate loop. The evaluate will happen after every checkpoint. Checkpoint frequency is determined based on RunConfig arguments: save_checkpoints_steps None or save_checkpoints_secs 120.\n",
      "From /tensorflow-1.15.2/python3.6/tensorflow_core/python/training/training_util.py:236: Variable.initialized_value (from tensorflow.python.ops.variables) is deprecated and will be removed in a future version.\n",
      "Instructions for updating:\n",
      "Use Variable.read_value. Variables in 2.X are initialized automatically both in eager and graph (inside tf.defun) contexts.\n",
      "Calling model_fn.\n",
      "\n",
      "The TensorFlow contrib module will not be included in TensorFlow 2.0.\n",
      "For more information, please see:\n",
      "  * https://github.com/tensorflow/community/blob/master/rfcs/20180907-contrib-sunset.md\n",
      "  * https://github.com/tensorflow/addons\n",
      "  * https://github.com/tensorflow/io (for I/O related ops)\n",
      "If you depend on functionality not listed there, please file an issue.\n",
      "\n",
      "From /content/drive/My Drive/Colab Notebooks/mhc/bilstm.py:68: dropout (from tensorflow.python.layers.core) is deprecated and will be removed in a future version.\n",
      "Instructions for updating:\n",
      "Use keras.layers.dropout instead.\n",
      "From /tensorflow-1.15.2/python3.6/tensorflow_core/python/layers/core.py:271: Layer.apply (from tensorflow.python.keras.engine.base_layer) is deprecated and will be removed in a future version.\n",
      "Instructions for updating:\n",
      "Please use `layer.__call__` method instead.\n",
      "From /tensorflow-1.15.2/python3.6/tensorflow_core/contrib/rnn/python/ops/lstm_ops.py:597: Layer.add_variable (from tensorflow.python.keras.engine.base_layer) is deprecated and will be removed in a future version.\n",
      "Instructions for updating:\n",
      "Please use `layer.add_weight` method instead.\n",
      "From /content/drive/My Drive/Colab Notebooks/mhc/bilstm.py:82: dense (from tensorflow.python.layers.core) is deprecated and will be removed in a future version.\n",
      "Instructions for updating:\n",
      "Use keras.layers.Dense instead.\n",
      "From /content/drive/My Drive/Colab Notebooks/mhc/bilstm.py:83: The name tf.get_variable is deprecated. Please use tf.compat.v1.get_variable instead.\n",
      "\n",
      "From /tensorflow-1.15.2/python3.6/tensorflow_core/contrib/crf/python/ops/crf.py:567: dynamic_rnn (from tensorflow.python.ops.rnn) is deprecated and will be removed in a future version.\n",
      "Instructions for updating:\n",
      "Please use `keras.layers.RNN(cell)`, which is equivalent to this API\n",
      "From /tensorflow-1.15.2/python3.6/tensorflow_core/python/ops/rnn.py:244: where (from tensorflow.python.ops.array_ops) is deprecated and will be removed in a future version.\n",
      "Instructions for updating:\n",
      "Use tf.where in 2.0, which has the same broadcast rule as np.where\n",
      "From /content/drive/My Drive/Colab Notebooks/mhc/bilstm.py:107: The name tf.metrics.accuracy is deprecated. Please use tf.compat.v1.metrics.accuracy instead.\n",
      "\n",
      "From /usr/local/lib/python3.6/dist-packages/tf_metrics/__init__.py:152: The name tf.diag_part is deprecated. Please use tf.linalg.tensor_diag_part instead.\n",
      "\n",
      "From /usr/local/lib/python3.6/dist-packages/tf_metrics/__init__.py:140: to_float (from tensorflow.python.ops.math_ops) is deprecated and will be removed in a future version.\n",
      "Instructions for updating:\n",
      "Use `tf.cast` instead.\n",
      "From /content/drive/My Drive/Colab Notebooks/mhc/bilstm.py:113: The name tf.summary.scalar is deprecated. Please use tf.compat.v1.summary.scalar instead.\n",
      "\n",
      "From /content/drive/My Drive/Colab Notebooks/mhc/bilstm.py:120: The name tf.train.AdamOptimizer is deprecated. Please use tf.compat.v1.train.AdamOptimizer instead.\n",
      "\n",
      "From /content/drive/My Drive/Colab Notebooks/mhc/bilstm.py:121: The name tf.train.get_or_create_global_step is deprecated. Please use tf.compat.v1.train.get_or_create_global_step instead.\n",
      "\n",
      "Done calling model_fn.\n",
      "Create CheckpointSaverHook.\n",
      "Graph was finalized.\n",
      "Running local_init_op.\n",
      "Done running local_init_op.\n",
      "Saving checkpoints for 0 into resultshisto/model/model.ckpt.\n",
      "loss = 105.541794, step = 0\n",
      "global_step/sec: 7.42385\n",
      "loss = 24.887106, step = 100 (13.475 sec)\n",
      "global_step/sec: 7.78534\n",
      "loss = 21.076511, step = 200 (12.844 sec)\n",
      "global_step/sec: 7.57555\n",
      "loss = 22.204746, step = 300 (13.202 sec)\n",
      "global_step/sec: 7.98125\n",
      "loss = 17.514576, step = 400 (12.525 sec)\n",
      "global_step/sec: 7.69274\n",
      "loss = 20.003475, step = 500 (13.002 sec)\n",
      "global_step/sec: 7.86739\n",
      "loss = 19.717262, step = 600 (12.710 sec)\n",
      "global_step/sec: 7.97776\n",
      "loss = 17.296928, step = 700 (12.535 sec)\n",
      "global_step/sec: 7.86731\n",
      "loss = 12.237215, step = 800 (12.711 sec)\n",
      "global_step/sec: 7.64943\n",
      "loss = 10.123837, step = 900 (13.075 sec)\n",
      "Saving checkpoints for 914 into resultshisto/model/model.ckpt.\n",
      "Calling model_fn.\n",
      "Done calling model_fn.\n",
      "Starting evaluation at 2020-10-07T15:52:03Z\n",
      "Graph was finalized.\n",
      "Restoring parameters from resultshisto/model/model.ckpt-914\n",
      "Running local_init_op.\n",
      "Done running local_init_op.\n",
      "Evaluation [10/100]\n",
      "Finished evaluation at 2020-10-07-15:52:07\n",
      "Saving dict for global step 914: acc = 0.87590456, f1 = 0.43107474, global_step = 914, loss = 12.100845, precision = 0.6212121, recall = 0.33005366\n",
      "Saving 'checkpoint_path' summary for global step 914: resultshisto/model/model.ckpt-914\n",
      "global_step/sec: 5.24335\n",
      "loss = 15.61922, step = 1000 (19.070 sec)\n",
      "global_step/sec: 7.69985\n",
      "loss = 14.5796385, step = 1100 (12.988 sec)\n",
      "global_step/sec: 7.79573\n",
      "loss = 10.480943, step = 1200 (12.828 sec)\n",
      "global_step/sec: 7.61725\n",
      "loss = 11.245527, step = 1300 (13.125 sec)\n",
      "global_step/sec: 7.65278\n",
      "loss = 8.060168, step = 1400 (13.069 sec)\n",
      "global_step/sec: 7.7955\n",
      "loss = 8.217509, step = 1500 (12.826 sec)\n",
      "global_step/sec: 7.88689\n",
      "loss = 12.512243, step = 1600 (12.681 sec)\n",
      "global_step/sec: 7.55898\n",
      "loss = 10.48412, step = 1700 (13.230 sec)\n",
      "Saving checkpoints for 1789 into resultshisto/model/model.ckpt.\n",
      "Calling model_fn.\n",
      "Done calling model_fn.\n",
      "Starting evaluation at 2020-10-07T15:54:04Z\n",
      "Graph was finalized.\n",
      "Restoring parameters from resultshisto/model/model.ckpt-1789\n",
      "Running local_init_op.\n",
      "Done running local_init_op.\n",
      "Evaluation [10/100]\n",
      "Finished evaluation at 2020-10-07-15:54:06\n",
      "Saving dict for global step 1789: acc = 0.8897613, f1 = 0.5057724, global_step = 1789, loss = 10.2816725, precision = 0.6562054, recall = 0.41144902\n",
      "Saving 'checkpoint_path' summary for global step 1789: resultshisto/model/model.ckpt-1789\n",
      "global_step/sec: 5.64354\n",
      "loss = 10.338815, step = 1800 (17.718 sec)\n",
      "global_step/sec: 7.59187\n",
      "loss = 11.305935, step = 1900 (13.174 sec)\n",
      "global_step/sec: 7.96153\n",
      "loss = 8.882501, step = 2000 (12.561 sec)\n",
      "global_step/sec: 7.15935\n",
      "loss = 10.054164, step = 2100 (13.967 sec)\n",
      "global_step/sec: 8.2651\n",
      "loss = 9.154526, step = 2200 (12.099 sec)\n",
      "global_step/sec: 8.06823\n",
      "loss = 7.721015, step = 2300 (12.394 sec)\n",
      "global_step/sec: 7.89968\n",
      "loss = 10.2941, step = 2400 (12.659 sec)\n",
      "Saving checkpoints for 2480 into resultshisto/model/model.ckpt.\n",
      "Skip the current checkpoint eval due to throttle secs (120 secs).\n",
      "Calling model_fn.\n",
      "Done calling model_fn.\n",
      "Starting evaluation at 2020-10-07T15:55:36Z\n",
      "Graph was finalized.\n",
      "Restoring parameters from resultshisto/model/model.ckpt-2480\n",
      "Running local_init_op.\n",
      "Done running local_init_op.\n",
      "Evaluation [10/100]\n",
      "Finished evaluation at 2020-10-07-15:55:38\n",
      "Saving dict for global step 2480: acc = 0.8922248, f1 = 0.52380955, global_step = 2480, loss = 9.343881, precision = 0.60397196, recall = 0.46243292\n",
      "Saving 'checkpoint_path' summary for global step 2480: resultshisto/model/model.ckpt-2480\n",
      "Loss for final step: 8.737082.\n"
     ]
    },
    {
     "data": {
      "text/plain": [
       "({'acc': 0.8922248,\n",
       "  'f1': 0.52380955,\n",
       "  'global_step': 2480,\n",
       "  'loss': 9.343881,\n",
       "  'precision': 0.60397196,\n",
       "  'recall': 0.46243292},\n",
       " [])"
      ]
     },
     "execution_count": 10,
     "metadata": {
      "tags": []
     },
     "output_type": "execute_result"
    }
   ],
   "source": [
    "    params = {\n",
    "        'dim': 300,\n",
    "        'dropout': 0.5,\n",
    "        'num_oov_buckets': 1,\n",
    "        'epochs': 25,\n",
    "        'batch_size': 20,\n",
    "        'buffer': 15000,\n",
    "        'lstm_size': 100,\n",
    "        'words': str(Path(DATADIR, 'vocab.words.txt')),\n",
    "        'chars': str(Path(DATADIR, 'vocab.chars.txt')),\n",
    "        'tags': str(Path(DATADIR, 'vocab.tags.txt')),\n",
    "        'glove': str(Path(DATADIR, 'glove_hist.npz'))\n",
    "    }\n",
    "    with Path('resultshisto/params.json').open('w') as f:\n",
    "        json.dump(params, f, indent=4, sort_keys=True)\n",
    "\n",
    "    \n",
    "    # Estimator, train and evaluate\n",
    "    train_inpf = functools.partial(BiLSTM.input_fn, BiLSTM.fwords('train', DATADIR), BiLSTM.ftags('train', DATADIR),\n",
    "                                   params, shuffle_and_repeat=True)\n",
    "    eval_inpf = functools.partial(BiLSTM.input_fn, BiLSTM.fwords('test', DATADIR), BiLSTM.ftags('test', DATADIR))\n",
    "\n",
    "    cfg = tf.estimator.RunConfig(save_checkpoints_secs=120)\n",
    "    estimator = tf.estimator.Estimator(BiLSTM.model_fn, 'resultshisto/model', cfg, params)\n",
    "    Path(estimator.eval_dir()).mkdir(parents=True, exist_ok=True)\n",
    "    #hook = tf.contrib.estimator.stop_if_no_increase_hook(\n",
    "    #    estimator, 'f1', 500, min_steps=8000, run_every_secs=120)\n",
    "    #train_spec = tf.estimator.TrainSpec(input_fn=train_inpf, hooks=[hook])\n",
    "    train_spec = tf.estimator.TrainSpec(input_fn=train_inpf)\n",
    "    eval_spec = tf.estimator.EvalSpec(input_fn=eval_inpf, throttle_secs=120)\n",
    "    tf.estimator.train_and_evaluate(estimator, train_spec, eval_spec)"
   ]
  },
  {
   "cell_type": "code",
   "execution_count": 11,
   "metadata": {
    "colab": {
     "base_uri": "https://localhost:8080/"
    },
    "id": "vz8dFoGPtxQC",
    "outputId": "77ca340a-382a-4c98-c89f-3e6a2009852c"
   },
   "outputs": [
    {
     "name": "stdout",
     "output_type": "stream",
     "text": [
      "Calling model_fn.\n",
      "From /content/drive/My Drive/Colab Notebooks/mhc/bilstm.py:90: to_int64 (from tensorflow.python.ops.math_ops) is deprecated and will be removed in a future version.\n",
      "Instructions for updating:\n",
      "Use `tf.cast` instead.\n",
      "Done calling model_fn.\n",
      "Graph was finalized.\n",
      "Restoring parameters from resultshisto/model/model.ckpt-2480\n",
      "Running local_init_op.\n",
      "Done running local_init_op.\n",
      "Calling model_fn.\n",
      "Done calling model_fn.\n",
      "Graph was finalized.\n",
      "Restoring parameters from resultshisto/model/model.ckpt-2480\n",
      "Running local_init_op.\n",
      "Done running local_init_op.\n",
      "Calling model_fn.\n",
      "Done calling model_fn.\n",
      "Graph was finalized.\n",
      "Restoring parameters from resultshisto/model/model.ckpt-2480\n",
      "Running local_init_op.\n",
      "Done running local_init_op.\n"
     ]
    }
   ],
   "source": [
    "for name in ['train', 'dev', 'test']:\n",
    "        BiLSTM.write_predictions(name, estimator, DATADIR, \"resultshisto\")"
   ]
  },
  {
   "cell_type": "code",
   "execution_count": 25,
   "metadata": {
    "execution": {
     "iopub.execute_input": "2020-10-07T16:07:37.543690Z",
     "iopub.status.busy": "2020-10-07T16:07:37.543383Z",
     "iopub.status.idle": "2020-10-07T16:07:37.547313Z",
     "shell.execute_reply": "2020-10-07T16:07:37.546465Z",
     "shell.execute_reply.started": "2020-10-07T16:07:37.543656Z"
    }
   },
   "outputs": [],
   "source": [
    "from sklearn.metrics import f1_score, precision_score, recall_score"
   ]
  },
  {
   "cell_type": "code",
   "execution_count": 35,
   "metadata": {
    "execution": {
     "iopub.execute_input": "2020-10-07T16:09:00.117402Z",
     "iopub.status.busy": "2020-10-07T16:09:00.117202Z",
     "iopub.status.idle": "2020-10-07T16:09:00.121421Z",
     "shell.execute_reply": "2020-10-07T16:09:00.120482Z",
     "shell.execute_reply.started": "2020-10-07T16:09:00.117381Z"
    }
   },
   "outputs": [],
   "source": [
    "def red_pred(path):\n",
    "    y, y_pred = [], []\n",
    "    with Path(path).open(\"r\") as f:\n",
    "        for l in f:\n",
    "            if l.strip():\n",
    "                words = l.split()\n",
    "                y.append(words[1])\n",
    "                y_pred.append(words[2])\n",
    "        return y, y_pred"
   ]
  },
  {
   "cell_type": "code",
   "execution_count": 36,
   "metadata": {
    "execution": {
     "iopub.execute_input": "2020-10-07T16:09:00.401103Z",
     "iopub.status.busy": "2020-10-07T16:09:00.400904Z",
     "iopub.status.idle": "2020-10-07T16:09:00.408628Z",
     "shell.execute_reply": "2020-10-07T16:09:00.407962Z",
     "shell.execute_reply.started": "2020-10-07T16:09:00.401082Z"
    }
   },
   "outputs": [],
   "source": [
    "y, y_pred = red_pred(\"results/score/test.preds.txt\")"
   ]
  },
  {
   "cell_type": "code",
   "execution_count": 37,
   "metadata": {
    "execution": {
     "iopub.execute_input": "2020-10-07T16:09:01.031127Z",
     "iopub.status.busy": "2020-10-07T16:09:01.030932Z",
     "iopub.status.idle": "2020-10-07T16:09:01.117825Z",
     "shell.execute_reply": "2020-10-07T16:09:01.117169Z",
     "shell.execute_reply.started": "2020-10-07T16:09:01.031106Z"
    }
   },
   "outputs": [
    {
     "name": "stdout",
     "output_type": "stream",
     "text": [
      "0.8917272518912011 0.8891516370522373 0.9011547344110854\n"
     ]
    }
   ],
   "source": [
    "f1 = f1_score(y, y_pred, average='weighted')\n",
    "prec = precision_score(y, y_pred, average='weighted')\n",
    "rec = recall_score(y, y_pred, average='weighted')\n",
    "print(f1, prec, rec)"
   ]
  },
  {
   "cell_type": "code",
   "execution_count": 38,
   "metadata": {
    "execution": {
     "iopub.execute_input": "2020-10-07T16:09:01.644655Z",
     "iopub.status.busy": "2020-10-07T16:09:01.644462Z",
     "iopub.status.idle": "2020-10-07T16:09:01.650919Z",
     "shell.execute_reply": "2020-10-07T16:09:01.650177Z",
     "shell.execute_reply.started": "2020-10-07T16:09:01.644635Z"
    }
   },
   "outputs": [],
   "source": [
    "y, y_pred = red_pred(\"resultshisto/score/test.preds.txt\")"
   ]
  },
  {
   "cell_type": "code",
   "execution_count": 39,
   "metadata": {
    "execution": {
     "iopub.execute_input": "2020-10-07T16:09:02.292977Z",
     "iopub.status.busy": "2020-10-07T16:09:02.292675Z",
     "iopub.status.idle": "2020-10-07T16:09:02.391238Z",
     "shell.execute_reply": "2020-10-07T16:09:02.390719Z",
     "shell.execute_reply.started": "2020-10-07T16:09:02.292925Z"
    }
   },
   "outputs": [
    {
     "name": "stdout",
     "output_type": "stream",
     "text": [
      "0.878688859838361 0.8755559611760211 0.8922247882986913\n"
     ]
    }
   ],
   "source": [
    "f1 = f1_score(y, y_pred, average='weighted')\n",
    "prec = precision_score(y, y_pred, average='weighted')\n",
    "rec = recall_score(y, y_pred, average='weighted')\n",
    "print(f1, prec, rec)"
   ]
  }
 ],
 "metadata": {
  "accelerator": "GPU",
  "colab": {
   "collapsed_sections": [],
   "name": "mhc.ipynb",
   "provenance": []
  },
  "kernelspec": {
   "display_name": "Python 3",
   "language": "python",
   "name": "python3"
  },
  "language_info": {
   "codemirror_mode": {
    "name": "ipython",
    "version": 3
   },
   "file_extension": ".py",
   "mimetype": "text/x-python",
   "name": "python",
   "nbconvert_exporter": "python",
   "pygments_lexer": "ipython3",
   "version": "3.8.5"
  }
 },
 "nbformat": 4,
 "nbformat_minor": 4
}
