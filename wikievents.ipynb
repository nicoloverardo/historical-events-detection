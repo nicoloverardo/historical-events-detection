{
 "metadata": {
  "language_info": {
   "codemirror_mode": {
    "name": "ipython",
    "version": 3
   },
   "file_extension": ".py",
   "mimetype": "text/x-python",
   "name": "python",
   "nbconvert_exporter": "python",
   "pygments_lexer": "ipython3",
   "version": "3.8.5-final"
  },
  "orig_nbformat": 2,
  "kernelspec": {
   "name": "Python 3.8.5 64-bit ('base': conda)",
   "display_name": "Python 3.8.5 64-bit ('base': conda)",
   "metadata": {
    "interpreter": {
     "hash": "75e1510848ff81b2a8a3022c3bfac472ed28a49a56e1422a056d525171f2408b"
    }
   }
  }
 },
 "nbformat": 4,
 "nbformat_minor": 2,
 "cells": [
  {
   "cell_type": "code",
   "execution_count": 1,
   "metadata": {},
   "outputs": [
    {
     "output_type": "stream",
     "name": "stdout",
     "text": [
      "INFO: Pandarallel will run on 8 workers.\nINFO: Pandarallel will use Memory file system to transfer data between the main process and workers.\n"
     ]
    }
   ],
   "source": [
    "import pandas as pd\n",
    "import numpy as np\n",
    "\n",
    "from wikiapi import WikiWrapper\n",
    "\n",
    "from tqdm import tqdm\n",
    "import multiprocessing as mp\n",
    "from multiprocessing import Pool\n",
    "\n",
    "from p_tqdm import p_map\n",
    "\n",
    "from pandarallel import pandarallel\n",
    "pandarallel.initialize(progress_bar=True)"
   ]
  },
  {
   "cell_type": "code",
   "execution_count": 1,
   "metadata": {},
   "outputs": [],
   "source": [
    "q_hist = (\n",
    "    \"\"\"\n",
    "    PREFIX dbo: <http://dbpedia.org/ontology/>\n",
    "    SELECT DISTINCT ?Event_1\n",
    "    WHERE { ?Event_1 a dbo:Event .\n",
    "            ?Event_1 a dbo:MilitaryConflict . }\n",
    "\n",
    "    LIMIT 1000\n",
    "    \"\"\"\n",
    ")\n",
    "\n",
    "q_nonhist_1 = (\n",
    "    \"\"\"\n",
    "    PREFIX dbo: <http://dbpedia.org/ontology/>\n",
    "    SELECT DISTINCT ?Artist_1\n",
    "    WHERE { ?Artist_1 a dbo:Artist . }\n",
    "\n",
    "    LIMIT 500\n",
    "    \"\"\"\n",
    ")\n",
    "\n",
    "q_nonhist_2 = (\n",
    "    \"\"\"\n",
    "    PREFIX dbo: <http://dbpedia.org/ontology/>\n",
    "    SELECT DISTINCT ?Animal_1\n",
    "    WHERE { ?Animal_1 a dbo:Animal . }\n",
    "\n",
    "    LIMIT 500\n",
    "    \"\"\"\n",
    ")"
   ]
  },
  {
   "cell_type": "code",
   "execution_count": 3,
   "metadata": {
    "tags": []
   },
   "outputs": [],
   "source": [
    "hist_events_name = WikiWrapper.download_pages_name(q_hist)\n",
    "non_hist_events_name = WikiWrapper.download_pages_name(q_nonhist_1)\n",
    "non_hist_events_name = non_hist_events_name + WikiWrapper.download_pages_name(q_nonhist_2)"
   ]
  },
  {
   "cell_type": "code",
   "execution_count": 18,
   "metadata": {},
   "outputs": [],
   "source": [
    "df = pd.DataFrame(hist_events_name, columns=[\"Name\"])\n",
    "df[\"Abstract\"] = \"\"\n",
    "df[\"Label\"] = 1"
   ]
  },
  {
   "cell_type": "code",
   "execution_count": 19,
   "metadata": {},
   "outputs": [],
   "source": [
    "df1 = pd.DataFrame(non_hist_events_name, columns=[\"Name\"])\n",
    "df1[\"Abstract\"] = \"\"\n",
    "df1[\"Label\"] = 0"
   ]
  },
  {
   "cell_type": "code",
   "execution_count": 20,
   "metadata": {},
   "outputs": [],
   "source": [
    "df = pd.concat([df, df1])\n",
    "df.reset_index(inplace=True, drop=True)\n",
    "df = df.sample(frac=1).reset_index(drop=True)"
   ]
  },
  {
   "cell_type": "code",
   "execution_count": 21,
   "metadata": {},
   "outputs": [
    {
     "output_type": "execute_result",
     "data": {
      "text/plain": [
       "                          Name Abstract  Label\n",
       "0           Bataan_Death_March               1\n",
       "1                      Hikitia               0\n",
       "2                      Walleye               0\n",
       "3         Bill_Parker_(comics)               0\n",
       "4                   Anju_Panta               0\n",
       "...                        ...      ...    ...\n",
       "1995     Operation_Coronado_II               1\n",
       "1996  Azov_campaigns_(1695–96)               1\n",
       "1997         Battle_of_Jwa-won               1\n",
       "1998  Action_of_April_17,_1837               1\n",
       "1999        Midshipman_(horse)               0\n",
       "\n",
       "[2000 rows x 3 columns]"
      ],
      "text/html": "<div>\n<style scoped>\n    .dataframe tbody tr th:only-of-type {\n        vertical-align: middle;\n    }\n\n    .dataframe tbody tr th {\n        vertical-align: top;\n    }\n\n    .dataframe thead th {\n        text-align: right;\n    }\n</style>\n<table border=\"1\" class=\"dataframe\">\n  <thead>\n    <tr style=\"text-align: right;\">\n      <th></th>\n      <th>Name</th>\n      <th>Abstract</th>\n      <th>Label</th>\n    </tr>\n  </thead>\n  <tbody>\n    <tr>\n      <th>0</th>\n      <td>Bataan_Death_March</td>\n      <td></td>\n      <td>1</td>\n    </tr>\n    <tr>\n      <th>1</th>\n      <td>Hikitia</td>\n      <td></td>\n      <td>0</td>\n    </tr>\n    <tr>\n      <th>2</th>\n      <td>Walleye</td>\n      <td></td>\n      <td>0</td>\n    </tr>\n    <tr>\n      <th>3</th>\n      <td>Bill_Parker_(comics)</td>\n      <td></td>\n      <td>0</td>\n    </tr>\n    <tr>\n      <th>4</th>\n      <td>Anju_Panta</td>\n      <td></td>\n      <td>0</td>\n    </tr>\n    <tr>\n      <th>...</th>\n      <td>...</td>\n      <td>...</td>\n      <td>...</td>\n    </tr>\n    <tr>\n      <th>1995</th>\n      <td>Operation_Coronado_II</td>\n      <td></td>\n      <td>1</td>\n    </tr>\n    <tr>\n      <th>1996</th>\n      <td>Azov_campaigns_(1695–96)</td>\n      <td></td>\n      <td>1</td>\n    </tr>\n    <tr>\n      <th>1997</th>\n      <td>Battle_of_Jwa-won</td>\n      <td></td>\n      <td>1</td>\n    </tr>\n    <tr>\n      <th>1998</th>\n      <td>Action_of_April_17,_1837</td>\n      <td></td>\n      <td>1</td>\n    </tr>\n    <tr>\n      <th>1999</th>\n      <td>Midshipman_(horse)</td>\n      <td></td>\n      <td>0</td>\n    </tr>\n  </tbody>\n</table>\n<p>2000 rows × 3 columns</p>\n</div>"
     },
     "metadata": {},
     "execution_count": 21
    }
   ],
   "source": [
    "df "
   ]
  },
  {
   "cell_type": "code",
   "execution_count": 22,
   "metadata": {},
   "outputs": [
    {
     "output_type": "display_data",
     "data": {
      "text/plain": "VBox(children=(HBox(children=(IntProgress(value=0, description='0.00%', max=250), Label(value='0 / 250'))), HB…",
      "application/vnd.jupyter.widget-view+json": {
       "version_major": 2,
       "version_minor": 0,
       "model_id": "8aa2d1e9df83470fb049f34b186d7ad6"
      }
     },
     "metadata": {}
    }
   ],
   "source": [
    "df[\"Abstract\"] = df.parallel_apply(WikiWrapper.get_extract, axis=1)"
   ]
  },
  {
   "cell_type": "code",
   "execution_count": 4,
   "metadata": {},
   "outputs": [],
   "source": [
    "df.dropna(subset=[\"Abstract\"], inplace=True)\n",
    "df.reset_index(inplace=True, drop=True)"
   ]
  },
  {
   "cell_type": "code",
   "execution_count": 29,
   "metadata": {},
   "outputs": [
    {
     "output_type": "display_data",
     "data": {
      "text/plain": "VBox(children=(HBox(children=(IntProgress(value=0, description='0.00%', max=250), Label(value='0 / 250'))), HB…",
      "application/vnd.jupyter.widget-view+json": {
       "version_major": 2,
       "version_minor": 0,
       "model_id": "361c03305f27425bb62f5533b81b11a7"
      }
     },
     "metadata": {}
    }
   ],
   "source": [
    "df[\"Abstract\"] = df[\"Abstract\"].parallel_apply(lambda x: x.replace(\",\", \"\").replace(\"|\", \"\"))"
   ]
  },
  {
   "cell_type": "code",
   "execution_count": 30,
   "metadata": {},
   "outputs": [
    {
     "output_type": "execute_result",
     "data": {
      "text/plain": [
       "                          Name  \\\n",
       "0           Bataan_Death_March   \n",
       "1                      Hikitia   \n",
       "2                      Walleye   \n",
       "3         Bill_Parker_(comics)   \n",
       "4                   Anju_Panta   \n",
       "...                        ...   \n",
       "1995     Operation_Coronado_II   \n",
       "1996  Azov_campaigns_(1695–96)   \n",
       "1997         Battle_of_Jwa-won   \n",
       "1998  Action_of_April_17,_1837   \n",
       "1999        Midshipman_(horse)   \n",
       "\n",
       "                                               Abstract  Label  \n",
       "0     The Bataan Death March (Filipino: Martsa ng Ka...      1  \n",
       "1     Hikitia is a working self-propelled floating s...      0  \n",
       "2     The walleye  (Sander vitreus synonym Stizosted...      0  \n",
       "3     William Lee Parker (September 11 1911 – Januar...      0  \n",
       "4     Anju Panta (Nepali: अन्जु पन्त) is a Nepalese ...      0  \n",
       "...                                                 ...    ...  \n",
       "1995  Operation Coronado II was the second of eleven...      1  \n",
       "1996                                                         1  \n",
       "1997  The Battle of Jwa-won (Hangul: 좌원전투 Hanja: 坐原戰...      1  \n",
       "1998  The Battle of the Brazos River was an engageme...      1  \n",
       "1999  Midshipman (foaled March 26 2006 in Kentucky) ...      0  \n",
       "\n",
       "[2000 rows x 3 columns]"
      ],
      "text/html": "<div>\n<style scoped>\n    .dataframe tbody tr th:only-of-type {\n        vertical-align: middle;\n    }\n\n    .dataframe tbody tr th {\n        vertical-align: top;\n    }\n\n    .dataframe thead th {\n        text-align: right;\n    }\n</style>\n<table border=\"1\" class=\"dataframe\">\n  <thead>\n    <tr style=\"text-align: right;\">\n      <th></th>\n      <th>Name</th>\n      <th>Abstract</th>\n      <th>Label</th>\n    </tr>\n  </thead>\n  <tbody>\n    <tr>\n      <th>0</th>\n      <td>Bataan_Death_March</td>\n      <td>The Bataan Death March (Filipino: Martsa ng Ka...</td>\n      <td>1</td>\n    </tr>\n    <tr>\n      <th>1</th>\n      <td>Hikitia</td>\n      <td>Hikitia is a working self-propelled floating s...</td>\n      <td>0</td>\n    </tr>\n    <tr>\n      <th>2</th>\n      <td>Walleye</td>\n      <td>The walleye  (Sander vitreus synonym Stizosted...</td>\n      <td>0</td>\n    </tr>\n    <tr>\n      <th>3</th>\n      <td>Bill_Parker_(comics)</td>\n      <td>William Lee Parker (September 11 1911 – Januar...</td>\n      <td>0</td>\n    </tr>\n    <tr>\n      <th>4</th>\n      <td>Anju_Panta</td>\n      <td>Anju Panta (Nepali: अन्जु पन्त) is a Nepalese ...</td>\n      <td>0</td>\n    </tr>\n    <tr>\n      <th>...</th>\n      <td>...</td>\n      <td>...</td>\n      <td>...</td>\n    </tr>\n    <tr>\n      <th>1995</th>\n      <td>Operation_Coronado_II</td>\n      <td>Operation Coronado II was the second of eleven...</td>\n      <td>1</td>\n    </tr>\n    <tr>\n      <th>1996</th>\n      <td>Azov_campaigns_(1695–96)</td>\n      <td></td>\n      <td>1</td>\n    </tr>\n    <tr>\n      <th>1997</th>\n      <td>Battle_of_Jwa-won</td>\n      <td>The Battle of Jwa-won (Hangul: 좌원전투 Hanja: 坐原戰...</td>\n      <td>1</td>\n    </tr>\n    <tr>\n      <th>1998</th>\n      <td>Action_of_April_17,_1837</td>\n      <td>The Battle of the Brazos River was an engageme...</td>\n      <td>1</td>\n    </tr>\n    <tr>\n      <th>1999</th>\n      <td>Midshipman_(horse)</td>\n      <td>Midshipman (foaled March 26 2006 in Kentucky) ...</td>\n      <td>0</td>\n    </tr>\n  </tbody>\n</table>\n<p>2000 rows × 3 columns</p>\n</div>"
     },
     "metadata": {},
     "execution_count": 30
    }
   ],
   "source": [
    "df"
   ]
  },
  {
   "cell_type": "code",
   "execution_count": 6,
   "metadata": {},
   "outputs": [],
   "source": [
    "df.to_csv(\"data/wiki/wiki.csv\", index=False, sep=\"|\")"
   ]
  }
 ]
}