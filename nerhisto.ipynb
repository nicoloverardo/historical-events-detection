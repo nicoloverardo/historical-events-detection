{
  "nbformat": 4,
  "nbformat_minor": 0,
  "metadata": {
    "accelerator": "GPU",
    "colab": {
      "name": "nerhisto.ipynb",
      "provenance": [],
      "collapsed_sections": []
    },
    "kernelspec": {
      "display_name": "Python 3",
      "language": "python",
      "name": "python3"
    },
    "language_info": {
      "codemirror_mode": {
        "name": "ipython",
        "version": 3
      },
      "file_extension": ".py",
      "mimetype": "text/x-python",
      "name": "python",
      "nbconvert_exporter": "python",
      "pygments_lexer": "ipython3",
      "version": "3.8.5-final"
    }
  },
  "cells": [
    {
      "cell_type": "markdown",
      "metadata": {
        "id": "cQrSGgIFvaPn"
      },
      "source": [
        "# NER with BiLSTM + CRF Tensorflow 2 on Histo dataset"
      ]
    },
    {
      "cell_type": "markdown",
      "metadata": {
        "id": "-CFuQ_xUAWrw"
      },
      "source": [
        "## Imports"
      ]
    },
    {
      "cell_type": "code",
      "metadata": {
        "id": "zMGNwNPAvSmT"
      },
      "source": [
        "!pip install tf2crf"
      ],
      "execution_count": null,
      "outputs": []
    },
    {
      "cell_type": "code",
      "metadata": {
        "id": "YdCOiPH8mrJM",
        "outputId": "51984c95-3825-4b29-caba-4b34998488f4",
        "colab": {
          "base_uri": "https://localhost:8080/"
        }
      },
      "source": [
        "from google.colab import drive\n",
        "drive.mount('/content/drive')"
      ],
      "execution_count": 2,
      "outputs": [
        {
          "output_type": "stream",
          "text": [
            "Drive already mounted at /content/drive; to attempt to forcibly remount, call drive.mount(\"/content/drive\", force_remount=True).\n"
          ],
          "name": "stdout"
        }
      ]
    },
    {
      "cell_type": "code",
      "metadata": {
        "id": "wVgX29unmrJQ"
      },
      "source": [
        "import sys\n",
        "sys.path.append('/content/drive/My Drive/Colab Notebooks/mhc/')"
      ],
      "execution_count": 3,
      "outputs": []
    },
    {
      "cell_type": "code",
      "metadata": {
        "id": "y7nCKWEJmrJU",
        "outputId": "d2a03363-a9df-4725-b435-640586c3d507",
        "colab": {
          "base_uri": "https://localhost:8080/"
        }
      },
      "source": [
        "%cd \"/content/drive/My Drive/Colab Notebooks/mhc/\""
      ],
      "execution_count": 4,
      "outputs": [
        {
          "output_type": "stream",
          "text": [
            "/content/drive/My Drive/Colab Notebooks/mhc\n"
          ],
          "name": "stdout"
        }
      ]
    },
    {
      "cell_type": "code",
      "metadata": {
        "id": "zjA_zMdUvf21"
      },
      "source": [
        "import numpy as np\n",
        "\n",
        "from model import BilstmCrf\n",
        "from text import PreProcessing"
      ],
      "execution_count": 1,
      "outputs": []
    },
    {
      "cell_type": "markdown",
      "metadata": {
        "id": "FLQXbnXwAD5e"
      },
      "source": [
        "## Training"
      ]
    },
    {
      "cell_type": "markdown",
      "metadata": {
        "id": "Z1rT_jiw_yb1"
      },
      "source": [
        "### Glove"
      ]
    },
    {
      "cell_type": "code",
      "metadata": {
        "id": "RX3ywSwpMbrG"
      },
      "source": [
        "data_path = \"data/histo/\""
      ],
      "execution_count": 2,
      "outputs": []
    },
    {
      "cell_type": "code",
      "metadata": {
        "id": "4vRSvlI4MbrI"
      },
      "source": [
        "embeddings = np.load(\"data/histo/gloveemb.npz\")['embeddings']"
      ],
      "execution_count": 3,
      "outputs": []
    },
    {
      "cell_type": "code",
      "metadata": {
        "id": "sFNySRcr_WEO"
      },
      "source": [
        "model = BilstmCrf(data_path, embeddings)"
      ],
      "execution_count": 4,
      "outputs": []
    },
    {
      "cell_type": "code",
      "metadata": {
        "id": "04BtipXZMbrM",
        "outputId": "0559cf77-f459-4fd3-d972-a3d923a29716",
        "colab": {
          "base_uri": "https://localhost:8080/"
        }
      },
      "source": [
        "model.train()"
      ],
      "execution_count": 9,
      "outputs": [
        {
          "output_type": "stream",
          "text": [
            "Epoch 1/100\n",
            "62/62 [==============================] - 24s 393ms/step - loss: 491.2731 - accuracy: 0.4707 - val_loss: 314.7879 - val_accuracy: 0.9563\n",
            "Epoch 2/100\n",
            "62/62 [==============================] - 23s 367ms/step - loss: 409.4943 - accuracy: 0.4964 - val_loss: 304.2424 - val_accuracy: 0.9567\n",
            "Epoch 3/100\n",
            "62/62 [==============================] - 22s 362ms/step - loss: 385.9248 - accuracy: 0.5524 - val_loss: 293.2894 - val_accuracy: 0.9569\n",
            "Epoch 4/100\n",
            "62/62 [==============================] - 22s 361ms/step - loss: 364.0770 - accuracy: 0.7586 - val_loss: 281.9767 - val_accuracy: 0.9584\n",
            "Epoch 5/100\n",
            "62/62 [==============================] - 22s 361ms/step - loss: 342.9276 - accuracy: 0.9196 - val_loss: 270.5684 - val_accuracy: 0.9600\n",
            "Epoch 6/100\n",
            "62/62 [==============================] - 23s 368ms/step - loss: 322.0872 - accuracy: 0.9578 - val_loss: 259.2306 - val_accuracy: 0.9612\n",
            "Epoch 7/100\n",
            "62/62 [==============================] - 23s 369ms/step - loss: 301.8786 - accuracy: 0.9651 - val_loss: 247.8894 - val_accuracy: 0.9617\n",
            "Epoch 8/100\n",
            "62/62 [==============================] - 23s 370ms/step - loss: 281.3074 - accuracy: 0.9722 - val_loss: 236.7630 - val_accuracy: 0.9616\n",
            "Epoch 9/100\n",
            "62/62 [==============================] - 22s 358ms/step - loss: 262.2235 - accuracy: 0.9792 - val_loss: 225.4280 - val_accuracy: 0.9637\n",
            "Epoch 10/100\n",
            "62/62 [==============================] - 22s 354ms/step - loss: 243.0542 - accuracy: 0.9798 - val_loss: 214.6229 - val_accuracy: 0.9628\n",
            "Epoch 11/100\n",
            "62/62 [==============================] - 22s 358ms/step - loss: 224.9745 - accuracy: 0.9806 - val_loss: 203.6655 - val_accuracy: 0.9647\n",
            "Epoch 12/100\n",
            "62/62 [==============================] - 22s 350ms/step - loss: 207.1075 - accuracy: 0.9812 - val_loss: 193.1333 - val_accuracy: 0.9637\n",
            "Epoch 13/100\n",
            "62/62 [==============================] - 22s 349ms/step - loss: 191.1808 - accuracy: 0.9816 - val_loss: 182.5340 - val_accuracy: 0.9654\n",
            "Epoch 14/100\n",
            "62/62 [==============================] - 21s 343ms/step - loss: 175.2920 - accuracy: 0.9819 - val_loss: 172.3203 - val_accuracy: 0.9650\n",
            "Epoch 15/100\n",
            "62/62 [==============================] - 22s 350ms/step - loss: 160.5838 - accuracy: 0.9822 - val_loss: 162.3606 - val_accuracy: 0.9647\n",
            "Epoch 16/100\n",
            "62/62 [==============================] - 21s 342ms/step - loss: 146.6535 - accuracy: 0.9826 - val_loss: 152.7043 - val_accuracy: 0.9647\n",
            "Epoch 17/100\n",
            "62/62 [==============================] - 21s 342ms/step - loss: 133.9634 - accuracy: 0.9827 - val_loss: 143.1065 - val_accuracy: 0.9657\n",
            "Epoch 18/100\n",
            "62/62 [==============================] - 21s 342ms/step - loss: 121.5050 - accuracy: 0.9829 - val_loss: 134.1713 - val_accuracy: 0.9641\n",
            "Epoch 19/100\n",
            "62/62 [==============================] - 21s 338ms/step - loss: 110.9544 - accuracy: 0.9829 - val_loss: 125.2031 - val_accuracy: 0.9658\n",
            "Epoch 20/100\n",
            "62/62 [==============================] - 21s 345ms/step - loss: 100.0356 - accuracy: 0.9834 - val_loss: 116.9184 - val_accuracy: 0.9651\n",
            "Epoch 21/100\n",
            "62/62 [==============================] - 21s 338ms/step - loss: 91.5874 - accuracy: 0.9834 - val_loss: 108.7721 - val_accuracy: 0.9656\n",
            "Epoch 22/100\n",
            "62/62 [==============================] - 21s 346ms/step - loss: 82.7745 - accuracy: 0.9834 - val_loss: 100.9729 - val_accuracy: 0.9670\n",
            "Epoch 23/100\n",
            "62/62 [==============================] - 21s 339ms/step - loss: 75.2682 - accuracy: 0.9837 - val_loss: 93.9922 - val_accuracy: 0.9654\n",
            "Epoch 24/100\n",
            "62/62 [==============================] - 21s 339ms/step - loss: 68.3148 - accuracy: 0.9838 - val_loss: 87.0379 - val_accuracy: 0.9668\n",
            "Epoch 25/100\n",
            "62/62 [==============================] - 21s 337ms/step - loss: 62.3903 - accuracy: 0.9839 - val_loss: 80.8119 - val_accuracy: 0.9664\n",
            "Epoch 26/100\n",
            "62/62 [==============================] - 21s 338ms/step - loss: 57.0684 - accuracy: 0.9841 - val_loss: 74.8649 - val_accuracy: 0.9670\n",
            "Epoch 27/100\n",
            "62/62 [==============================] - 21s 335ms/step - loss: 52.4423 - accuracy: 0.9841 - val_loss: 69.5899 - val_accuracy: 0.9664\n",
            "Epoch 28/100\n",
            "62/62 [==============================] - 21s 342ms/step - loss: 48.3750 - accuracy: 0.9841 - val_loss: 64.4687 - val_accuracy: 0.9675\n",
            "Epoch 29/100\n",
            "62/62 [==============================] - 21s 342ms/step - loss: 44.4900 - accuracy: 0.9843 - val_loss: 59.8782 - val_accuracy: 0.9678\n",
            "Epoch 30/100\n",
            "62/62 [==============================] - 21s 345ms/step - loss: 41.3828 - accuracy: 0.9843 - val_loss: 55.9723 - val_accuracy: 0.9674\n",
            "Epoch 31/100\n",
            "62/62 [==============================] - 21s 340ms/step - loss: 38.3526 - accuracy: 0.9844 - val_loss: 52.4362 - val_accuracy: 0.9669\n",
            "Epoch 32/100\n",
            "62/62 [==============================] - 21s 338ms/step - loss: 36.0384 - accuracy: 0.9846 - val_loss: 49.1734 - val_accuracy: 0.9676\n",
            "Epoch 33/100\n",
            "62/62 [==============================] - 21s 345ms/step - loss: 33.8251 - accuracy: 0.9849 - val_loss: 46.3116 - val_accuracy: 0.9669\n",
            "Epoch 34/100\n",
            "62/62 [==============================] - 22s 348ms/step - loss: 31.8339 - accuracy: 0.9849 - val_loss: 43.6938 - val_accuracy: 0.9680\n",
            "Epoch 35/100\n",
            "62/62 [==============================] - 21s 344ms/step - loss: 30.2005 - accuracy: 0.9851 - val_loss: 41.4344 - val_accuracy: 0.9685\n",
            "Epoch 36/100\n",
            "62/62 [==============================] - 21s 341ms/step - loss: 28.7249 - accuracy: 0.9850 - val_loss: 39.7000 - val_accuracy: 0.9672\n",
            "Epoch 37/100\n",
            "62/62 [==============================] - 21s 342ms/step - loss: 27.2074 - accuracy: 0.9852 - val_loss: 37.8081 - val_accuracy: 0.9678\n",
            "Epoch 38/100\n",
            "62/62 [==============================] - 21s 337ms/step - loss: 26.1562 - accuracy: 0.9852 - val_loss: 36.3470 - val_accuracy: 0.9689\n",
            "Epoch 39/100\n",
            "62/62 [==============================] - 21s 336ms/step - loss: 25.1863 - accuracy: 0.9852 - val_loss: 34.9708 - val_accuracy: 0.9690\n",
            "Epoch 40/100\n",
            "62/62 [==============================] - 21s 335ms/step - loss: 24.2216 - accuracy: 0.9856 - val_loss: 33.9576 - val_accuracy: 0.9685\n",
            "Epoch 41/100\n",
            "62/62 [==============================] - 21s 339ms/step - loss: 23.2060 - accuracy: 0.9856 - val_loss: 33.0262 - val_accuracy: 0.9672\n",
            "Epoch 42/100\n",
            "62/62 [==============================] - 21s 336ms/step - loss: 22.3846 - accuracy: 0.9859 - val_loss: 31.9285 - val_accuracy: 0.9693\n",
            "Epoch 43/100\n",
            "62/62 [==============================] - 21s 338ms/step - loss: 21.4620 - accuracy: 0.9858 - val_loss: 31.4227 - val_accuracy: 0.9689\n",
            "Epoch 44/100\n",
            "62/62 [==============================] - 21s 338ms/step - loss: 21.0106 - accuracy: 0.9859 - val_loss: 30.7935 - val_accuracy: 0.9685\n",
            "Epoch 45/100\n",
            "62/62 [==============================] - 21s 343ms/step - loss: 20.5229 - accuracy: 0.9860 - val_loss: 30.0049 - val_accuracy: 0.9687\n",
            "Epoch 46/100\n",
            "62/62 [==============================] - 21s 339ms/step - loss: 19.7152 - accuracy: 0.9863 - val_loss: 29.2633 - val_accuracy: 0.9695\n",
            "Epoch 47/100\n",
            "62/62 [==============================] - 21s 340ms/step - loss: 19.2981 - accuracy: 0.9864 - val_loss: 28.9524 - val_accuracy: 0.9684\n",
            "Epoch 48/100\n",
            "62/62 [==============================] - 21s 342ms/step - loss: 18.9293 - accuracy: 0.9863 - val_loss: 28.5774 - val_accuracy: 0.9697\n",
            "Epoch 49/100\n",
            "62/62 [==============================] - 22s 350ms/step - loss: 18.3539 - accuracy: 0.9866 - val_loss: 28.0413 - val_accuracy: 0.9684\n",
            "Epoch 50/100\n",
            "62/62 [==============================] - 22s 348ms/step - loss: 18.0926 - accuracy: 0.9864 - val_loss: 27.6198 - val_accuracy: 0.9687\n",
            "Epoch 51/100\n",
            "62/62 [==============================] - 21s 343ms/step - loss: 17.6725 - accuracy: 0.9868 - val_loss: 27.6796 - val_accuracy: 0.9691\n",
            "Epoch 52/100\n",
            "62/62 [==============================] - 22s 349ms/step - loss: 17.0701 - accuracy: 0.9870 - val_loss: 27.0297 - val_accuracy: 0.9689\n",
            "Epoch 53/100\n",
            "62/62 [==============================] - 21s 345ms/step - loss: 16.7427 - accuracy: 0.9871 - val_loss: 26.5742 - val_accuracy: 0.9679\n",
            "Epoch 54/100\n",
            "62/62 [==============================] - 21s 347ms/step - loss: 16.3855 - accuracy: 0.9872 - val_loss: 26.6362 - val_accuracy: 0.9696\n",
            "Epoch 55/100\n",
            "62/62 [==============================] - 21s 343ms/step - loss: 16.0966 - accuracy: 0.9872 - val_loss: 26.0050 - val_accuracy: 0.9692\n",
            "Epoch 56/100\n",
            "62/62 [==============================] - 22s 349ms/step - loss: 16.1043 - accuracy: 0.9871 - val_loss: 25.9860 - val_accuracy: 0.9692\n",
            "Epoch 57/100\n",
            "62/62 [==============================] - 21s 344ms/step - loss: 15.4604 - accuracy: 0.9876 - val_loss: 25.5667 - val_accuracy: 0.9682\n",
            "Epoch 58/100\n",
            "62/62 [==============================] - 21s 344ms/step - loss: 15.4143 - accuracy: 0.9873 - val_loss: 25.6238 - val_accuracy: 0.9700\n",
            "Epoch 59/100\n",
            "62/62 [==============================] - 21s 340ms/step - loss: 15.0934 - accuracy: 0.9876 - val_loss: 25.2032 - val_accuracy: 0.9688\n",
            "Epoch 60/100\n",
            "62/62 [==============================] - 21s 342ms/step - loss: 14.6949 - accuracy: 0.9879 - val_loss: 24.9708 - val_accuracy: 0.9696\n",
            "Epoch 61/100\n",
            "62/62 [==============================] - 21s 344ms/step - loss: 14.7274 - accuracy: 0.9875 - val_loss: 24.7836 - val_accuracy: 0.9691\n",
            "Epoch 62/100\n",
            "62/62 [==============================] - 21s 338ms/step - loss: 14.4433 - accuracy: 0.9876 - val_loss: 24.6575 - val_accuracy: 0.9690\n",
            "Epoch 63/100\n",
            "62/62 [==============================] - 22s 354ms/step - loss: 14.2129 - accuracy: 0.9880 - val_loss: 24.5818 - val_accuracy: 0.9693\n",
            "Epoch 64/100\n",
            "62/62 [==============================] - 22s 357ms/step - loss: 13.9281 - accuracy: 0.9881 - val_loss: 24.3938 - val_accuracy: 0.9688\n",
            "Epoch 65/100\n",
            "62/62 [==============================] - 22s 349ms/step - loss: 13.8383 - accuracy: 0.9879 - val_loss: 24.2106 - val_accuracy: 0.9701\n",
            "Epoch 66/100\n",
            "62/62 [==============================] - 21s 345ms/step - loss: 13.6067 - accuracy: 0.9880 - val_loss: 24.4073 - val_accuracy: 0.9691\n",
            "Epoch 67/100\n",
            "62/62 [==============================] - 22s 354ms/step - loss: 13.3575 - accuracy: 0.9883 - val_loss: 24.0061 - val_accuracy: 0.9703\n",
            "Epoch 68/100\n",
            "62/62 [==============================] - 21s 342ms/step - loss: 13.2950 - accuracy: 0.9884 - val_loss: 24.0823 - val_accuracy: 0.9697\n",
            "Epoch 69/100\n",
            "62/62 [==============================] - 21s 335ms/step - loss: 13.2025 - accuracy: 0.9883 - val_loss: 23.6873 - val_accuracy: 0.9692\n",
            "Epoch 70/100\n",
            "62/62 [==============================] - 21s 333ms/step - loss: 13.0476 - accuracy: 0.9883 - val_loss: 23.6954 - val_accuracy: 0.9695\n",
            "Epoch 71/100\n",
            "62/62 [==============================] - 21s 342ms/step - loss: 12.7643 - accuracy: 0.9885 - val_loss: 23.4996 - val_accuracy: 0.9685\n",
            "Epoch 72/100\n",
            "62/62 [==============================] - 21s 334ms/step - loss: 12.6140 - accuracy: 0.9885 - val_loss: 23.2711 - val_accuracy: 0.9686\n",
            "Epoch 73/100\n",
            "62/62 [==============================] - 21s 331ms/step - loss: 12.5290 - accuracy: 0.9886 - val_loss: 23.4107 - val_accuracy: 0.9691\n",
            "Epoch 74/100\n",
            "62/62 [==============================] - 21s 332ms/step - loss: 12.5502 - accuracy: 0.9885 - val_loss: 23.1555 - val_accuracy: 0.9694\n",
            "Epoch 00074: early stopping\n"
          ],
          "name": "stdout"
        }
      ]
    },
    {
      "cell_type": "code",
      "metadata": {
        "id": "u7ZrsJR6MbrP",
        "outputId": "690782f3-d79c-4bf6-b090-3dae710d9354",
        "colab": {
          "base_uri": "https://localhost:8080/"
        }
      },
      "source": [
        "model.evaluate()"
      ],
      "execution_count": 10,
      "outputs": [
        {
          "output_type": "stream",
          "text": [
            "8/8 [==============================] - 0s 60ms/step - loss: 21.8239 - accuracy: 0.9608\n",
            "Test Accuracy: 0.9607747197151184\n"
          ],
          "name": "stdout"
        }
      ]
    },
    {
      "cell_type": "code",
      "metadata": {
        "id": "UiA83jx1tTos"
      },
      "source": [
        "model.save(\"serialized/glove/\")"
      ],
      "execution_count": 11,
      "outputs": []
    },
    {
      "cell_type": "markdown",
      "metadata": {
        "id": "53eM1v4f_3q7"
      },
      "source": [
        "### Histo\n"
      ]
    },
    {
      "cell_type": "code",
      "metadata": {
        "id": "tyzjnbrV_WEg"
      },
      "source": [
        "embeddings = np.load(\"data/histo/glovehisto.npz\")['embeddings']"
      ],
      "execution_count": 12,
      "outputs": []
    },
    {
      "cell_type": "code",
      "metadata": {
        "id": "abh_zA88_WEj"
      },
      "source": [
        "model = BilstmCrf(data_path, embeddings)"
      ],
      "execution_count": 13,
      "outputs": []
    },
    {
      "cell_type": "code",
      "metadata": {
        "id": "aL-MseUg_WEn",
        "outputId": "cf83fcaf-c027-4c4b-c962-23fdf7da7f54",
        "colab": {
          "base_uri": "https://localhost:8080/"
        }
      },
      "source": [
        "model.train()"
      ],
      "execution_count": 14,
      "outputs": [
        {
          "output_type": "stream",
          "text": [
            "Epoch 1/100\n",
            "62/62 [==============================] - 22s 349ms/step - loss: 452.7933 - accuracy: 0.4993 - val_loss: 293.3616 - val_accuracy: 0.9565\n",
            "Epoch 2/100\n",
            "62/62 [==============================] - 20s 325ms/step - loss: 372.8501 - accuracy: 0.8469 - val_loss: 282.8943 - val_accuracy: 0.9567\n",
            "Epoch 3/100\n",
            "62/62 [==============================] - 21s 336ms/step - loss: 350.6106 - accuracy: 0.9699 - val_loss: 271.9706 - val_accuracy: 0.9570\n",
            "Epoch 4/100\n",
            "62/62 [==============================] - 21s 337ms/step - loss: 328.3314 - accuracy: 0.9734 - val_loss: 260.8335 - val_accuracy: 0.9578\n",
            "Epoch 5/100\n",
            "62/62 [==============================] - 20s 331ms/step - loss: 308.4654 - accuracy: 0.9752 - val_loss: 249.5961 - val_accuracy: 0.9585\n",
            "Epoch 6/100\n",
            "62/62 [==============================] - 20s 331ms/step - loss: 287.9246 - accuracy: 0.9764 - val_loss: 238.4157 - val_accuracy: 0.9588\n",
            "Epoch 7/100\n",
            "62/62 [==============================] - 20s 327ms/step - loss: 267.7008 - accuracy: 0.9777 - val_loss: 227.2445 - val_accuracy: 0.9596\n",
            "Epoch 8/100\n",
            "62/62 [==============================] - 21s 337ms/step - loss: 250.4239 - accuracy: 0.9785 - val_loss: 216.1218 - val_accuracy: 0.9609\n",
            "Epoch 9/100\n",
            "62/62 [==============================] - 20s 330ms/step - loss: 230.4393 - accuracy: 0.9797 - val_loss: 205.1297 - val_accuracy: 0.9613\n",
            "Epoch 10/100\n",
            "62/62 [==============================] - 20s 329ms/step - loss: 212.2560 - accuracy: 0.9795 - val_loss: 194.4457 - val_accuracy: 0.9616\n",
            "Epoch 11/100\n",
            "62/62 [==============================] - 21s 332ms/step - loss: 194.9601 - accuracy: 0.9806 - val_loss: 183.5947 - val_accuracy: 0.9643\n",
            "Epoch 12/100\n",
            "62/62 [==============================] - 21s 338ms/step - loss: 178.8357 - accuracy: 0.9809 - val_loss: 173.4468 - val_accuracy: 0.9632\n",
            "Epoch 13/100\n",
            "62/62 [==============================] - 20s 329ms/step - loss: 163.8706 - accuracy: 0.9814 - val_loss: 163.4811 - val_accuracy: 0.9623\n",
            "Epoch 14/100\n",
            "62/62 [==============================] - 21s 334ms/step - loss: 149.7523 - accuracy: 0.9813 - val_loss: 153.4375 - val_accuracy: 0.9642\n",
            "Epoch 15/100\n",
            "62/62 [==============================] - 21s 336ms/step - loss: 136.8136 - accuracy: 0.9818 - val_loss: 144.0254 - val_accuracy: 0.9631\n",
            "Epoch 16/100\n",
            "62/62 [==============================] - 21s 335ms/step - loss: 124.1220 - accuracy: 0.9821 - val_loss: 134.6716 - val_accuracy: 0.9642\n",
            "Epoch 17/100\n",
            "62/62 [==============================] - 21s 335ms/step - loss: 113.0118 - accuracy: 0.9824 - val_loss: 125.7604 - val_accuracy: 0.9638\n",
            "Epoch 18/100\n",
            "62/62 [==============================] - 21s 343ms/step - loss: 102.7320 - accuracy: 0.9824 - val_loss: 117.1411 - val_accuracy: 0.9644\n",
            "Epoch 19/100\n",
            "62/62 [==============================] - 21s 335ms/step - loss: 93.0046 - accuracy: 0.9826 - val_loss: 109.0497 - val_accuracy: 0.9640\n",
            "Epoch 20/100\n",
            "62/62 [==============================] - 21s 333ms/step - loss: 84.3044 - accuracy: 0.9827 - val_loss: 101.2706 - val_accuracy: 0.9647\n",
            "Epoch 21/100\n",
            "62/62 [==============================] - 20s 329ms/step - loss: 76.8042 - accuracy: 0.9828 - val_loss: 94.0878 - val_accuracy: 0.9644\n",
            "Epoch 22/100\n",
            "62/62 [==============================] - 21s 334ms/step - loss: 70.1655 - accuracy: 0.9830 - val_loss: 87.1261 - val_accuracy: 0.9651\n",
            "Epoch 23/100\n",
            "62/62 [==============================] - 21s 342ms/step - loss: 64.0710 - accuracy: 0.9831 - val_loss: 80.6956 - val_accuracy: 0.9651\n",
            "Epoch 24/100\n",
            "62/62 [==============================] - 21s 335ms/step - loss: 58.4798 - accuracy: 0.9834 - val_loss: 74.7673 - val_accuracy: 0.9651\n",
            "Epoch 25/100\n",
            "62/62 [==============================] - 21s 341ms/step - loss: 53.6000 - accuracy: 0.9833 - val_loss: 69.1816 - val_accuracy: 0.9656\n",
            "Epoch 26/100\n",
            "62/62 [==============================] - 21s 335ms/step - loss: 49.3046 - accuracy: 0.9834 - val_loss: 64.3056 - val_accuracy: 0.9654\n",
            "Epoch 27/100\n",
            "62/62 [==============================] - 21s 339ms/step - loss: 45.7229 - accuracy: 0.9836 - val_loss: 59.6921 - val_accuracy: 0.9659\n",
            "Epoch 28/100\n",
            "62/62 [==============================] - 21s 337ms/step - loss: 42.3639 - accuracy: 0.9835 - val_loss: 55.7748 - val_accuracy: 0.9656\n",
            "Epoch 29/100\n",
            "62/62 [==============================] - 21s 335ms/step - loss: 39.3883 - accuracy: 0.9836 - val_loss: 51.9722 - val_accuracy: 0.9662\n",
            "Epoch 30/100\n",
            "62/62 [==============================] - 21s 336ms/step - loss: 36.8895 - accuracy: 0.9840 - val_loss: 48.9487 - val_accuracy: 0.9656\n",
            "Epoch 31/100\n",
            "62/62 [==============================] - 21s 342ms/step - loss: 34.7167 - accuracy: 0.9839 - val_loss: 46.0580 - val_accuracy: 0.9665\n",
            "Epoch 32/100\n",
            "62/62 [==============================] - 21s 336ms/step - loss: 32.5504 - accuracy: 0.9840 - val_loss: 43.2814 - val_accuracy: 0.9674\n",
            "Epoch 33/100\n",
            "62/62 [==============================] - 21s 345ms/step - loss: 30.8931 - accuracy: 0.9841 - val_loss: 41.4489 - val_accuracy: 0.9659\n",
            "Epoch 34/100\n",
            "62/62 [==============================] - 21s 347ms/step - loss: 29.4817 - accuracy: 0.9842 - val_loss: 39.3767 - val_accuracy: 0.9671\n",
            "Epoch 35/100\n",
            "62/62 [==============================] - 21s 336ms/step - loss: 27.9374 - accuracy: 0.9845 - val_loss: 37.9301 - val_accuracy: 0.9651\n",
            "Epoch 36/100\n",
            "62/62 [==============================] - 21s 337ms/step - loss: 26.9249 - accuracy: 0.9847 - val_loss: 36.4566 - val_accuracy: 0.9662\n",
            "Epoch 37/100\n",
            "62/62 [==============================] - 21s 339ms/step - loss: 25.8834 - accuracy: 0.9847 - val_loss: 34.8702 - val_accuracy: 0.9674\n",
            "Epoch 38/100\n",
            "62/62 [==============================] - 21s 343ms/step - loss: 24.7754 - accuracy: 0.9848 - val_loss: 33.9298 - val_accuracy: 0.9670\n",
            "Epoch 39/100\n",
            "62/62 [==============================] - 21s 337ms/step - loss: 23.9041 - accuracy: 0.9849 - val_loss: 32.9177 - val_accuracy: 0.9681\n",
            "Epoch 40/100\n",
            "62/62 [==============================] - 21s 340ms/step - loss: 22.9946 - accuracy: 0.9851 - val_loss: 32.2546 - val_accuracy: 0.9664\n",
            "Epoch 41/100\n",
            "62/62 [==============================] - 21s 340ms/step - loss: 22.4170 - accuracy: 0.9850 - val_loss: 31.4858 - val_accuracy: 0.9674\n",
            "Epoch 42/100\n",
            "62/62 [==============================] - 21s 347ms/step - loss: 21.6158 - accuracy: 0.9853 - val_loss: 30.6859 - val_accuracy: 0.9678\n",
            "Epoch 43/100\n",
            "62/62 [==============================] - 21s 337ms/step - loss: 20.9792 - accuracy: 0.9854 - val_loss: 29.9972 - val_accuracy: 0.9685\n",
            "Epoch 44/100\n",
            "62/62 [==============================] - 21s 339ms/step - loss: 20.4766 - accuracy: 0.9856 - val_loss: 29.8194 - val_accuracy: 0.9676\n",
            "Epoch 45/100\n",
            "62/62 [==============================] - 21s 331ms/step - loss: 19.7833 - accuracy: 0.9858 - val_loss: 29.1405 - val_accuracy: 0.9684\n",
            "Epoch 46/100\n",
            "62/62 [==============================] - 21s 338ms/step - loss: 19.4436 - accuracy: 0.9857 - val_loss: 28.5880 - val_accuracy: 0.9682\n",
            "Epoch 47/100\n",
            "62/62 [==============================] - 21s 338ms/step - loss: 19.0139 - accuracy: 0.9859 - val_loss: 28.1996 - val_accuracy: 0.9681\n",
            "Epoch 48/100\n",
            "62/62 [==============================] - 20s 328ms/step - loss: 18.6098 - accuracy: 0.9860 - val_loss: 27.8366 - val_accuracy: 0.9677\n",
            "Epoch 49/100\n",
            "62/62 [==============================] - 20s 328ms/step - loss: 18.0983 - accuracy: 0.9860 - val_loss: 27.6702 - val_accuracy: 0.9672\n",
            "Epoch 50/100\n",
            "62/62 [==============================] - 21s 331ms/step - loss: 17.6914 - accuracy: 0.9862 - val_loss: 27.3317 - val_accuracy: 0.9688\n",
            "Epoch 51/100\n",
            "62/62 [==============================] - 20s 329ms/step - loss: 17.4897 - accuracy: 0.9862 - val_loss: 26.7435 - val_accuracy: 0.9682\n",
            "Epoch 52/100\n",
            "62/62 [==============================] - 20s 330ms/step - loss: 16.8308 - accuracy: 0.9867 - val_loss: 26.3368 - val_accuracy: 0.9686\n",
            "Epoch 53/100\n",
            "62/62 [==============================] - 20s 327ms/step - loss: 16.6596 - accuracy: 0.9866 - val_loss: 26.3685 - val_accuracy: 0.9686\n",
            "Epoch 54/100\n",
            "62/62 [==============================] - 21s 331ms/step - loss: 16.3902 - accuracy: 0.9867 - val_loss: 26.0861 - val_accuracy: 0.9682\n",
            "Epoch 55/100\n",
            "62/62 [==============================] - 20s 324ms/step - loss: 16.1049 - accuracy: 0.9866 - val_loss: 25.7828 - val_accuracy: 0.9688\n",
            "Epoch 56/100\n",
            "62/62 [==============================] - 20s 326ms/step - loss: 15.8933 - accuracy: 0.9868 - val_loss: 25.7609 - val_accuracy: 0.9688\n",
            "Epoch 57/100\n",
            "62/62 [==============================] - 20s 329ms/step - loss: 15.5004 - accuracy: 0.9869 - val_loss: 25.6843 - val_accuracy: 0.9682\n",
            "Epoch 58/100\n",
            "62/62 [==============================] - 20s 329ms/step - loss: 15.3999 - accuracy: 0.9868 - val_loss: 25.0330 - val_accuracy: 0.9691\n",
            "Epoch 59/100\n",
            "62/62 [==============================] - 20s 324ms/step - loss: 15.0864 - accuracy: 0.9871 - val_loss: 24.7421 - val_accuracy: 0.9683\n",
            "Epoch 60/100\n",
            "62/62 [==============================] - 20s 323ms/step - loss: 15.1114 - accuracy: 0.9871 - val_loss: 25.0196 - val_accuracy: 0.9686\n",
            "Epoch 61/100\n",
            "62/62 [==============================] - 20s 328ms/step - loss: 14.7263 - accuracy: 0.9871 - val_loss: 24.7158 - val_accuracy: 0.9695\n",
            "Epoch 62/100\n",
            "62/62 [==============================] - 21s 336ms/step - loss: 14.2980 - accuracy: 0.9875 - val_loss: 24.6072 - val_accuracy: 0.9688\n",
            "Epoch 63/100\n",
            "62/62 [==============================] - 20s 325ms/step - loss: 14.0477 - accuracy: 0.9876 - val_loss: 24.6134 - val_accuracy: 0.9676\n",
            "Epoch 64/100\n",
            "62/62 [==============================] - 20s 322ms/step - loss: 14.1107 - accuracy: 0.9877 - val_loss: 24.1111 - val_accuracy: 0.9688\n",
            "Epoch 65/100\n",
            "62/62 [==============================] - 20s 327ms/step - loss: 13.8463 - accuracy: 0.9876 - val_loss: 24.2189 - val_accuracy: 0.9692\n",
            "Epoch 66/100\n",
            "62/62 [==============================] - 20s 325ms/step - loss: 13.6395 - accuracy: 0.9877 - val_loss: 24.2340 - val_accuracy: 0.9686\n",
            "Epoch 67/100\n",
            "62/62 [==============================] - 20s 320ms/step - loss: 13.4615 - accuracy: 0.9878 - val_loss: 23.9417 - val_accuracy: 0.9682\n",
            "Epoch 68/100\n",
            "62/62 [==============================] - 20s 325ms/step - loss: 13.4717 - accuracy: 0.9876 - val_loss: 23.7173 - val_accuracy: 0.9691\n",
            "Epoch 69/100\n",
            "62/62 [==============================] - 20s 329ms/step - loss: 13.1650 - accuracy: 0.9879 - val_loss: 23.4685 - val_accuracy: 0.9688\n",
            "Epoch 70/100\n",
            "62/62 [==============================] - 20s 324ms/step - loss: 12.9507 - accuracy: 0.9881 - val_loss: 23.8060 - val_accuracy: 0.9684\n",
            "Epoch 71/100\n",
            "62/62 [==============================] - 20s 327ms/step - loss: 12.8907 - accuracy: 0.9882 - val_loss: 23.4472 - val_accuracy: 0.9692\n",
            "Epoch 72/100\n",
            "62/62 [==============================] - 20s 326ms/step - loss: 12.7218 - accuracy: 0.9881 - val_loss: 23.3055 - val_accuracy: 0.9688\n",
            "Epoch 73/100\n",
            "62/62 [==============================] - 20s 330ms/step - loss: 12.5296 - accuracy: 0.9884 - val_loss: 23.2575 - val_accuracy: 0.9696\n",
            "Epoch 74/100\n",
            "62/62 [==============================] - 20s 326ms/step - loss: 12.4395 - accuracy: 0.9883 - val_loss: 23.1838 - val_accuracy: 0.9696\n",
            "Epoch 75/100\n",
            "62/62 [==============================] - 20s 326ms/step - loss: 12.2685 - accuracy: 0.9885 - val_loss: 23.1027 - val_accuracy: 0.9681\n",
            "Epoch 76/100\n",
            "62/62 [==============================] - 20s 326ms/step - loss: 12.1290 - accuracy: 0.9884 - val_loss: 22.9141 - val_accuracy: 0.9700\n",
            "Epoch 77/100\n",
            "62/62 [==============================] - 21s 340ms/step - loss: 12.0498 - accuracy: 0.9884 - val_loss: 22.9542 - val_accuracy: 0.9690\n",
            "Epoch 78/100\n",
            "62/62 [==============================] - 20s 323ms/step - loss: 11.7994 - accuracy: 0.9887 - val_loss: 22.9248 - val_accuracy: 0.9687\n",
            "Epoch 79/100\n",
            "62/62 [==============================] - 20s 323ms/step - loss: 11.7834 - accuracy: 0.9887 - val_loss: 22.8120 - val_accuracy: 0.9700\n",
            "Epoch 80/100\n",
            "62/62 [==============================] - 20s 325ms/step - loss: 11.7234 - accuracy: 0.9887 - val_loss: 22.8306 - val_accuracy: 0.9698\n",
            "Epoch 00080: early stopping\n"
          ],
          "name": "stdout"
        }
      ]
    },
    {
      "cell_type": "code",
      "metadata": {
        "id": "LsaMGkJ2_WEt",
        "outputId": "fbef5347-c8dc-4e3b-cec2-902df85b072e",
        "colab": {
          "base_uri": "https://localhost:8080/"
        }
      },
      "source": [
        "model.evaluate()"
      ],
      "execution_count": 15,
      "outputs": [
        {
          "output_type": "stream",
          "text": [
            "8/8 [==============================] - 0s 58ms/step - loss: 21.7500 - accuracy: 0.9584\n",
            "Test Accuracy: 0.9584418535232544\n"
          ],
          "name": "stdout"
        }
      ]
    },
    {
      "cell_type": "code",
      "metadata": {
        "id": "yOAdNfZG_WEw"
      },
      "source": [
        "model.save(\"serialized/histo/\")"
      ],
      "execution_count": 16,
      "outputs": []
    },
    {
      "cell_type": "markdown",
      "metadata": {
        "id": "Xa83jh1y14o9"
      },
      "source": [
        "## Reload and predict"
      ]
    },
    {
      "cell_type": "code",
      "execution_count": 3,
      "metadata": {},
      "outputs": [],
      "source": [
        "embeddings = np.load(\"data/histo/glovehisto.npz\")['embeddings']\n",
        "model = BilstmCrf()\n",
        "\n",
        "model.restore_model(embeddings, \"serialized/histo/\")"
      ]
    },
    {
      "cell_type": "code",
      "execution_count": 4,
      "metadata": {},
      "outputs": [],
      "source": [
        "X_train, y_train = model._get_data(data_path + \"train.txt\")\n",
        "X_test, y_test = model._get_data(data_path + \"test.txt\")"
      ]
    },
    {
      "cell_type": "code",
      "execution_count": 5,
      "metadata": {},
      "outputs": [
        {
          "output_type": "stream",
          "name": "stdout",
          "text": [
            "                       precision    recall  f1-score   support\n\n                            0.00      0.00      0.00         0\n             B-ACTION       0.48      0.40      0.44        70\n       B-AUTHORITYLAW       1.00      0.06      0.12        16\n      B-COMMUNICATION       0.87      0.69      0.77        59\n          B-EDUCATION       0.00      0.00      0.00         2\nB-EMOTIONSEVALUATIONS       0.56      0.35      0.43        66\n   B-ENTERTAINMENTART       1.00      0.03      0.07        29\n        B-ENVIRONMENT       0.00      0.00      0.00        11\n B-EXISTENCECAUSATION       0.51      0.53      0.52        74\n              B-FAITH       0.00      0.00      0.00         4\n        B-FOODFARMING       0.00      0.00      0.00         2\n          B-HOSTILITY       0.00      0.00      0.00         3\n         B-LIFEHEALTH       0.92      0.31      0.46        71\n             B-MATTER       0.67      0.08      0.14        25\n            B-MEASURE       0.33      0.09      0.14        11\n             B-MENTAL       0.79      0.40      0.53        78\n B-PHYSICALSENSATIONS       0.90      0.50      0.64        52\n         B-POSSESSION       0.73      0.31      0.44        35\n             B-SOCIAL       0.60      0.33      0.43         9\n      B-SPACEMOVEMENT       0.75      0.54      0.63       241\n               B-TIME       1.00      0.45      0.62        11\n          B-TRADEWORK       1.00      0.14      0.25         7\n             I-ACTION       0.21      0.14      0.17        22\n       I-AUTHORITYLAW       0.00      0.00      0.00         9\n      I-COMMUNICATION       0.47      0.78      0.58         9\nI-EMOTIONSEVALUATIONS       0.37      0.41      0.39        46\n   I-ENTERTAINMENTART       0.00      0.00      0.00         8\n              I-FAITH       0.00      0.00      0.00         1\n        I-FOODFARMING       0.00      0.00      0.00         3\n         I-LIFEHEALTH       0.00      0.00      0.00        12\n             I-MATTER       0.00      0.00      0.00        18\n            I-MEASURE       0.40      0.18      0.25        11\n             I-MENTAL       0.62      0.50      0.55        16\n I-PHYSICALSENSATIONS       0.00      0.00      0.00         7\n         I-POSSESSION       0.00      0.00      0.00         2\n             I-SOCIAL       0.00      0.00      0.00         2\n      I-SPACEMOVEMENT       0.45      0.35      0.39        60\n               I-TIME       1.00      0.40      0.57         5\n          I-TRADEWORK       0.00      0.00      0.00        11\n                    O       0.91      0.99      0.95      5377\n\n             accuracy                           0.88      6495\n            macro avg       0.41      0.22      0.26      6495\n         weighted avg       0.86      0.88      0.86      6495\n\n"
          ]
        }
      ],
      "source": [
        "model.print_classif_report(X_test, y_test)"
      ]
    },
    {
      "cell_type": "code",
      "metadata": {
        "id": "O7hA1hyFv_s9"
      },
      "source": [
        "embeddings = np.load(\"data/histo/gloveemb.npz\")['embeddings']\n",
        "model = BilstmCrf()\n",
        "\n",
        "model.restore_model(embeddings, \"serialized/glove/\")"
      ],
      "execution_count": 2,
      "outputs": []
    },
    {
      "cell_type": "code",
      "execution_count": 8,
      "metadata": {},
      "outputs": [
        {
          "output_type": "stream",
          "name": "stdout",
          "text": [
            "                       precision    recall  f1-score   support\n\n                            0.00      0.00      0.00         0\n             B-ACTION       0.76      0.36      0.49        70\n       B-AUTHORITYLAW       1.00      0.19      0.32        16\n      B-COMMUNICATION       0.81      0.66      0.73        59\n          B-EDUCATION       0.00      0.00      0.00         2\nB-EMOTIONSEVALUATIONS       0.41      0.39      0.40        66\n   B-ENTERTAINMENTART       0.86      0.21      0.33        29\n        B-ENVIRONMENT       0.00      0.00      0.00        11\n B-EXISTENCECAUSATION       0.49      0.59      0.54        74\n              B-FAITH       0.00      0.00      0.00         4\n        B-FOODFARMING       0.00      0.00      0.00         2\n          B-HOSTILITY       0.20      0.33      0.25         3\n         B-LIFEHEALTH       0.97      0.42      0.59        71\n             B-MATTER       1.00      0.04      0.08        25\n            B-MEASURE       0.25      0.09      0.13        11\n             B-MENTAL       0.61      0.42      0.50        78\n B-PHYSICALSENSATIONS       0.97      0.58      0.72        52\n         B-POSSESSION       0.82      0.26      0.39        35\n             B-SOCIAL       1.00      0.22      0.36         9\n      B-SPACEMOVEMENT       0.70      0.65      0.67       241\n               B-TIME       0.88      0.64      0.74        11\n          B-TRADEWORK       1.00      0.14      0.25         7\n             I-ACTION       0.50      0.05      0.08        22\n       I-AUTHORITYLAW       0.00      0.00      0.00         9\n      I-COMMUNICATION       0.43      0.33      0.38         9\nI-EMOTIONSEVALUATIONS       0.25      0.46      0.32        46\n   I-ENTERTAINMENTART       0.00      0.00      0.00         8\n        I-ENVIRONMENT       0.00      0.00      0.00         0\n              I-FAITH       0.00      0.00      0.00         1\n        I-FOODFARMING       0.00      0.00      0.00         3\n         I-LIFEHEALTH       1.00      0.08      0.15        12\n             I-MATTER       1.00      0.11      0.20        18\n            I-MEASURE       0.29      0.18      0.22        11\n             I-MENTAL       0.14      0.06      0.09        16\n I-PHYSICALSENSATIONS       0.00      0.00      0.00         7\n         I-POSSESSION       0.00      0.00      0.00         2\n             I-SOCIAL       0.00      0.00      0.00         2\n      I-SPACEMOVEMENT       0.61      0.45      0.52        60\n               I-TIME       1.00      1.00      1.00         5\n          I-TRADEWORK       0.00      0.00      0.00        11\n                    O       0.93      0.98      0.96      5377\n\n             accuracy                           0.89      6495\n            macro avg       0.46      0.24      0.28      6495\n         weighted avg       0.88      0.89      0.87      6495\n\n"
          ]
        }
      ],
      "source": [
        "model.print_classif_report(X_test, y_test)"
      ]
    },
    {
      "cell_type": "code",
      "metadata": {
        "id": "A_MT2kXQmESe"
      },
      "source": [
        "lines = ['The transfer began on April 9 1942 after the three-month Battle of Bataan in the Philippines during World War II',\n",
        "         \"Astor Pantaleón Piazzolla was an Argentine tango composer bandoneon player and arranger\"]"
      ],
      "execution_count": 18,
      "outputs": []
    },
    {
      "cell_type": "code",
      "metadata": {
        "id": "UZiNCpgMzp55",
        "outputId": "a8f00a8f-0dda-4657-9422-8f4f91bfef22",
        "colab": {
          "base_uri": "https://localhost:8080/"
        }
      },
      "source": [
        "_ = model.predict(lines)"
      ],
      "execution_count": 19,
      "outputs": [
        {
          "output_type": "stream",
          "text": [
            "words: The transfer began  on April 9 1942 after the three-month Battle      of Bataan in the Philippines during World War         II         \n",
            "preds: O   O        B-TIME O  O     O O    O     O   O           B-HOSTILITY O  O      O  O   O           O      O     B-HOSTILITY I-HOSTILITY\n",
            "\n",
            "\n",
            "words: Astor Pantaleón Piazzolla was                  an Argentine tango composer bandoneon player and arranger\n",
            "preds: O     O         O         B-EXISTENCECAUSATION O  O         O     O        O         O      O           \n",
            "\n",
            "\n"
          ],
          "name": "stdout"
        }
      ]
    },
    {
      "cell_type": "code",
      "metadata": {
        "id": "TBQylXyC3Hz2",
        "outputId": "f017ae6b-8b4a-4a74-f535-72405e854874",
        "colab": {
          "base_uri": "https://localhost:8080/",
          "height": 51
        }
      },
      "source": [
        "import spacy\n",
        "from spacy import displacy\n",
        "\n",
        "nlp = spacy.load(\"en_core_web_sm\")\n",
        "doc = nlp(lines[0])\n",
        "\n",
        "displacy.render(doc, style=\"ent\", jupyter=True)"
      ],
      "execution_count": 21,
      "outputs": [
        {
          "output_type": "display_data",
          "data": {
            "text/html": [
              "<span class=\"tex2jax_ignore\"><div class=\"entities\" style=\"line-height: 2.5; direction: ltr\">The transfer began on \n",
              "<mark class=\"entity\" style=\"background: #bfe1d9; padding: 0.45em 0.6em; margin: 0 0.25em; line-height: 1; border-radius: 0.35em;\">\n",
              "    April 9 1942\n",
              "    <span style=\"font-size: 0.8em; font-weight: bold; line-height: 1; border-radius: 0.35em; text-transform: uppercase; vertical-align: middle; margin-left: 0.5rem\">DATE</span>\n",
              "</mark>\n",
              " after the \n",
              "<mark class=\"entity\" style=\"background: #bfe1d9; padding: 0.45em 0.6em; margin: 0 0.25em; line-height: 1; border-radius: 0.35em;\">\n",
              "    three-month\n",
              "    <span style=\"font-size: 0.8em; font-weight: bold; line-height: 1; border-radius: 0.35em; text-transform: uppercase; vertical-align: middle; margin-left: 0.5rem\">DATE</span>\n",
              "</mark>\n",
              " Battle of \n",
              "<mark class=\"entity\" style=\"background: #feca74; padding: 0.45em 0.6em; margin: 0 0.25em; line-height: 1; border-radius: 0.35em;\">\n",
              "    Bataan\n",
              "    <span style=\"font-size: 0.8em; font-weight: bold; line-height: 1; border-radius: 0.35em; text-transform: uppercase; vertical-align: middle; margin-left: 0.5rem\">GPE</span>\n",
              "</mark>\n",
              " in the \n",
              "<mark class=\"entity\" style=\"background: #feca74; padding: 0.45em 0.6em; margin: 0 0.25em; line-height: 1; border-radius: 0.35em;\">\n",
              "    Philippines\n",
              "    <span style=\"font-size: 0.8em; font-weight: bold; line-height: 1; border-radius: 0.35em; text-transform: uppercase; vertical-align: middle; margin-left: 0.5rem\">GPE</span>\n",
              "</mark>\n",
              " during \n",
              "<mark class=\"entity\" style=\"background: #ffeb80; padding: 0.45em 0.6em; margin: 0 0.25em; line-height: 1; border-radius: 0.35em;\">\n",
              "    World War II\n",
              "    <span style=\"font-size: 0.8em; font-weight: bold; line-height: 1; border-radius: 0.35em; text-transform: uppercase; vertical-align: middle; margin-left: 0.5rem\">EVENT</span>\n",
              "</mark>\n",
              "</div></span>"
            ],
            "text/plain": [
              "<IPython.core.display.HTML object>"
            ]
          },
          "metadata": {
            "tags": []
          }
        }
      ]
    }
  ]
}