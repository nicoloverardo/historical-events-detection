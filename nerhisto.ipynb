{
  "nbformat": 4,
  "nbformat_minor": 0,
  "metadata": {
    "accelerator": "GPU",
    "colab": {
      "name": "nerhisto.ipynb",
      "provenance": [],
      "collapsed_sections": [
        "-CFuQ_xUAWrw",
        "FLQXbnXwAD5e",
        "Z1rT_jiw_yb1",
        "53eM1v4f_3q7",
        "S4yDYU_A_7-a",
        "Byll2NmE_96S",
        "Xa83jh1y14o9"
      ]
    },
    "kernelspec": {
      "display_name": "Python 3",
      "language": "python",
      "name": "python3"
    },
    "language_info": {
      "codemirror_mode": {
        "name": "ipython",
        "version": 3
      },
      "file_extension": ".py",
      "mimetype": "text/x-python",
      "name": "python",
      "nbconvert_exporter": "python",
      "pygments_lexer": "ipython3",
      "version": "3.8.5-final"
    }
  },
  "cells": [
    {
      "cell_type": "markdown",
      "metadata": {
        "id": "cQrSGgIFvaPn"
      },
      "source": [
        "# NER with BiLSTM + CRF Tensorflow 2 on Histo dataset"
      ]
    },
    {
      "cell_type": "markdown",
      "metadata": {
        "id": "-CFuQ_xUAWrw"
      },
      "source": [
        "## Imports"
      ]
    },
    {
      "cell_type": "code",
      "metadata": {
        "id": "zMGNwNPAvSmT"
      },
      "source": [
        "!pip install tf2crf"
      ],
      "execution_count": null,
      "outputs": []
    },
    {
      "cell_type": "code",
      "metadata": {
        "id": "YdCOiPH8mrJM"
      },
      "source": [
        "from google.colab import drive\n",
        "drive.mount('/content/drive')"
      ],
      "execution_count": null,
      "outputs": []
    },
    {
      "cell_type": "code",
      "metadata": {
        "id": "wVgX29unmrJQ"
      },
      "source": [
        "import sys\n",
        "sys.path.append('/content/drive/My Drive/Colab Notebooks/mhc/')"
      ],
      "execution_count": null,
      "outputs": []
    },
    {
      "cell_type": "code",
      "metadata": {
        "id": "y7nCKWEJmrJU"
      },
      "source": [
        "%cd \"/content/drive/My Drive/Colab Notebooks/mhc/\""
      ],
      "execution_count": null,
      "outputs": []
    },
    {
      "cell_type": "code",
      "metadata": {
        "id": "zjA_zMdUvf21"
      },
      "source": [
        "import numpy as np\n",
        "\n",
        "from model import BilstmCrf\n",
        "from text import PreProcessing"
      ],
      "execution_count": null,
      "outputs": []
    },
    {
      "cell_type": "markdown",
      "metadata": {
        "id": "FLQXbnXwAD5e"
      },
      "source": [
        "## Training"
      ]
    },
    {
      "cell_type": "markdown",
      "metadata": {
        "id": "Z1rT_jiw_yb1"
      },
      "source": [
        "### Multiclass Glove"
      ]
    },
    {
      "cell_type": "code",
      "metadata": {
        "id": "RX3ywSwpMbrG"
      },
      "source": [
        "data_path = \"data/histo/histoclass/\""
      ],
      "execution_count": null,
      "outputs": []
    },
    {
      "cell_type": "code",
      "metadata": {
        "id": "4vRSvlI4MbrI"
      },
      "source": [
        "embeddings = np.load(\"data/histo/histoclass/gloveemb.npz\")['embeddings']"
      ],
      "execution_count": null,
      "outputs": []
    },
    {
      "cell_type": "code",
      "metadata": {
        "id": "sFNySRcr_WEO"
      },
      "source": [
        "model = BilstmCrf(data_path, embeddings)"
      ],
      "execution_count": null,
      "outputs": []
    },
    {
      "cell_type": "code",
      "metadata": {
        "id": "04BtipXZMbrM"
      },
      "source": [
        "model.train()"
      ],
      "execution_count": null,
      "outputs": []
    },
    {
      "cell_type": "code",
      "metadata": {
        "id": "u7ZrsJR6MbrP"
      },
      "source": [
        "model.evaluate()"
      ],
      "execution_count": null,
      "outputs": []
    },
    {
      "cell_type": "code",
      "metadata": {
        "id": "UiA83jx1tTos"
      },
      "source": [
        "model.save(\"serialized/multiglove/\")"
      ],
      "execution_count": null,
      "outputs": []
    },
    {
      "cell_type": "markdown",
      "metadata": {
        "id": "53eM1v4f_3q7"
      },
      "source": [
        "### Multiclass Histo\n"
      ]
    },
    {
      "cell_type": "code",
      "metadata": {
        "id": "tyzjnbrV_WEg"
      },
      "source": [
        "embeddings = np.load(\"data/histo/histoclass/glovehisto.npz\")['embeddings']"
      ],
      "execution_count": null,
      "outputs": []
    },
    {
      "cell_type": "code",
      "metadata": {
        "id": "abh_zA88_WEj"
      },
      "source": [
        "model = BilstmCrf(data_path, embeddings)"
      ],
      "execution_count": null,
      "outputs": []
    },
    {
      "cell_type": "code",
      "metadata": {
        "id": "aL-MseUg_WEn"
      },
      "source": [
        "model.train()"
      ],
      "execution_count": null,
      "outputs": []
    },
    {
      "cell_type": "code",
      "metadata": {
        "id": "LsaMGkJ2_WEt"
      },
      "source": [
        "model.evaluate()"
      ],
      "execution_count": null,
      "outputs": []
    },
    {
      "cell_type": "code",
      "metadata": {
        "id": "yOAdNfZG_WEw"
      },
      "source": [
        "model.save(\"serialized/multihisto/\")"
      ],
      "execution_count": null,
      "outputs": []
    },
    {
      "cell_type": "markdown",
      "metadata": {
        "id": "S4yDYU_A_7-a"
      },
      "source": [
        "### Binary Glove"
      ]
    },
    {
      "cell_type": "code",
      "metadata": {
        "id": "dpVmEZVc_WEz"
      },
      "source": [
        "data_path = \"data/histo/histomention/\""
      ],
      "execution_count": null,
      "outputs": []
    },
    {
      "cell_type": "code",
      "metadata": {
        "id": "L45i84og_WE2"
      },
      "source": [
        "embeddings = np.load(\"data/histo/histomention/gloveemb.npz\")['embeddings']"
      ],
      "execution_count": null,
      "outputs": []
    },
    {
      "cell_type": "code",
      "metadata": {
        "id": "ivTcDzb3_WE6"
      },
      "source": [
        "for file in [data_path + \"train.txt\", data_path + \"dev.txt\", data_path + \"test.txt\"]:\n",
        "    PreProcessing.binarize_txt_label(file)"
      ],
      "execution_count": null,
      "outputs": []
    },
    {
      "cell_type": "code",
      "metadata": {
        "id": "UcdPqZrl_WE_"
      },
      "source": [
        "model = BilstmCrf(data_path, embeddings)"
      ],
      "execution_count": null,
      "outputs": []
    },
    {
      "cell_type": "code",
      "metadata": {
        "id": "YA05jGGI_WFC"
      },
      "source": [
        "model.train()"
      ],
      "execution_count": null,
      "outputs": []
    },
    {
      "cell_type": "code",
      "metadata": {
        "id": "jslr5LIN_WFF"
      },
      "source": [
        "model.evaluate()"
      ],
      "execution_count": null,
      "outputs": []
    },
    {
      "cell_type": "code",
      "metadata": {
        "id": "7jB1guoT_WFI"
      },
      "source": [
        "model.save(\"serialized/binaryglove/\")"
      ],
      "execution_count": null,
      "outputs": []
    },
    {
      "cell_type": "markdown",
      "metadata": {
        "id": "Byll2NmE_96S"
      },
      "source": [
        "### Binary Histo"
      ]
    },
    {
      "cell_type": "code",
      "metadata": {
        "id": "QQoBJtu1_WFK"
      },
      "source": [
        "embeddings = np.load(\"data/histo/histomention/glovehisto.npz\")['embeddings']"
      ],
      "execution_count": null,
      "outputs": []
    },
    {
      "cell_type": "code",
      "metadata": {
        "id": "-tquwZE4_WFO"
      },
      "source": [
        "model = BilstmCrf(data_path, embeddings)"
      ],
      "execution_count": null,
      "outputs": []
    },
    {
      "cell_type": "code",
      "metadata": {
        "id": "GZZc8FbZ_WFS"
      },
      "source": [
        "model.train()"
      ],
      "execution_count": null,
      "outputs": []
    },
    {
      "cell_type": "code",
      "metadata": {
        "id": "p_MhcbH5_WFV"
      },
      "source": [
        "model.evaluate()"
      ],
      "execution_count": null,
      "outputs": []
    },
    {
      "cell_type": "code",
      "metadata": {
        "id": "NfGRYMRJ_WFX"
      },
      "source": [
        "model.save(\"serialized/binaryhisto/\")"
      ],
      "execution_count": null,
      "outputs": []
    },
    {
      "cell_type": "markdown",
      "metadata": {
        "id": "Xa83jh1y14o9"
      },
      "source": [
        "## Reload and predict"
      ]
    },
    {
      "cell_type": "code",
      "metadata": {
        "id": "O7hA1hyFv_s9"
      },
      "source": [
        "embeddings = np.load(\"data/histo/histoclass/gloveemb.npz\")['embeddings']\n",
        "model = BilstmCrf()\n",
        "\n",
        "model.restore_model(embeddings, \"serialized/multiglove/\")"
      ],
      "execution_count": null,
      "outputs": []
    },
    {
      "cell_type": "code",
      "metadata": {
        "id": "A_MT2kXQmESe"
      },
      "source": [
        "lines = ['The transfer began on April 9 1942 after the three-month Battle of Bataan in the Philippines during World War II',\n",
        "         \"Astor Pantaleón Piazzolla was an Argentine tango composer bandoneon player and arranger\"]"
      ],
      "execution_count": null,
      "outputs": []
    },
    {
      "cell_type": "code",
      "metadata": {
        "id": "UZiNCpgMzp55"
      },
      "source": [
        "_ = model.predict(lines)"
      ],
      "execution_count": null,
      "outputs": []
    },
    {
      "cell_type": "code",
      "metadata": {
        "id": "TBQylXyC3Hz2"
      },
      "source": [
        "import spacy\n",
        "from spacy import displacy\n",
        "\n",
        "nlp = spacy.load(\"en_core_web_sm\")\n",
        "doc = nlp(lines[0])\n",
        "\n",
        "displacy.render(doc, style=\"ent\", jupyter=True)"
      ],
      "execution_count": null,
      "outputs": []
    }
  ]
}