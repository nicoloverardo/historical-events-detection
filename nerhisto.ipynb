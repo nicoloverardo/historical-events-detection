{
  "nbformat": 4,
  "nbformat_minor": 0,
  "metadata": {
    "accelerator": "GPU",
    "colab": {
      "name": "nerhisto.ipynb",
      "provenance": [],
      "collapsed_sections": [
        "-CFuQ_xUAWrw",
        "FLQXbnXwAD5e",
        "Z1rT_jiw_yb1",
        "53eM1v4f_3q7",
        "Xa83jh1y14o9"
      ]
    },
    "kernelspec": {
      "display_name": "Python 3",
      "language": "python",
      "name": "python3"
    },
    "language_info": {
      "codemirror_mode": {
        "name": "ipython",
        "version": 3
      },
      "file_extension": ".py",
      "mimetype": "text/x-python",
      "name": "python",
      "nbconvert_exporter": "python",
      "pygments_lexer": "ipython3",
      "version": "3.8.5-final"
    }
  },
  "cells": [
    {
      "cell_type": "markdown",
      "metadata": {
        "id": "cQrSGgIFvaPn"
      },
      "source": [
        "# NER with BiLSTM + CRF Tensorflow 2 on Histo dataset"
      ]
    },
    {
      "cell_type": "markdown",
      "metadata": {
        "id": "-CFuQ_xUAWrw"
      },
      "source": [
        "## Imports"
      ]
    },
    {
      "cell_type": "code",
      "metadata": {
        "id": "zMGNwNPAvSmT"
      },
      "source": [
        "!pip install tf2crf"
      ],
      "execution_count": null,
      "outputs": []
    },
    {
      "cell_type": "code",
      "metadata": {
        "id": "YdCOiPH8mrJM",
        "outputId": "574bf3e0-9e03-48d7-df7f-640d2fdf1fd5",
        "colab": {
          "base_uri": "https://localhost:8080/",
          "height": 54
        }
      },
      "source": [
        "from google.colab import drive\n",
        "drive.mount('/content/drive')"
      ],
      "execution_count": 2,
      "outputs": [
        {
          "output_type": "stream",
          "text": [
            "Drive already mounted at /content/drive; to attempt to forcibly remount, call drive.mount(\"/content/drive\", force_remount=True).\n"
          ],
          "name": "stdout"
        }
      ]
    },
    {
      "cell_type": "code",
      "metadata": {
        "id": "wVgX29unmrJQ"
      },
      "source": [
        "import sys\n",
        "sys.path.append('/content/drive/My Drive/Colab Notebooks/mhc/')"
      ],
      "execution_count": 3,
      "outputs": []
    },
    {
      "cell_type": "code",
      "metadata": {
        "id": "y7nCKWEJmrJU",
        "outputId": "90cada25-c836-41da-8040-7d2595be519f",
        "colab": {
          "base_uri": "https://localhost:8080/",
          "height": 34
        }
      },
      "source": [
        "%cd \"/content/drive/My Drive/Colab Notebooks/mhc/\""
      ],
      "execution_count": 4,
      "outputs": [
        {
          "output_type": "stream",
          "text": [
            "/content/drive/My Drive/Colab Notebooks/mhc\n"
          ],
          "name": "stdout"
        }
      ]
    },
    {
      "cell_type": "code",
      "metadata": {
        "id": "zjA_zMdUvf21"
      },
      "source": [
        "import numpy as np\n",
        "\n",
        "from model import BilstmCrf\n",
        "from text import PreProcessing"
      ],
      "execution_count": 1,
      "outputs": []
    },
    {
      "cell_type": "markdown",
      "metadata": {
        "id": "FLQXbnXwAD5e"
      },
      "source": [
        "## Training"
      ]
    },
    {
      "cell_type": "markdown",
      "metadata": {
        "id": "Z1rT_jiw_yb1"
      },
      "source": [
        "### Glove"
      ]
    },
    {
      "cell_type": "code",
      "metadata": {
        "id": "RX3ywSwpMbrG"
      },
      "source": [
        "data_path = \"data/histo/\""
      ],
      "execution_count": null,
      "outputs": []
    },
    {
      "cell_type": "code",
      "metadata": {
        "id": "4vRSvlI4MbrI"
      },
      "source": [
        "embeddings = np.load(\"data/histo/gloveemb.npz\")['embeddings']"
      ],
      "execution_count": null,
      "outputs": []
    },
    {
      "cell_type": "code",
      "metadata": {
        "id": "sFNySRcr_WEO"
      },
      "source": [
        "model = BilstmCrf(data_path, embeddings)"
      ],
      "execution_count": null,
      "outputs": []
    },
    {
      "cell_type": "code",
      "metadata": {
        "id": "04BtipXZMbrM",
        "outputId": "00552f51-fe05-4472-facf-4229ff2bfe55",
        "colab": {
          "base_uri": "https://localhost:8080/",
          "height": 867
        }
      },
      "source": [
        "model.train()"
      ],
      "execution_count": null,
      "outputs": [
        {
          "output_type": "stream",
          "text": [
            "Epoch 1/25\n",
            "31/31 [==============================] - 12s 377ms/step - loss: 192.7132 - accuracy: 0.8565 - val_loss: 562.9733 - val_accuracy: 0.9770\n",
            "Epoch 2/25\n",
            "31/31 [==============================] - 10s 324ms/step - loss: 28.8557 - accuracy: 0.9757 - val_loss: 562.2709 - val_accuracy: 0.9775\n",
            "Epoch 3/25\n",
            "31/31 [==============================] - 10s 325ms/step - loss: 27.1620 - accuracy: 0.9761 - val_loss: 562.0173 - val_accuracy: 0.9777\n",
            "Epoch 4/25\n",
            "31/31 [==============================] - 10s 317ms/step - loss: 25.5077 - accuracy: 0.9763 - val_loss: 561.9073 - val_accuracy: 0.9775\n",
            "Epoch 5/25\n",
            "31/31 [==============================] - 10s 320ms/step - loss: 23.6164 - accuracy: 0.9764 - val_loss: 561.6801 - val_accuracy: 0.9777\n",
            "Epoch 6/25\n",
            "31/31 [==============================] - 10s 318ms/step - loss: 21.8233 - accuracy: 0.9767 - val_loss: 561.4133 - val_accuracy: 0.9781\n",
            "Epoch 7/25\n",
            "31/31 [==============================] - 10s 318ms/step - loss: 20.2587 - accuracy: 0.9776 - val_loss: 561.1129 - val_accuracy: 0.9785\n",
            "Epoch 8/25\n",
            "31/31 [==============================] - 10s 324ms/step - loss: 18.8917 - accuracy: 0.9786 - val_loss: 560.7194 - val_accuracy: 0.9793\n",
            "Epoch 9/25\n",
            "31/31 [==============================] - 10s 323ms/step - loss: 17.6109 - accuracy: 0.9795 - val_loss: 560.4565 - val_accuracy: 0.9796\n",
            "Epoch 10/25\n",
            "31/31 [==============================] - 10s 324ms/step - loss: 16.4609 - accuracy: 0.9806 - val_loss: 559.9811 - val_accuracy: 0.9811\n",
            "Epoch 11/25\n",
            "31/31 [==============================] - 10s 318ms/step - loss: 15.3891 - accuracy: 0.9816 - val_loss: 559.6386 - val_accuracy: 0.9817\n",
            "Epoch 12/25\n",
            "31/31 [==============================] - 10s 319ms/step - loss: 14.4465 - accuracy: 0.9825 - val_loss: 559.4822 - val_accuracy: 0.9815\n",
            "Epoch 13/25\n",
            "31/31 [==============================] - 10s 322ms/step - loss: 13.4644 - accuracy: 0.9834 - val_loss: 559.0144 - val_accuracy: 0.9825\n",
            "Epoch 14/25\n",
            "31/31 [==============================] - 10s 322ms/step - loss: 12.6541 - accuracy: 0.9841 - val_loss: 558.8275 - val_accuracy: 0.9825\n",
            "Epoch 15/25\n",
            "31/31 [==============================] - 10s 324ms/step - loss: 11.8537 - accuracy: 0.9849 - val_loss: 558.5771 - val_accuracy: 0.9827\n",
            "Epoch 16/25\n",
            "31/31 [==============================] - 10s 326ms/step - loss: 11.1717 - accuracy: 0.9854 - val_loss: 558.3157 - val_accuracy: 0.9829\n",
            "Epoch 17/25\n",
            "31/31 [==============================] - 10s 325ms/step - loss: 10.5401 - accuracy: 0.9860 - val_loss: 558.1032 - val_accuracy: 0.9830\n",
            "Epoch 18/25\n",
            "31/31 [==============================] - 10s 329ms/step - loss: 10.0589 - accuracy: 0.9865 - val_loss: 557.8083 - val_accuracy: 0.9829\n",
            "Epoch 19/25\n",
            "31/31 [==============================] - 10s 324ms/step - loss: 9.4291 - accuracy: 0.9872 - val_loss: 557.5505 - val_accuracy: 0.9826\n",
            "Epoch 20/25\n",
            "31/31 [==============================] - 10s 320ms/step - loss: 8.8723 - accuracy: 0.9878 - val_loss: 557.4559 - val_accuracy: 0.9827\n",
            "Epoch 21/25\n",
            "31/31 [==============================] - 10s 317ms/step - loss: 8.4026 - accuracy: 0.9883 - val_loss: 557.2544 - val_accuracy: 0.9827\n",
            "Epoch 22/25\n",
            "31/31 [==============================] - 10s 319ms/step - loss: 7.8635 - accuracy: 0.9890 - val_loss: 556.9754 - val_accuracy: 0.9831\n",
            "Epoch 23/25\n",
            "31/31 [==============================] - 10s 313ms/step - loss: 7.3723 - accuracy: 0.9898 - val_loss: 556.7981 - val_accuracy: 0.9826\n",
            "Epoch 24/25\n",
            "31/31 [==============================] - 10s 320ms/step - loss: 6.9689 - accuracy: 0.9903 - val_loss: 556.6526 - val_accuracy: 0.9820\n",
            "Epoch 25/25\n",
            "31/31 [==============================] - 10s 324ms/step - loss: 6.4953 - accuracy: 0.9909 - val_loss: 556.3657 - val_accuracy: 0.9829\n"
          ],
          "name": "stdout"
        }
      ]
    },
    {
      "cell_type": "code",
      "metadata": {
        "id": "u7ZrsJR6MbrP",
        "outputId": "262439b6-dfcb-4c72-9d0a-78f4bc9811de",
        "colab": {
          "base_uri": "https://localhost:8080/",
          "height": 51
        }
      },
      "source": [
        "model.evaluate()"
      ],
      "execution_count": null,
      "outputs": [
        {
          "output_type": "stream",
          "text": [
            "8/8 [==============================] - 1s 170ms/step - loss: 556.1351 - accuracy: 0.9852\n",
            "Test Accuracy: 0.9852343797683716\n"
          ],
          "name": "stdout"
        }
      ]
    },
    {
      "cell_type": "code",
      "metadata": {
        "id": "UiA83jx1tTos"
      },
      "source": [
        "model.save(\"serialized/glove/\")"
      ],
      "execution_count": null,
      "outputs": []
    },
    {
      "cell_type": "markdown",
      "metadata": {
        "id": "53eM1v4f_3q7"
      },
      "source": [
        "### Histo\n"
      ]
    },
    {
      "cell_type": "code",
      "metadata": {
        "id": "tyzjnbrV_WEg"
      },
      "source": [
        "embeddings = np.load(\"data/histo/glovehisto.npz\")['embeddings']"
      ],
      "execution_count": null,
      "outputs": []
    },
    {
      "cell_type": "code",
      "metadata": {
        "id": "abh_zA88_WEj"
      },
      "source": [
        "model = BilstmCrf(data_path, embeddings)"
      ],
      "execution_count": null,
      "outputs": []
    },
    {
      "cell_type": "code",
      "metadata": {
        "id": "aL-MseUg_WEn",
        "outputId": "ecfb00e9-aeba-4c7b-a658-12da20e62015",
        "colab": {
          "base_uri": "https://localhost:8080/",
          "height": 867
        }
      },
      "source": [
        "model.train()"
      ],
      "execution_count": null,
      "outputs": [
        {
          "output_type": "stream",
          "text": [
            "Epoch 1/25\n",
            "31/31 [==============================] - 11s 351ms/step - loss: 217.1698 - accuracy: 0.8348 - val_loss: 620.9128 - val_accuracy: 0.9775\n",
            "Epoch 2/25\n",
            "31/31 [==============================] - 9s 305ms/step - loss: 28.6353 - accuracy: 0.9758 - val_loss: 620.2790 - val_accuracy: 0.9775\n",
            "Epoch 3/25\n",
            "31/31 [==============================] - 9s 299ms/step - loss: 27.1143 - accuracy: 0.9760 - val_loss: 620.0987 - val_accuracy: 0.9775\n",
            "Epoch 4/25\n",
            "31/31 [==============================] - 9s 303ms/step - loss: 25.5711 - accuracy: 0.9761 - val_loss: 619.9465 - val_accuracy: 0.9775\n",
            "Epoch 5/25\n",
            "31/31 [==============================] - 9s 302ms/step - loss: 24.2122 - accuracy: 0.9761 - val_loss: 619.7828 - val_accuracy: 0.9775\n",
            "Epoch 6/25\n",
            "31/31 [==============================] - 9s 303ms/step - loss: 22.6721 - accuracy: 0.9761 - val_loss: 619.6038 - val_accuracy: 0.9776\n",
            "Epoch 7/25\n",
            "31/31 [==============================] - 9s 306ms/step - loss: 21.2740 - accuracy: 0.9766 - val_loss: 619.3395 - val_accuracy: 0.9779\n",
            "Epoch 8/25\n",
            "31/31 [==============================] - 9s 304ms/step - loss: 20.1103 - accuracy: 0.9772 - val_loss: 619.0638 - val_accuracy: 0.9788\n",
            "Epoch 9/25\n",
            "31/31 [==============================] - 10s 308ms/step - loss: 18.9632 - accuracy: 0.9781 - val_loss: 618.8093 - val_accuracy: 0.9791\n",
            "Epoch 10/25\n",
            "31/31 [==============================] - 10s 313ms/step - loss: 17.8865 - accuracy: 0.9792 - val_loss: 618.4315 - val_accuracy: 0.9798\n",
            "Epoch 11/25\n",
            "31/31 [==============================] - 9s 303ms/step - loss: 16.8661 - accuracy: 0.9801 - val_loss: 618.1784 - val_accuracy: 0.9800\n",
            "Epoch 12/25\n",
            "31/31 [==============================] - 9s 301ms/step - loss: 15.9539 - accuracy: 0.9808 - val_loss: 617.8508 - val_accuracy: 0.9806\n",
            "Epoch 13/25\n",
            "31/31 [==============================] - 10s 309ms/step - loss: 15.1101 - accuracy: 0.9815 - val_loss: 617.4928 - val_accuracy: 0.9812\n",
            "Epoch 14/25\n",
            "31/31 [==============================] - 10s 312ms/step - loss: 14.3396 - accuracy: 0.9822 - val_loss: 617.2242 - val_accuracy: 0.9815\n",
            "Epoch 15/25\n",
            "31/31 [==============================] - 9s 302ms/step - loss: 13.6724 - accuracy: 0.9830 - val_loss: 616.9049 - val_accuracy: 0.9820\n",
            "Epoch 16/25\n",
            "31/31 [==============================] - 9s 303ms/step - loss: 12.9938 - accuracy: 0.9835 - val_loss: 616.6841 - val_accuracy: 0.9821\n",
            "Epoch 17/25\n",
            "31/31 [==============================] - 9s 306ms/step - loss: 12.3893 - accuracy: 0.9842 - val_loss: 616.3726 - val_accuracy: 0.9825\n",
            "Epoch 18/25\n",
            "31/31 [==============================] - 10s 311ms/step - loss: 11.7783 - accuracy: 0.9848 - val_loss: 616.1861 - val_accuracy: 0.9824\n",
            "Epoch 19/25\n",
            "31/31 [==============================] - 10s 308ms/step - loss: 11.2358 - accuracy: 0.9854 - val_loss: 615.9657 - val_accuracy: 0.9820\n",
            "Epoch 20/25\n",
            "31/31 [==============================] - 9s 300ms/step - loss: 10.8188 - accuracy: 0.9859 - val_loss: 615.6544 - val_accuracy: 0.9829\n",
            "Epoch 21/25\n",
            "31/31 [==============================] - 9s 304ms/step - loss: 10.1680 - accuracy: 0.9867 - val_loss: 615.4529 - val_accuracy: 0.9824\n",
            "Epoch 22/25\n",
            "31/31 [==============================] - 9s 305ms/step - loss: 9.6465 - accuracy: 0.9872 - val_loss: 615.3406 - val_accuracy: 0.9816\n",
            "Epoch 23/25\n",
            "31/31 [==============================] - 10s 310ms/step - loss: 9.2655 - accuracy: 0.9879 - val_loss: 615.0450 - val_accuracy: 0.9819\n",
            "Epoch 24/25\n",
            "31/31 [==============================] - 10s 308ms/step - loss: 8.7390 - accuracy: 0.9884 - val_loss: 614.6751 - val_accuracy: 0.9831\n",
            "Epoch 25/25\n",
            "31/31 [==============================] - 10s 308ms/step - loss: 8.3449 - accuracy: 0.9889 - val_loss: 614.5421 - val_accuracy: 0.9828\n"
          ],
          "name": "stdout"
        }
      ]
    },
    {
      "cell_type": "code",
      "metadata": {
        "id": "LsaMGkJ2_WEt",
        "outputId": "80a8ac12-5be1-4b5b-c3b3-6ff57505ff57",
        "colab": {
          "base_uri": "https://localhost:8080/",
          "height": 51
        }
      },
      "source": [
        "model.evaluate()"
      ],
      "execution_count": null,
      "outputs": [
        {
          "output_type": "stream",
          "text": [
            "8/8 [==============================] - 1s 169ms/step - loss: 614.6654 - accuracy: 0.9847\n",
            "Test Accuracy: 0.9846874475479126\n"
          ],
          "name": "stdout"
        }
      ]
    },
    {
      "cell_type": "code",
      "metadata": {
        "id": "yOAdNfZG_WEw"
      },
      "source": [
        "model.save(\"serialized/histo/\")"
      ],
      "execution_count": null,
      "outputs": []
    },
    {
      "cell_type": "markdown",
      "metadata": {
        "id": "Xa83jh1y14o9"
      },
      "source": [
        "## Reload and predict"
      ]
    },
    {
      "cell_type": "code",
      "metadata": {
        "id": "O7hA1hyFv_s9"
      },
      "source": [
        "embeddings = np.load(\"data/histo/gloveemb.npz\")['embeddings']\n",
        "model = BilstmCrf()\n",
        "\n",
        "model.restore_model(embeddings, \"serialized/glove/\")"
      ],
      "execution_count": null,
      "outputs": []
    },
    {
      "cell_type": "code",
      "metadata": {
        "id": "A_MT2kXQmESe"
      },
      "source": [
        "lines = ['The transfer began on April 9 1942 after the three-month Battle of Bataan in the Philippines during World War II',\n",
        "         \"Astor Pantaleón Piazzolla was an Argentine tango composer bandoneon player and arranger\"]"
      ],
      "execution_count": 2,
      "outputs": []
    },
    {
      "cell_type": "code",
      "metadata": {
        "id": "UZiNCpgMzp55",
        "outputId": "46eed8ef-7ee5-4f0a-b997-cb42f277271b",
        "colab": {
          "base_uri": "https://localhost:8080/",
          "height": 153
        }
      },
      "source": [
        "_ = model.predict(lines)"
      ],
      "execution_count": null,
      "outputs": [
        {
          "output_type": "stream",
          "text": [
            "words: The transfer began  on April 9 1942 after the three-month Battle of Bataan in the Philippines during World War II\n",
            "preds: O   O        B-TIME O  O     O O    O     O   O           O      O  O      O  O   O           O      O     O     \n",
            "\n",
            "\n",
            "words: Astor Pantaleón Piazzolla was    an     Argentine tango  composer bandoneon player and arranger\n",
            "preds: O     O         O         B-TIME I-TIME I-TIME    I-TIME                           O           \n",
            "\n",
            "\n"
          ],
          "name": "stdout"
        }
      ]
    },
    {
      "cell_type": "code",
      "metadata": {
        "id": "TBQylXyC3Hz2",
        "outputId": "c44a39e2-d66a-476f-bb4a-320a849dc00c",
        "colab": {
          "base_uri": "https://localhost:8080/",
          "height": 52
        }
      },
      "source": [
        "import spacy\n",
        "from spacy import displacy\n",
        "\n",
        "nlp = spacy.load(\"en_core_web_md\")\n",
        "doc = nlp(lines[0])\n",
        "\n",
        "displacy.render(doc, style=\"ent\", jupyter=True)"
      ],
      "execution_count": 21,
      "outputs": [
        {
          "output_type": "display_data",
          "data": {
            "text/plain": "<IPython.core.display.HTML object>",
            "text/html": "<span class=\"tex2jax_ignore\"><div class=\"entities\" style=\"line-height: 2.5; direction: ltr\">The transfer began on \n<mark class=\"entity\" style=\"background: #bfe1d9; padding: 0.45em 0.6em; margin: 0 0.25em; line-height: 1; border-radius: 0.35em;\">\n    April 9 1942\n    <span style=\"font-size: 0.8em; font-weight: bold; line-height: 1; border-radius: 0.35em; text-transform: uppercase; vertical-align: middle; margin-left: 0.5rem\">DATE</span>\n</mark>\n after the \n<mark class=\"entity\" style=\"background: #bfe1d9; padding: 0.45em 0.6em; margin: 0 0.25em; line-height: 1; border-radius: 0.35em;\">\n    three-month\n    <span style=\"font-size: 0.8em; font-weight: bold; line-height: 1; border-radius: 0.35em; text-transform: uppercase; vertical-align: middle; margin-left: 0.5rem\">DATE</span>\n</mark>\n Battle of \n<mark class=\"entity\" style=\"background: #feca74; padding: 0.45em 0.6em; margin: 0 0.25em; line-height: 1; border-radius: 0.35em;\">\n    Bataan\n    <span style=\"font-size: 0.8em; font-weight: bold; line-height: 1; border-radius: 0.35em; text-transform: uppercase; vertical-align: middle; margin-left: 0.5rem\">GPE</span>\n</mark>\n in the \n<mark class=\"entity\" style=\"background: #feca74; padding: 0.45em 0.6em; margin: 0 0.25em; line-height: 1; border-radius: 0.35em;\">\n    Philippines\n    <span style=\"font-size: 0.8em; font-weight: bold; line-height: 1; border-radius: 0.35em; text-transform: uppercase; vertical-align: middle; margin-left: 0.5rem\">GPE</span>\n</mark>\n during \n<mark class=\"entity\" style=\"background: #ffeb80; padding: 0.45em 0.6em; margin: 0 0.25em; line-height: 1; border-radius: 0.35em;\">\n    World War II\n    <span style=\"font-size: 0.8em; font-weight: bold; line-height: 1; border-radius: 0.35em; text-transform: uppercase; vertical-align: middle; margin-left: 0.5rem\">EVENT</span>\n</mark>\n</div></span>"
          },
          "metadata": {}
        }
      ]
    }
  ]
}